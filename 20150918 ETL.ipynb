{
 "cells": [
  {
   "cell_type": "code",
   "execution_count": 4,
   "metadata": {
    "collapsed": false
   },
   "outputs": [
    {
     "name": "stdout",
     "output_type": "stream",
     "text": [
      "<!doctype html>\n",
      "<!--[if lt IE 7]>   <html class=\"no-js ie6 lt-ie7 lt-ie8 lt-ie9\">   <![endif]-->\n",
      "<!--[if IE 7]>      <html class=\"no-js ie7 lt-ie8 lt-ie9\">          <![endif]-->\n",
      "<!--[if IE 8]>      <html class=\"no-js ie8 lt-ie9\">                 <![endif]-->\n",
      "<!--[if gt IE 8]><!--><html class=\"no-js\" lang=\"en\" dir=\"ltr\">  <!--<![endif]-->\n",
      "\n",
      "<head>\n",
      "    <meta charset=\"utf-8\">\n",
      "    <meta http-equiv=\"X-UA-Compatible\" content=\"IE=edge\">\n",
      "\n",
      "    <link rel=\"prefetch\" href=\"//ajax.googleapis.com/ajax/libs/jquery/1.8.2/jquery.min.js\">\n",
      "\n",
      "    <meta name=\"application-name\" content=\"Python.org\">\n",
      "    <meta name=\"msapplication-tooltip\" content=\"The official home of the Python Programming Language\">\n",
      "    <meta name=\"apple-mobile-web-app-title\" content=\"Python.org\">\n",
      "    <meta name=\"apple-mobile-web-app-capable\" content=\"yes\">\n",
      "    <meta name=\"apple-mobile-web-app-status-bar-style\" content=\"black\">\n",
      "\n",
      "    <meta name=\"viewport\" content=\"width=device-width, initial-scale=1.0\">\n",
      "    <meta name=\"HandheldFriendly\" content=\"True\">\n",
      "    <meta name=\"format-detection\" content=\"telephone=no\">\n",
      "    <meta http-equiv=\"cleartype\" content=\"on\">\n",
      "    <meta http-equiv=\"imagetoolbar\" content=\"false\">\n",
      "\n",
      "    <script src=\"/static/js/libs/modernizr.js\"></script>\n",
      "\n",
      "    <link href=\"/static/stylesheets/style.css\" rel=\"stylesheet\" type=\"text/css\" title=\"default\" />\n",
      "    <link href=\"/static/stylesheets/mq.css\" rel=\"stylesheet\" type=\"text/css\" media=\"not print, braille, embossed, speech, tty\" />\n",
      "    \n",
      "\n",
      "    <!--[if (lte IE 8)&(!IEMobile)]>\n",
      "    <link href=\"/static/stylesheets/no-mq.css\" rel=\"stylesheet\" type=\"text/css\" media=\"screen\" />\n",
      "    \n",
      "    \n",
      "    <![endif]-->\n",
      "\n",
      "    \n",
      "    <link rel=\"icon\" type=\"image/x-icon\" href=\"/static/favicon.ico\">\n",
      "    <link rel=\"apple-touch-icon-precomposed\" sizes=\"144x144\" href=\"/static/apple-touch-icon-144x144-precomposed.png\">\n",
      "    <link rel=\"apple-touch-icon-precomposed\" sizes=\"114x114\" href=\"/static/apple-touch-icon-114x114-precomposed.png\">\n",
      "    <link rel=\"apple-touch-icon-precomposed\" sizes=\"72x72\" href=\"/static/apple-touch-icon-72x72-precomposed.png\">\n",
      "    <link rel=\"apple-touch-icon-precomposed\" href=\"/static/apple-touch-icon-precomposed.png\">\n",
      "    <link rel=\"apple-touch-icon\" href=\"/static/apple-touch-icon-precomposed.png\">\n",
      "\n",
      "    \n",
      "    <meta name=\"msapplication-TileImage\" content=\"/static/metro-icon-144x144-precomposed.png\"><!-- white shape -->\n",
      "    <meta name=\"msapplication-TileColor\" content=\"#3673a5\"><!-- python blue -->\n",
      "    <meta name=\"msapplication-navbutton-color\" content=\"#3673a5\">\n",
      "\n",
      "    <meta property=\"og:site_name\" content=\"Python.org\">\n",
      "    <meta property=\"og:type\" content=\"website\">\n",
      "\n",
      "    <title>Welcome to Python.org</title>\n",
      "    <meta property=\"og:title\" content=\"Welcome to Python.org\">\n",
      "\n",
      "    \n",
      "    <meta name=\"description\" content=\"The official home of the Python Programming Language\">\n",
      "    <meta name=\"og:description\" content=\"The official home of the Python Programming Language\">\n",
      "    <meta name=\"keywords\" content=\"Python programming language object oriented web free open source software license documentation download community\">\n",
      "    <meta property=\"og:tag\" content=\"Python programming language object oriented web free open source software license documentation download community\">\n",
      "    <meta property=\"og:published_time\" content=\"\">\n",
      "    <meta property=\"og:modified_time\" content=\"\">\n",
      "    <meta property=\"og:author\" content=\"\">\n",
      "    <meta property=\"og:section\" content=\"\"> \n",
      "    <meta property=\"og:url\" content=\"\">\n",
      "    <meta property=\"og:image\" content=\"\">\n",
      "    <meta property=\"og:video\" content=\"\">\n",
      "\n",
      "    <link rel=\"author\" href=\"/static/humans.txt\">\n",
      "\n",
      "    \n",
      "\n",
      "    \n",
      "    <script type=\"application/ld+json\">\n",
      "     {\n",
      "       \"@context\": \"http://schema.org\",\n",
      "       \"@type\": \"WebSite\",\n",
      "       \"url\": \"https://www.python.org/\",\n",
      "       \"potentialAction\": {\n",
      "         \"@type\": \"SearchAction\",\n",
      "         \"target\": \"https://www.python.org/search/?q={search_term_string}\",\n",
      "         \"query-input\": \"required name=search_term_string\"\n",
      "       }\n",
      "     }\n",
      "    </script>\n",
      "\n",
      "    \n",
      "    <script type=\"text/javascript\">\n",
      "    var _gaq = _gaq || [];\n",
      "    _gaq.push(['_setAccount', 'UA-39055973-1']);\n",
      "    _gaq.push(['_trackPageview']);\n",
      "\n",
      "    (function() {\n",
      "        var ga = document.createElement('script'); ga.type = 'text/javascript'; ga.async = true;\n",
      "        ga.src = ('https:' == document.location.protocol ? 'https://ssl' : 'http://www') + '.google-analytics.com/ga.js';\n",
      "        var s = document.getElementsByTagName('script')[0]; s.parentNode.insertBefore(ga, s);\n",
      "    })();\n",
      "    </script>\n",
      "    \n",
      "</head>\n",
      "\n",
      "<body class=\"python home\" id=\"homepage\">\n",
      "\n",
      "    <div id=\"touchnav-wrapper\">\n",
      "\n",
      "        <div id=\"nojs\" class=\"do-not-print\">\n",
      "            <p><strong>Notice:</strong> While Javascript is not essential for this website, your interaction with the content will be limited. Please turn Javascript on for the full experience. </p>\n",
      "        </div>\n",
      "\n",
      "        <!--[if lt IE 8]>\n",
      "        <div id=\"oldie-warning\" class=\"do-not-print\">\n",
      "            <p><strong>Notice:</strong> Your browser is <em>ancient</em> and <a href=\"http://www.ie6countdown.com/\">Microsoft agrees</a>. <a href=\"http://browsehappy.com/\">Upgrade to a different browser</a> or <a href=\"http://www.google.com/chromeframe/?redirect=true\">install Google Chrome Frame</a> to experience a better web.</p>\n",
      "        </div>\n",
      "        <![endif]-->\n",
      "\n",
      "        <!-- Sister Site Links -->\n",
      "        <div id=\"top\" class=\"top-bar do-not-print\">\n",
      "\n",
      "            <nav class=\"meta-navigation container\" role=\"navigation\">\n",
      "\n",
      "                \n",
      "                <div class=\"skip-link screen-reader-text\">\n",
      "                    <a href=\"#content\" title=\"Skip to content\">Skip to content</a>\n",
      "                </div>\n",
      "\n",
      "                \n",
      "                <a id=\"close-python-network\" class=\"jump-link\" href=\"#python-network\" aria-hidden=\"true\">\n",
      "                    <span aria-hidden=\"true\" class=\"icon-arrow-down\"><span>&#9660;</span></span> Close\n",
      "                </a>\n",
      "\n",
      "                \n",
      "\n",
      "<ul class=\"menu\" role=\"tree\">\n",
      "    \n",
      "    <li class=\"python-meta current_item selectedcurrent_branch selected\">\n",
      "        <a href=\"/\" title=\"The Python Programming Language\" class=\"current_item selectedcurrent_branch selected\">Python</a>\n",
      "    </li>\n",
      "    \n",
      "    <li class=\"psf-meta \">\n",
      "        <a href=\"/psf-landing/\" title=\"The Python Software Foundation\" >PSF</a>\n",
      "    </li>\n",
      "    \n",
      "    <li class=\"docs-meta \">\n",
      "        <a href=\"https://docs.python.org\" title=\"Python Documentation\" >Docs</a>\n",
      "    </li>\n",
      "    \n",
      "    <li class=\"pypi-meta \">\n",
      "        <a href=\"https://pypi.python.org/\" title=\"Python Package Index\" >PyPI</a>\n",
      "    </li>\n",
      "    \n",
      "    <li class=\"jobs-meta \">\n",
      "        <a href=\"/jobs/\" title=\"Python Job Board\" >Jobs</a>\n",
      "    </li>\n",
      "    \n",
      "    <li class=\"shop-meta \">\n",
      "        <a href=\"/community/\" title=\"Python Community\" >Community</a>\n",
      "    </li>\n",
      "    \n",
      "</ul>\n",
      "\n",
      "\n",
      "                <a id=\"python-network\" class=\"jump-link\" href=\"#top\" aria-hidden=\"true\">\n",
      "                    <span aria-hidden=\"true\" class=\"icon-arrow-up\"><span>&#9650;</span></span> The Python Network\n",
      "                </a>\n",
      "\n",
      "            </nav>\n",
      "\n",
      "        </div>\n",
      "\n",
      "        <!-- Header elements -->\n",
      "        <header class=\"main-header\" role=\"banner\">\n",
      "            <div class=\"container\">\n",
      "\n",
      "                <h1 class=\"site-headline\">\n",
      "                    <a href=\"/\"><img class=\"python-logo\" src=\"/static/img/python-logo.png\" alt=\"python&trade;\"></a>\n",
      "                </h1>\n",
      "\n",
      "                <div class=\"options-bar do-not-print\">\n",
      "\n",
      "                    \n",
      "                    <a id=\"site-map-link\" class=\"jump-to-menu\" href=\"#site-map\"><span class=\"menu-icon\">&equiv;</span> Menu</a><form class=\"search-the-site\" action=\"/search/\" method=\"get\">\n",
      "                        <fieldset title=\"Search Python.org\">\n",
      "\n",
      "                            <span aria-hidden=\"true\" class=\"icon-search\"></span>\n",
      "\n",
      "                            <label class=\"screen-reader-text\" for=\"id-search-field\">Search This Site</label>\n",
      "                            <input id=\"id-search-field\" name=\"q\" type=\"search\" role=\"textbox\" class=\"search-field\" placeholder=\"Search\" value=\"\" tabindex=\"1\">\n",
      "\n",
      "                            <button type=\"submit\" name=\"submit\" id=\"submit\" class=\"search-button\" title=\"Submit this Search\" tabindex=\"3\">\n",
      "                                GO\n",
      "                            </button>\n",
      "\n",
      "                            \n",
      "                            <!--[if IE]><input type=\"text\" style=\"display: none;\" disabled=\"disabled\" size=\"1\" tabindex=\"4\"><![endif]-->\n",
      "\n",
      "                        </fieldset>\n",
      "                    </form><span class=\"breaker\"></span><div class=\"adjust-font-size\" aria-hidden=\"true\">\n",
      "                        <ul class=\"navigation menu\" aria-label=\"Adjust Text Size on Page\">\n",
      "                            <li class=\"tier-1 last\" aria-haspopup=\"true\">\n",
      "                                <a href=\"#\" class=\"action-trigger\"><strong><small>A</small> A</strong></a>\n",
      "                                <ul class=\"subnav menu\">\n",
      "                                    <li class=\"tier-2 element-1\" role=\"treeitem\"><a class=\"text-shrink\" title=\"Make Text Smaller\" href=\"javascript:;\">Smaller</a></li>\n",
      "                                    <li class=\"tier-2 element-2\" role=\"treeitem\"><a class=\"text-grow\" title=\"Make Text Larger\" href=\"javascript:;\">Larger</a></li>\n",
      "                                    <li class=\"tier-2 element-3\" role=\"treeitem\"><a class=\"text-reset\" title=\"Reset any font size changes I have made\" href=\"javascript:;\">Reset</a></li>\n",
      "                                </ul>\n",
      "                            </li>\n",
      "                        </ul>\n",
      "                    </div><div class=\"winkwink-nudgenudge\">\n",
      "                        <ul class=\"navigation menu\" aria-label=\"Social Media Navigation\">\n",
      "                            <li class=\"tier-1 last\" aria-haspopup=\"true\">\n",
      "                                <a href=\"#\" class=\"action-trigger\">Socialize</a>\n",
      "                                <ul class=\"subnav menu\">\n",
      "                                    <li class=\"tier-2 element-1\" role=\"treeitem\"><a href=\"http://plus.google.com/+Python\"><span aria-hidden=\"true\" class=\"icon-google-plus\"></span>Google+</a></li>\n",
      "                                    <li class=\"tier-2 element-2\" role=\"treeitem\"><a href=\"http://www.facebook.com/pythonlang?fref=ts\"><span aria-hidden=\"true\" class=\"icon-facebook\"></span>Facebook</a></li>\n",
      "                                    <li class=\"tier-2 element-3\" role=\"treeitem\"><a href=\"http://twitter.com/ThePSF\"><span aria-hidden=\"true\" class=\"icon-twitter\"></span>Twitter</a></li>\n",
      "                                    <li class=\"tier-2 element-4\" role=\"treeitem\"><a href=\"/community/irc/\"><span aria-hidden=\"true\" class=\"icon-freenode\"></span>Chat on IRC</a></li>\n",
      "                                </ul>\n",
      "                            </li>\n",
      "                        </ul>\n",
      "                    </div><div class=\"account-signin\">\n",
      "                        <ul class=\"navigation menu\" aria-label=\"Social Media Navigation\">\n",
      "                            <li class=\"tier-1 last\" aria-haspopup=\"true\">\n",
      "                                \n",
      "                                <a href=\"/accounts/login/\" title=\"Sign Up or Sign In to Python.org\">Sign In</a>\n",
      "                                <ul class=\"subnav menu\">\n",
      "                                    <li class=\"tier-2 element-1\" role=\"treeitem\"><a href=\"/accounts/signup/\">Sign Up / Register</a></li>\n",
      "                                    <li class=\"tier-2 element-2\" role=\"treeitem\"><a href=\"/accounts/login/\">Sign In</a></li>\n",
      "                                </ul>\n",
      "                                \n",
      "                            </li>\n",
      "                        </ul>\n",
      "                    </div>\n",
      "\n",
      "                </div><!-- end options-bar -->\n",
      "\n",
      "                <nav id=\"mainnav\" class=\"python-navigation main-navigation do-not-print\" role=\"navigation\">\n",
      "                    \n",
      "                        \n",
      "<ul class=\"navigation menu\" role=\"menubar\" aria-label=\"Main Navigation\">\n",
      "  \n",
      "    \n",
      "    \n",
      "    <li id=\"about\" class=\"tier-1 element-1  \" aria-haspopup=\"true\">\n",
      "        <a href=\"/about/\" title=\"\" class=\"\">About</a>\n",
      "        \n",
      "            \n",
      "\n",
      "<ul class=\"subnav menu\" role=\"menu\" aria-hidden=\"true\">\n",
      "    \n",
      "        <li class=\"tier-2 element-1\" role=\"treeitem\"><a href=\"/about/apps/\" title=\"\">Applications</a></li>\n",
      "    \n",
      "        <li class=\"tier-2 element-2\" role=\"treeitem\"><a href=\"/about/quotes/\" title=\"\">Quotes</a></li>\n",
      "    \n",
      "        <li class=\"tier-2 element-3\" role=\"treeitem\"><a href=\"/about/gettingstarted/\" title=\"\">Getting Started</a></li>\n",
      "    \n",
      "        <li class=\"tier-2 element-4\" role=\"treeitem\"><a href=\"/about/help/\" title=\"\">Help</a></li>\n",
      "    \n",
      "</ul>\n",
      "\n",
      "        \n",
      "    </li>\n",
      "    \n",
      "    \n",
      "    \n",
      "    <li id=\"downloads\" class=\"tier-1 element-2  \" aria-haspopup=\"true\">\n",
      "        <a href=\"/downloads/\" title=\"\" class=\"\">Downloads</a>\n",
      "        \n",
      "            \n",
      "\n",
      "<ul class=\"subnav menu\" role=\"menu\" aria-hidden=\"true\">\n",
      "    \n",
      "        <li class=\"tier-2 element-1\" role=\"treeitem\"><a href=\"/downloads/\" title=\"\">All releases</a></li>\n",
      "    \n",
      "        <li class=\"tier-2 element-2\" role=\"treeitem\"><a href=\"/downloads/source/\" title=\"\">Source code</a></li>\n",
      "    \n",
      "        <li class=\"tier-2 element-3\" role=\"treeitem\"><a href=\"/downloads/windows/\" title=\"\">Windows</a></li>\n",
      "    \n",
      "        <li class=\"tier-2 element-4\" role=\"treeitem\"><a href=\"/downloads/mac-osx/\" title=\"\">Mac OS X</a></li>\n",
      "    \n",
      "        <li class=\"tier-2 element-5\" role=\"treeitem\"><a href=\"/download/other/\" title=\"\">Other Platforms</a></li>\n",
      "    \n",
      "        <li class=\"tier-2 element-6\" role=\"treeitem\"><a href=\"https://docs.python.org/3/license.html\" title=\"\">License</a></li>\n",
      "    \n",
      "        <li class=\"tier-2 element-7\" role=\"treeitem\"><a href=\"/download/alternatives\" title=\"\">Alternative Implementations</a></li>\n",
      "    \n",
      "</ul>\n",
      "\n",
      "        \n",
      "    </li>\n",
      "    \n",
      "    \n",
      "    \n",
      "    <li id=\"documentation\" class=\"tier-1 element-3  \" aria-haspopup=\"true\">\n",
      "        <a href=\"/doc/\" title=\"\" class=\"\">Documentation</a>\n",
      "        \n",
      "            \n",
      "\n",
      "<ul class=\"subnav menu\" role=\"menu\" aria-hidden=\"true\">\n",
      "    \n",
      "        <li class=\"tier-2 element-1\" role=\"treeitem\"><a href=\"/doc/\" title=\"\">Docs</a></li>\n",
      "    \n",
      "        <li class=\"tier-2 element-2\" role=\"treeitem\"><a href=\"/doc/av\" title=\"\">Audio/Visual Talks</a></li>\n",
      "    \n",
      "        <li class=\"tier-2 element-3\" role=\"treeitem\"><a href=\"https://wiki.python.org/moin/BeginnersGuide\" title=\"\">Beginner&#39;s Guide</a></li>\n",
      "    \n",
      "        <li class=\"tier-2 element-4\" role=\"treeitem\"><a href=\"https://docs.python.org/devguide/\" title=\"\">Developer&#39;s Guide</a></li>\n",
      "    \n",
      "        <li class=\"tier-2 element-5\" role=\"treeitem\"><a href=\"https://docs.python.org/faq/\" title=\"\">FAQ</a></li>\n",
      "    \n",
      "        <li class=\"tier-2 element-6\" role=\"treeitem\"><a href=\"http://wiki.python.org/moin/Languages\" title=\"\">Non-English Docs</a></li>\n",
      "    \n",
      "        <li class=\"tier-2 element-7\" role=\"treeitem\"><a href=\"http://python.org/dev/peps/\" title=\"\">PEP Index</a></li>\n",
      "    \n",
      "        <li class=\"tier-2 element-8\" role=\"treeitem\"><a href=\"https://wiki.python.org/moin/PythonBooks\" title=\"\">Python Books</a></li>\n",
      "    \n",
      "</ul>\n",
      "\n",
      "        \n",
      "    </li>\n",
      "    \n",
      "    \n",
      "    \n",
      "    <li id=\"community\" class=\"tier-1 element-4  \" aria-haspopup=\"true\">\n",
      "        <a href=\"/community/\" title=\"\" class=\"\">Community</a>\n",
      "        \n",
      "            \n",
      "\n",
      "<ul class=\"subnav menu\" role=\"menu\" aria-hidden=\"true\">\n",
      "    \n",
      "        <li class=\"tier-2 element-1\" role=\"treeitem\"><a href=\"/community/diversity/\" title=\"\">Diversity</a></li>\n",
      "    \n",
      "        <li class=\"tier-2 element-2\" role=\"treeitem\"><a href=\"/community/irc/\" title=\"\">IRC</a></li>\n",
      "    \n",
      "        <li class=\"tier-2 element-3\" role=\"treeitem\"><a href=\"/community/lists/\" title=\"\">Mailing Lists</a></li>\n",
      "    \n",
      "        <li class=\"tier-2 element-4\" role=\"treeitem\"><a href=\"/community/workshops/\" title=\"\">Python Conferences</a></li>\n",
      "    \n",
      "        <li class=\"tier-2 element-5\" role=\"treeitem\"><a href=\"/community/sigs/\" title=\"\">Special Interest Groups</a></li>\n",
      "    \n",
      "        <li class=\"tier-2 element-6\" role=\"treeitem\"><a href=\"https://wiki.python.org/moin/\" title=\"\">Python Wiki</a></li>\n",
      "    \n",
      "        <li class=\"tier-2 element-7\" role=\"treeitem\"><a href=\"/community/logos/\" title=\"\">Python Logo</a></li>\n",
      "    \n",
      "        <li class=\"tier-2 element-8\" role=\"treeitem\"><a href=\"/community/merchandise/\" title=\"\">Merchandise</a></li>\n",
      "    \n",
      "        <li class=\"tier-2 element-9\" role=\"treeitem\"><a href=\"/community/awards\" title=\"\">Community Awards</a></li>\n",
      "    \n",
      "</ul>\n",
      "\n",
      "        \n",
      "    </li>\n",
      "    \n",
      "    \n",
      "    \n",
      "    <li id=\"success-stories\" class=\"tier-1 element-5  \" aria-haspopup=\"true\">\n",
      "        <a href=\"/about/success/\" title=\"success-stories\" class=\"\">Success Stories</a>\n",
      "        \n",
      "            \n",
      "\n",
      "<ul class=\"subnav menu\" role=\"menu\" aria-hidden=\"true\">\n",
      "    \n",
      "        <li class=\"tier-2 element-1\" role=\"treeitem\"><a href=\"/about/success/#arts\" title=\"\">Arts</a></li>\n",
      "    \n",
      "        <li class=\"tier-2 element-2\" role=\"treeitem\"><a href=\"/about/success/#business\" title=\"\">Business</a></li>\n",
      "    \n",
      "        <li class=\"tier-2 element-3\" role=\"treeitem\"><a href=\"/about/success/#education\" title=\"\">Education</a></li>\n",
      "    \n",
      "        <li class=\"tier-2 element-4\" role=\"treeitem\"><a href=\"/about/success/#engineering\" title=\"\">Engineering</a></li>\n",
      "    \n",
      "        <li class=\"tier-2 element-5\" role=\"treeitem\"><a href=\"/about/success/#government\" title=\"\">Government</a></li>\n",
      "    \n",
      "        <li class=\"tier-2 element-6\" role=\"treeitem\"><a href=\"/about/success/#scientific\" title=\"\">Scientific</a></li>\n",
      "    \n",
      "        <li class=\"tier-2 element-7\" role=\"treeitem\"><a href=\"/about/success/#software-development\" title=\"\">Software Development</a></li>\n",
      "    \n",
      "</ul>\n",
      "\n",
      "        \n",
      "    </li>\n",
      "    \n",
      "    \n",
      "    \n",
      "    <li id=\"news\" class=\"tier-1 element-6  \" aria-haspopup=\"true\">\n",
      "        <a href=\"/blogs/\" title=\"News from around the Python world\" class=\"\">News</a>\n",
      "        \n",
      "            \n",
      "\n",
      "<ul class=\"subnav menu\" role=\"menu\" aria-hidden=\"true\">\n",
      "    \n",
      "        <li class=\"tier-2 element-1\" role=\"treeitem\"><a href=\"/blogs/\" title=\"Python Insider Blog Posts\">Python News</a></li>\n",
      "    \n",
      "        <li class=\"tier-2 element-2\" role=\"treeitem\"><a href=\"http://planetpython.org/\" title=\"Planet Python\">Community News</a></li>\n",
      "    \n",
      "        <li class=\"tier-2 element-3\" role=\"treeitem\"><a href=\"http://pyfound.blogspot.com/\" title=\"PSF Blog\">PSF News</a></li>\n",
      "    \n",
      "        <li class=\"tier-2 element-4\" role=\"treeitem\"><a href=\"http://pycon.blogspot.com/\" title=\"PyCon Blog\">PyCon News</a></li>\n",
      "    \n",
      "</ul>\n",
      "\n",
      "        \n",
      "    </li>\n",
      "    \n",
      "    \n",
      "    \n",
      "    <li id=\"events\" class=\"tier-1 element-7  \" aria-haspopup=\"true\">\n",
      "        <a href=\"/events/\" title=\"\" class=\"\">Events</a>\n",
      "        \n",
      "            \n",
      "\n",
      "<ul class=\"subnav menu\" role=\"menu\" aria-hidden=\"true\">\n",
      "    \n",
      "        <li class=\"tier-2 element-1\" role=\"treeitem\"><a href=\"/events/python-events/\" title=\"\">Python Events</a></li>\n",
      "    \n",
      "        <li class=\"tier-2 element-2\" role=\"treeitem\"><a href=\"/events/python-user-group/\" title=\"\">User Group Events</a></li>\n",
      "    \n",
      "        <li class=\"tier-2 element-3\" role=\"treeitem\"><a href=\"/events/python-events/past/\" title=\"\">Python Events Archive</a></li>\n",
      "    \n",
      "        <li class=\"tier-2 element-4\" role=\"treeitem\"><a href=\"/events/python-user-group/past/\" title=\"\">User Group Events Archive</a></li>\n",
      "    \n",
      "        <li class=\"tier-2 element-5\" role=\"treeitem\"><a href=\"https://wiki.python.org/moin/PythonEventsCalendar#Submitting_an_Event\" title=\"\">Submit an Event</a></li>\n",
      "    \n",
      "</ul>\n",
      "\n",
      "        \n",
      "    </li>\n",
      "    \n",
      "    \n",
      "    \n",
      "    \n",
      "  \n",
      "</ul>\n",
      "\n",
      "                    \n",
      "                </nav>\n",
      "\n",
      "                <div class=\"header-banner \"> <!-- for optional \"do-not-print\" class -->\n",
      "                    \n",
      "        <div id=\"dive-into-python\" class=\"flex-slideshow slideshow\">\n",
      "\n",
      "            <ul class=\"launch-shell menu\" id=\"launch-shell\">\n",
      "                <li>\n",
      "                    <a class=\"button prompt\" id=\"start-shell\" data-shell-container=\"#dive-into-python\" href=\"/shell/\">&gt;_\n",
      "                        <span class=\"message\">Launch Interactive Shell</span>\n",
      "                    </a>\n",
      "                </li>\n",
      "            </ul>\n",
      "\n",
      "            <ul class=\"slides menu\">\n",
      "                \n",
      "                <li>\n",
      "                    <div class=\"slide-code\"><pre><code><span class=\"comment\"># Python 3: Fibonacci series up to n</span>\r\n",
      ">>> def fib(n):\r\n",
      ">>>     a, b = 0, 1\r\n",
      ">>>     while a &lt; n:\r\n",
      ">>>         print(a, end=' ')\r\n",
      ">>>         a, b = b, a+b\r\n",
      ">>>     print()\r\n",
      ">>> fib(1000)\r\n",
      "<span class=\"output\">0 1 1 2 3 5 8 13 21 34 55 89 144 233 377 610 987</span></code></pre></div>\n",
      "                    <div class=\"slide-copy\"><h1>Functions Defined</h1>\r\n",
      "<p>The core of extensible programming is defining functions. Python allows mandatory and optional arguments, keyword arguments, and even arbitrary argument lists. <a href=\"//docs.python.org/3/tutorial/controlflow.html#defining-functions\">More about defining functions in Python&nbsp;3</a></p></div>\n",
      "                </li>\n",
      "                \n",
      "                <li>\n",
      "                    <div class=\"slide-code\"><pre><code><span class=\"comment\"># Python 3: List comprehensions</span>\r\n",
      ">>> fruits = ['Banana', 'Apple', 'Lime']\r\n",
      ">>> loud_fruits = [fruit.upper() for fruit in fruits]\r\n",
      ">>> print(loud_fruits)\r\n",
      "<span class=\"output\">['BANANA', 'APPLE', 'LIME']</span>\r\n",
      "\r\n",
      "<span class=\"comment\"># List and the enumerate function</span>\r\n",
      ">>> list(enumerate(fruits))\r\n",
      "<span class=\"output\">[(0, 'Banana'), (1, 'Apple'), (2, 'Lime')]</span></code></pre></div>\n",
      "                    <div class=\"slide-copy\"><h1>Compound Data Types</h1>\r\n",
      "<p>Lists (known as arrays in other languages) are one of the compound data types that Python understands. Lists can be indexed, sliced and manipulated with other built-in functions. <a href=\"//docs.python.org/3/tutorial/introduction.html#lists\">More about lists in Python&nbsp;3</a></p></div>\n",
      "                </li>\n",
      "                \n",
      "                <li>\n",
      "                    <div class=\"slide-code\"><pre><code><span class=\"comment\"># Python 3: Simple arithmetic</span>\r\n",
      ">>> 1 / 2\r\n",
      "<span class=\"output\">0.5</span>\r\n",
      ">>> 2 ** 3\r\n",
      "<span class=\"output\">8</span>\r\n",
      ">>> 17 / 3  <span class=\"comment\"># classic division returns a float</span>\r\n",
      "<span class=\"output\">5.666666666666667</span>\r\n",
      ">>> 17 // 3  <span class=\"comment\"># floor division</span>\r\n",
      "<span class=\"output\">5</span></code></pre></div>\n",
      "                    <div class=\"slide-copy\"><h1>Intuitive Interpretation</h1>\r\n",
      "<p>Calculations are simple with Python, and expression syntax is straightforward: the operators <code>+</code>, <code>-</code>, <code>*</code> and <code>/</code> work as expected; parentheses <code>()</code> can be used for grouping. <a href=\"http://docs.python.org/3/tutorial/introduction.html#using-python-as-a-calculator\">More about simple math functions in Python&nbsp;3</a>.</p></div>\n",
      "                </li>\n",
      "                \n",
      "                <li>\n",
      "                    <div class=\"slide-code\"><pre><code><span class=\"comment\"># Python 3: Simple output (with Unicode)</span>\r\n",
      ">>> print(\"Hello, I'm Python!\")\r\n",
      "<span class=\"output\">Hello, I'm Python!</span>\r\n",
      "\r\n",
      "<span class=\"comment\"># Input, assignment</span>\r\n",
      ">>> name = input('What is your name?\\n')\r\n",
      ">>> print('Hi, %s.' % name)\r\n",
      "<span class=\"output\">What is your name?\r\n",
      "Python\r\n",
      "Hi, Python.</span></code></pre></div>\n",
      "                    <div class=\"slide-copy\"><h1>Quick &amp; Easy to Learn</h1>\r\n",
      "<p>Experienced programmers in any other language can pick up Python very quickly, and beginners find the clean syntax and indentation structure easy to learn. <a href=\"//docs.python.org/3/tutorial/\">Whet your appetite</a> with our Python&nbsp;3 overview.</p>\r\n",
      "                   </div>\n",
      "                </li>\n",
      "                \n",
      "                <li>\n",
      "                    <div class=\"slide-code\"><pre><code><span class=\\\"comment\\\"># For loop on a list</span>\r\n",
      ">>> numbers = [2, 4, 6, 8]\r\n",
      ">>> product = 1\r\n",
      ">>> for number in numbers:\r\n",
      "...    product = product * number\r\n",
      "... \r\n",
      ">>> print('The product is:', product)\r\n",
      "<span class=\\\"output\\\">The product is: 384</span></code></pre></div>\n",
      "                    <div class=\"slide-copy\"><h1>All the Flow You&rsquo;d Expect</h1>\r\n",
      "<p>Python knows the usual control flow statements that other languages speak &mdash; <code>if</code>, <code>for</code>, <code>while</code> and <code>range</code> &mdash; with some of its own twists, of course. <a href=\"//docs.python.org/3/tutorial/controlflow.html\">More control flow tools in Python&nbsp;3</a></p></div>\n",
      "                </li>\n",
      "                \n",
      "            </ul>\n",
      "        </div>\n",
      "\n",
      "\n",
      "                </div>\n",
      "\n",
      "                \n",
      "        <div class=\"introduction\">\n",
      "            <p>Python is a programming language that lets you work quickly <span class=\"breaker\"></span>and integrate systems more effectively. <a class=\"readmore\" href=\"/doc/\">Learn More</a></p>\n",
      "        </div>\n",
      "\n",
      "\n",
      "             </div><!-- end .container -->\n",
      "        </header>\n",
      "\n",
      "        <div id=\"content\" class=\"content-wrapper\">\n",
      "            <!-- Main Content Column -->\n",
      "            <div class=\"container\">\n",
      "\n",
      "                <section class=\"main-content \" role=\"main\">\n",
      "\n",
      "                    \n",
      "                    \n",
      "\n",
      "                    \n",
      "\n",
      "                <div class=\"row\">\n",
      "\n",
      "                    <div class=\"small-widget get-started-widget\">\n",
      "                        <h2 class=\"widget-title\"><span aria-hidden=\"true\" class=\"icon-get-started\"></span>Get Started</h2>\r\n",
      "<p>Whether you're new to programming or an experienced developer, it's easy to learn and use Python.</p>\r\n",
      "<p><a href=\"/about/gettingstarted/\">Start with our Beginner&rsquo;s Guide</a></p>\n",
      "                    </div>\n",
      "\n",
      "                    <div class=\"small-widget download-widget\">\n",
      "                        <h2 class=\"widget-title\"><span aria-hidden=\"true\" class=\"icon-download\"></span>Download</h2>\n",
      "<p>Python source code and installers are available for download for all versions! Not sure which version to use? <a href=\"https://wiki.python.org/moin/Python2orPython3\">Check here</a>.</p>\n",
      "<p>Latest: <a href=\"/downloads/release/python-350/\">Python 3.5.0</a> - <a href=\"/downloads/release/python-2710/\">Python 2.7.10</a></p>\n",
      "                    </div>\n",
      "\n",
      "                    <div class=\"small-widget documentation-widget\">\n",
      "                        <h2 class=\"widget-title\"><span aria-hidden=\"true\" class=\"icon-documentation\"></span>Docs</h2>\r\n",
      "<p>Documentation for Python's standard library, along with tutorials and guides, are available online.</p>\r\n",
      "<p><a href=\"https://docs.python.org\">docs.python.org</a></p>\n",
      "                    </div>\n",
      "\n",
      "                    <div class=\"small-widget jobs-widget last\">\n",
      "                        <h2 class=\"widget-title\"><span aria-hidden=\"true\" class=\"icon-jobs\"></span>Jobs</h2>\r\n",
      "<p>Looking for work or have a Python related position that you're trying to hire for? Our <strong>relaunched community-run job board</strong> is the place to go.</p>\r\n",
      "<p><a href=\"//jobs.python.org\">jobs.python.org</a></p>\n",
      "                    </div>\n",
      "\n",
      "                </div>\n",
      "\n",
      "                <div class=\"list-widgets row\">\n",
      "\n",
      "                    <div class=\"medium-widget blog-widget\">\n",
      "                        \n",
      "                        <div class=\"shrubbery\">\n",
      "                        \n",
      "                            <h2 class=\"widget-title\"><span aria-hidden=\"true\" class=\"icon-news\"></span>Latest News</h2>\n",
      "                            <p class=\"give-me-more\"><a href=\"http://blog.python.org\" title=\"More News\">More</a></p>\n",
      "                            \n",
      "                            <ul class=\"menu\">\n",
      "                                \n",
      "                                \n",
      "                                <li>\n",
      "<time datetime=\"2015-09-13T14:28:00.000006+00:00\"><span class=\"say-no-more\">2015-</span>09-13</time>\n",
      " <a href=\"http://feedproxy.google.com/~r/PythonInsider/~3/a6zwstMbRrg/python-350-has-been-released.html\">Python 3.5.0 is now&nbsp;available for download. Python 3.5.0 is the ...</a></li>\n",
      "                                \n",
      "                                <li>\n",
      "<time datetime=\"2015-09-09T13:43:00.000002+00:00\"><span class=\"say-no-more\">2015-</span>09-09</time>\n",
      " <a href=\"http://feedproxy.google.com/~r/PythonInsider/~3/D-XkdrMEtE0/python-350-release-candidate-4-released.html\">Python 3.5.0rc4 is now&nbsp;available for download. This is a last-minute ...</a></li>\n",
      "                                \n",
      "                                <li>\n",
      "<time datetime=\"2015-09-08T01:37:00.000001+00:00\"><span class=\"say-no-more\">2015-</span>09-08</time>\n",
      " <a href=\"http://feedproxy.google.com/~r/PythonInsider/~3/wxPYPcIYdqo/python-350-release-candidate-3-released.html\">Python 3.5.0rc3 is now&nbsp;available for download.This is a preview release, ...</a></li>\n",
      "                                \n",
      "                                <li>\n",
      "<time datetime=\"2015-08-11T00:34:40.000001+00:00\"><span class=\"say-no-more\">2015-</span>08-11</time>\n",
      " <a href=\"http://feedproxy.google.com/~r/PythonInsider/~3/a1yIx-RxQW4/python-3.html\">Python 3.5.0rc1 is now&nbsp;available for download. This is a preview ...</a></li>\n",
      "                                \n",
      "                                <li>\n",
      "<time datetime=\"2015-07-05T17:22:00.000006+00:00\"><span class=\"say-no-more\">2015-</span>07-05</time>\n",
      " <a href=\"http://feedproxy.google.com/~r/PythonInsider/~3/4Fo1tWPI_P0/python-350b3-released.html\">Python 3.5.0b3 is now&nbsp;available for download. This is a preview ...</a></li>\n",
      "                                \n",
      "                            </ul>\n",
      "                        </div><!-- end .shrubbery -->\n",
      "\n",
      "                    </div>\n",
      "\n",
      "                    <div class=\"medium-widget event-widget last\">\n",
      "                        \n",
      "                        <div class=\"shrubbery\">\n",
      "                        \n",
      "                            <h2 class=\"widget-title\"><span aria-hidden=\"true\" class=\"icon-calendar\"></span>Upcoming Events</h2>\n",
      "                            <p class=\"give-me-more\"><a href=\"/events/calendars/\" title=\"More Events\">More</a></p>\n",
      "                            \n",
      "                            <ul class=\"menu\">\n",
      "                                \n",
      "                                \n",
      "                                \n",
      "                                <li>\n",
      "<time datetime=\"2015-09-19T00:00:00+00:00\"><span class=\"say-no-more\">2015-</span>09-19</time>\n",
      " <a href=\"/events/python-events/348/\">PyConChina 2015 - Beijing</a></li>\n",
      "                                \n",
      "                                \n",
      "                                \n",
      "                                <li>\n",
      "<time datetime=\"2015-09-20T00:00:00+00:00\"><span class=\"say-no-more\">2015-</span>09-20</time>\n",
      " <a href=\"/events/python-events/347/\">PyConChina 2015 - Hangzhou</a></li>\n",
      "                                \n",
      "                                \n",
      "                                \n",
      "                                <li>\n",
      "<time datetime=\"2015-09-24T16:00:00+00:00\"><span class=\"say-no-more\">2015-</span>09-24</time>\n",
      " <a href=\"/events/python-user-group/345/\">PyData Warsaw #1</a></li>\n",
      "                                \n",
      "                                \n",
      "                                \n",
      "                                <li>\n",
      "<time datetime=\"2015-09-25T00:00:00+00:00\"><span class=\"say-no-more\">2015-</span>09-25</time>\n",
      " <a href=\"/events/python-events/322/\">PyTexas 2015</a></li>\n",
      "                                \n",
      "                                \n",
      "                                \n",
      "                                <li>\n",
      "<time datetime=\"2015-09-26T00:00:00+00:00\"><span class=\"say-no-more\">2015-</span>09-26</time>\n",
      " <a href=\"/events/python-user-group/351/\">PyDDF Python Sprint 2015</a></li>\n",
      "                                \n",
      "                                \n",
      "                            </ul>\n",
      "                        </div>\n",
      "\n",
      "                    </div>\n",
      "\n",
      "                </div>\n",
      "\n",
      "                <div class=\"row\">\n",
      "\n",
      "                    <div class=\"medium-widget success-stories-widget\">\n",
      "                        \n",
      "\n",
      "                        <div class=\"shrubbery\">\n",
      "                            \n",
      "\n",
      "                            <h2 class=\"widget-title\"><span aria-hidden=\"true\" class=\"icon-success-stories\"></span>Success Stories</h2>\n",
      "                            <p class=\"give-me-more\"><a href=\"/success-stories/\" title=\"More Success Stories\">More</a></p>\n",
      "\n",
      "                            \n",
      "                            <div class=\"success-story-item\" data-weight=\"0\" id=\"success-story-2\" style=\"display: none;\">\n",
      "\n",
      "                            <blockquote>\n",
      "                                <a href=\"/success-stories/industrial-light-magic-runs-python/\">ILM runs a batch processing environment capable of modeling, rendering and compositing tens of thousands of motion picture frames per day. Thousands of machines running Linux, IRIX, Compaq Tru64, OS X, Solaris, and Windows join together to provide a production pipeline used by ~800 users daily. Speed of development is key, and Python was a faster way to code (and re-code) the programs that control this production pipeline.</a>\n",
      "                            </blockquote>\n",
      "\n",
      "                            <table cellpadding=\"0\" cellspacing=\"0\" border=\"0\" width=\"100%\" class=\"quote-from\">\n",
      "                                <tbody>\n",
      "                                    <tr>\n",
      "                                        \n",
      "                                        <td><p><a href=\"/success-stories/industrial-light-magic-runs-python/\">Industrial Light &amp; Magic Runs on Python</a> <em>by Tim Fortenberry</em></p></td>\n",
      "                                    </tr>\n",
      "                                </tbody>\n",
      "                            </table>\n",
      "                            </div>\n",
      "                            \n",
      "\n",
      "                        </div><!-- end .shrubbery -->\n",
      "\n",
      "                    </div>\n",
      "\n",
      "                    <div class=\"medium-widget applications-widget last\">\n",
      "                        <div class=\"shrubbery\">\n",
      "                            <h2 class=\"widget-title\"><span aria-hidden=\"true\" class=\"icon-python\"></span>Use Python for&hellip;</h2>\r\n",
      "<p class=\"give-me-more\"><a href=\"/about/apps\" title=\"More Applications\">More</a></p>\r\n",
      "\r\n",
      "<ul class=\"menu\">\r\n",
      "    <li><b>Web Programming</b>:\r\n",
      "        <span class=\"tag-wrapper\"><a class=\"tag\" href=\"http://www.djangoproject.com/\">Django</a>, <a class=\"tag\" href=\"http://www.pylonsproject.org/\">Pyramid</a>, <a class=\"tag\" href=\"http://bottlepy.org\">Bottle</a>, <a class=\"tag\" href=\"http://tornadoweb.org\">Tornado</a>, <a href=\"http://flask.pocoo.org/\" class=\"tag\">Flask</a>, <a class=\"tag\" href=\"http://www.web2py.com/\">web2py</a></span></li>\r\n",
      "    <li><b>GUI Development</b>:\r\n",
      "        <span class=\"tag-wrapper\"><a class=\"tag\" href=\"http://www.wxpython.org/\">wxPython</a>, <a class=\"tag\" href=\"http://wiki.python.org/moin/TkInter\">tkInter</a>, <a class=\"tag\" href=\"http://www.pygtk.org\">PyGtk</a>, <a class=\"tag\" href=\"https://wiki.gnome.org/Projects/PyGObject\">PyGObject</a>, <a class=\"tag\" href=\"http://www.riverbankcomputing.co.uk/software/pyqt/intro\">PyQt</a></span></li>\r\n",
      "    <li><b>Scientific and Numeric</b>:\r\n",
      "        <span class=\"tag-wrapper\">\r\n",
      "<a class=\"tag\" href=\"http://www.scipy.org\">SciPy</a>, <a class=\"tag\" href=\"http://pandas.pydata.org/\">Pandas</a>, <a href=\"http://ipython.org\" class=\"tag\">IPython</a></span></li>\r\n",
      "    <li><b>Software Development</b>:\r\n",
      "        <span class=\"tag-wrapper\"><a class=\"tag\" href=\"http://buildbot.net/\">Buildbot</a>, <a class=\"tag\" href=\"http://trac.edgewall.org/\">Trac</a>, <a class=\"tag\" href=\"http://roundup.sourceforge.net/\">Roundup</a></span></li>\r\n",
      "    <li><b>System Administration</b>:\r\n",
      "        <span class=\"tag-wrapper\"><a class=\"tag\" href=\"http://www.ansible.com\">Ansible</a>, <a class=\"tag\" href=\"http://www.saltstack.com\">Salt</a>, <a class=\"tag\" href=\"https://www.openstack.org\">OpenStack</a></span></li>\r\n",
      "</ul>\r\n",
      "\n",
      "                        </div><!-- end .shrubbery -->\n",
      "                    </div>\n",
      "\n",
      "                </div>\n",
      "\n",
      "                \n",
      "                <div class=\"pep-widget\">\n",
      "\n",
      "                    <h2 class=\"widget-title\">\n",
      "                        <span class=\"prompt\">&gt;&gt;&gt;</span> <a href=\"/dev/peps/\">Python Enhancement Proposals<span class=\"say-no-more\"> (PEPs)</span></a>: The future of Python<span class=\"say-no-more\"> is discussed here.</span>\n",
      "                        <a aria-hidden=\"true\" class=\"rss-link\" href=\"/dev/peps/peps.rss\"><span class=\"icon-feed\"></span> RSS</a>\n",
      "                    </h2>\n",
      "\n",
      "\n",
      "                    \n",
      "                    \n",
      "                </div>\n",
      "\n",
      "                                <div class=\"psf-widget\">\n",
      "\n",
      "                    <div class=\"python-logo\"></div>\n",
      "                    \n",
      "                    <h2 class=\"widget-title\">\r\n",
      "    <span class=\"prompt\">&gt;&gt;&gt;</span> <a href=\"/psf/\">Python Software Foundation</a>\r\n",
      "</h2>\r\n",
      "<p>The mission of the Python Software Foundation is to promote, protect, and advance the Python programming language, and to support and facilitate the growth of a diverse and international community of Python programmers. <a class=\"readmore\" href=\"/psf/\">Learn more</a> </p>\r\n",
      "<p class=\"click-these\">\r\n",
      "    <a class=\"button\" href=\"/users/membership/\">Become a Member</a>\r\n",
      "    <a class=\"button\" href=\"/psf/donations/\">Donate to the PSF</a>\r\n",
      "</p>\n",
      "                </div>\n",
      "\n",
      "\n",
      "\n",
      "\n",
      "                </section>\n",
      "\n",
      "                \n",
      "                \n",
      "\n",
      "                \n",
      "                \n",
      "\n",
      "\n",
      "            </div><!-- end .container -->\n",
      "        </div><!-- end #content .content-wrapper -->\n",
      "\n",
      "        <!-- Footer and social media list -->\n",
      "        <footer id=\"site-map\" class=\"main-footer\" role=\"contentinfo\">\n",
      "            <div class=\"main-footer-links\">\n",
      "                <div class=\"container\">\n",
      "\n",
      "                    \n",
      "                    <a id=\"back-to-top-1\" class=\"jump-link\" href=\"#python-network\"><span aria-hidden=\"true\" class=\"icon-arrow-up\"><span>&#9650;</span></span> Back to Top</a>\n",
      "\n",
      "                    \n",
      "\n",
      "<ul class=\"sitemap navigation menu do-not-print\" role=\"tree\" id=\"container\">\n",
      "    \n",
      "    <li class=\"tier-1 element-1\">\n",
      "        <a href=\"/about/\" >About</a>\n",
      "        \n",
      "            \n",
      "\n",
      "<ul class=\"subnav menu\">\n",
      "    \n",
      "        <li class=\"tier-2 element-1\" role=\"treeitem\"><a href=\"/about/apps/\" title=\"\">Applications</a></li>\n",
      "    \n",
      "        <li class=\"tier-2 element-2\" role=\"treeitem\"><a href=\"/about/quotes/\" title=\"\">Quotes</a></li>\n",
      "    \n",
      "        <li class=\"tier-2 element-3\" role=\"treeitem\"><a href=\"/about/gettingstarted/\" title=\"\">Getting Started</a></li>\n",
      "    \n",
      "        <li class=\"tier-2 element-4\" role=\"treeitem\"><a href=\"/about/help/\" title=\"\">Help</a></li>\n",
      "    \n",
      "</ul>\n",
      "\n",
      "        \n",
      "    </li>\n",
      "    \n",
      "    <li class=\"tier-1 element-2\">\n",
      "        <a href=\"/downloads/\" >Downloads</a>\n",
      "        \n",
      "            \n",
      "\n",
      "<ul class=\"subnav menu\">\n",
      "    \n",
      "        <li class=\"tier-2 element-1\" role=\"treeitem\"><a href=\"/downloads/\" title=\"\">All releases</a></li>\n",
      "    \n",
      "        <li class=\"tier-2 element-2\" role=\"treeitem\"><a href=\"/downloads/source/\" title=\"\">Source code</a></li>\n",
      "    \n",
      "        <li class=\"tier-2 element-3\" role=\"treeitem\"><a href=\"/downloads/windows/\" title=\"\">Windows</a></li>\n",
      "    \n",
      "        <li class=\"tier-2 element-4\" role=\"treeitem\"><a href=\"/downloads/mac-osx/\" title=\"\">Mac OS X</a></li>\n",
      "    \n",
      "        <li class=\"tier-2 element-5\" role=\"treeitem\"><a href=\"/download/other/\" title=\"\">Other Platforms</a></li>\n",
      "    \n",
      "        <li class=\"tier-2 element-6\" role=\"treeitem\"><a href=\"https://docs.python.org/3/license.html\" title=\"\">License</a></li>\n",
      "    \n",
      "        <li class=\"tier-2 element-7\" role=\"treeitem\"><a href=\"/download/alternatives\" title=\"\">Alternative Implementations</a></li>\n",
      "    \n",
      "</ul>\n",
      "\n",
      "        \n",
      "    </li>\n",
      "    \n",
      "    <li class=\"tier-1 element-3\">\n",
      "        <a href=\"/doc/\" >Documentation</a>\n",
      "        \n",
      "            \n",
      "\n",
      "<ul class=\"subnav menu\">\n",
      "    \n",
      "        <li class=\"tier-2 element-1\" role=\"treeitem\"><a href=\"/doc/\" title=\"\">Docs</a></li>\n",
      "    \n",
      "        <li class=\"tier-2 element-2\" role=\"treeitem\"><a href=\"/doc/av\" title=\"\">Audio/Visual Talks</a></li>\n",
      "    \n",
      "        <li class=\"tier-2 element-3\" role=\"treeitem\"><a href=\"https://wiki.python.org/moin/BeginnersGuide\" title=\"\">Beginner&#39;s Guide</a></li>\n",
      "    \n",
      "        <li class=\"tier-2 element-4\" role=\"treeitem\"><a href=\"https://docs.python.org/devguide/\" title=\"\">Developer&#39;s Guide</a></li>\n",
      "    \n",
      "        <li class=\"tier-2 element-5\" role=\"treeitem\"><a href=\"https://docs.python.org/faq/\" title=\"\">FAQ</a></li>\n",
      "    \n",
      "        <li class=\"tier-2 element-6\" role=\"treeitem\"><a href=\"http://wiki.python.org/moin/Languages\" title=\"\">Non-English Docs</a></li>\n",
      "    \n",
      "        <li class=\"tier-2 element-7\" role=\"treeitem\"><a href=\"http://python.org/dev/peps/\" title=\"\">PEP Index</a></li>\n",
      "    \n",
      "        <li class=\"tier-2 element-8\" role=\"treeitem\"><a href=\"https://wiki.python.org/moin/PythonBooks\" title=\"\">Python Books</a></li>\n",
      "    \n",
      "</ul>\n",
      "\n",
      "        \n",
      "    </li>\n",
      "    \n",
      "    <li class=\"tier-1 element-4\">\n",
      "        <a href=\"/community/\" >Community</a>\n",
      "        \n",
      "            \n",
      "\n",
      "<ul class=\"subnav menu\">\n",
      "    \n",
      "        <li class=\"tier-2 element-1\" role=\"treeitem\"><a href=\"/community/diversity/\" title=\"\">Diversity</a></li>\n",
      "    \n",
      "        <li class=\"tier-2 element-2\" role=\"treeitem\"><a href=\"/community/irc/\" title=\"\">IRC</a></li>\n",
      "    \n",
      "        <li class=\"tier-2 element-3\" role=\"treeitem\"><a href=\"/community/lists/\" title=\"\">Mailing Lists</a></li>\n",
      "    \n",
      "        <li class=\"tier-2 element-4\" role=\"treeitem\"><a href=\"/community/workshops/\" title=\"\">Python Conferences</a></li>\n",
      "    \n",
      "        <li class=\"tier-2 element-5\" role=\"treeitem\"><a href=\"/community/sigs/\" title=\"\">Special Interest Groups</a></li>\n",
      "    \n",
      "        <li class=\"tier-2 element-6\" role=\"treeitem\"><a href=\"https://wiki.python.org/moin/\" title=\"\">Python Wiki</a></li>\n",
      "    \n",
      "        <li class=\"tier-2 element-7\" role=\"treeitem\"><a href=\"/community/logos/\" title=\"\">Python Logo</a></li>\n",
      "    \n",
      "        <li class=\"tier-2 element-8\" role=\"treeitem\"><a href=\"/community/merchandise/\" title=\"\">Merchandise</a></li>\n",
      "    \n",
      "        <li class=\"tier-2 element-9\" role=\"treeitem\"><a href=\"/community/awards\" title=\"\">Community Awards</a></li>\n",
      "    \n",
      "</ul>\n",
      "\n",
      "        \n",
      "    </li>\n",
      "    \n",
      "    <li class=\"tier-1 element-5\">\n",
      "        <a href=\"/about/success/\" title=\"success-stories\">Success Stories</a>\n",
      "        \n",
      "            \n",
      "\n",
      "<ul class=\"subnav menu\">\n",
      "    \n",
      "        <li class=\"tier-2 element-1\" role=\"treeitem\"><a href=\"/about/success/#arts\" title=\"\">Arts</a></li>\n",
      "    \n",
      "        <li class=\"tier-2 element-2\" role=\"treeitem\"><a href=\"/about/success/#business\" title=\"\">Business</a></li>\n",
      "    \n",
      "        <li class=\"tier-2 element-3\" role=\"treeitem\"><a href=\"/about/success/#education\" title=\"\">Education</a></li>\n",
      "    \n",
      "        <li class=\"tier-2 element-4\" role=\"treeitem\"><a href=\"/about/success/#engineering\" title=\"\">Engineering</a></li>\n",
      "    \n",
      "        <li class=\"tier-2 element-5\" role=\"treeitem\"><a href=\"/about/success/#government\" title=\"\">Government</a></li>\n",
      "    \n",
      "        <li class=\"tier-2 element-6\" role=\"treeitem\"><a href=\"/about/success/#scientific\" title=\"\">Scientific</a></li>\n",
      "    \n",
      "        <li class=\"tier-2 element-7\" role=\"treeitem\"><a href=\"/about/success/#software-development\" title=\"\">Software Development</a></li>\n",
      "    \n",
      "</ul>\n",
      "\n",
      "        \n",
      "    </li>\n",
      "    \n",
      "    <li class=\"tier-1 element-6\">\n",
      "        <a href=\"/blogs/\" title=\"News from around the Python world\">News</a>\n",
      "        \n",
      "            \n",
      "\n",
      "<ul class=\"subnav menu\">\n",
      "    \n",
      "        <li class=\"tier-2 element-1\" role=\"treeitem\"><a href=\"/blogs/\" title=\"Python Insider Blog Posts\">Python News</a></li>\n",
      "    \n",
      "        <li class=\"tier-2 element-2\" role=\"treeitem\"><a href=\"http://planetpython.org/\" title=\"Planet Python\">Community News</a></li>\n",
      "    \n",
      "        <li class=\"tier-2 element-3\" role=\"treeitem\"><a href=\"http://pyfound.blogspot.com/\" title=\"PSF Blog\">PSF News</a></li>\n",
      "    \n",
      "        <li class=\"tier-2 element-4\" role=\"treeitem\"><a href=\"http://pycon.blogspot.com/\" title=\"PyCon Blog\">PyCon News</a></li>\n",
      "    \n",
      "</ul>\n",
      "\n",
      "        \n",
      "    </li>\n",
      "    \n",
      "    <li class=\"tier-1 element-7\">\n",
      "        <a href=\"/events/\" >Events</a>\n",
      "        \n",
      "            \n",
      "\n",
      "<ul class=\"subnav menu\">\n",
      "    \n",
      "        <li class=\"tier-2 element-1\" role=\"treeitem\"><a href=\"/events/python-events/\" title=\"\">Python Events</a></li>\n",
      "    \n",
      "        <li class=\"tier-2 element-2\" role=\"treeitem\"><a href=\"/events/python-user-group/\" title=\"\">User Group Events</a></li>\n",
      "    \n",
      "        <li class=\"tier-2 element-3\" role=\"treeitem\"><a href=\"/events/python-events/past/\" title=\"\">Python Events Archive</a></li>\n",
      "    \n",
      "        <li class=\"tier-2 element-4\" role=\"treeitem\"><a href=\"/events/python-user-group/past/\" title=\"\">User Group Events Archive</a></li>\n",
      "    \n",
      "        <li class=\"tier-2 element-5\" role=\"treeitem\"><a href=\"https://wiki.python.org/moin/PythonEventsCalendar#Submitting_an_Event\" title=\"\">Submit an Event</a></li>\n",
      "    \n",
      "</ul>\n",
      "\n",
      "        \n",
      "    </li>\n",
      "    \n",
      "    <li class=\"tier-1 element-8\">\n",
      "        <a href=\"/dev/\" >Contributing</a>\n",
      "        \n",
      "            \n",
      "\n",
      "<ul class=\"subnav menu\">\n",
      "    \n",
      "        <li class=\"tier-2 element-1\" role=\"treeitem\"><a href=\"http://docs.python.org/devguide/\" title=\"\">Developer&#39;s Guide</a></li>\n",
      "    \n",
      "        <li class=\"tier-2 element-2\" role=\"treeitem\"><a href=\"http://bugs.python.org/\" title=\"\">Issue Tracker</a></li>\n",
      "    \n",
      "        <li class=\"tier-2 element-3\" role=\"treeitem\"><a href=\"https://mail.python.org/mailman/listinfo/python-dev\" title=\"\">python-dev list</a></li>\n",
      "    \n",
      "        <li class=\"tier-2 element-4\" role=\"treeitem\"><a href=\"http://pythonmentors.com/\" title=\"\">Core Mentorship</a></li>\n",
      "    \n",
      "</ul>\n",
      "\n",
      "        \n",
      "    </li>\n",
      "    \n",
      "</ul>\n",
      "\n",
      "\n",
      "                    <a id=\"back-to-top-2\" class=\"jump-link\" href=\"#python-network\"><span aria-hidden=\"true\" class=\"icon-arrow-up\"><span>&#9650;</span></span> Back to Top</a>\n",
      "                    \n",
      "\n",
      "                </div><!-- end .container -->\n",
      "            </div> <!-- end .main-footer-links -->\n",
      "\n",
      "            <div class=\"site-base\">\n",
      "                <div class=\"container\">\n",
      "                    \n",
      "                    <ul class=\"footer-links navigation menu do-not-print\" role=\"tree\">\n",
      "                        <li class=\"tier-1 element-1\"><a href=\"/about/help/\">Help &amp; <span class=\"say-no-more\">General</span> Contact</a></li>\n",
      "                        <li class=\"tier-1 element-2\"><a href=\"/community/diversity/\">Diversity <span class=\"say-no-more\">Initiatives</span></a></li>\n",
      "                        <li class=\"tier-1 element-3\"><a href=\"https://github.com/python/pythondotorg/issues\">Submit Website Bug</a></li>\n",
      "                        <!--<li class=\"tier-1 element-3\"><a href=\"#\"><span class=\"say-no-more\">Website</span> Colophon</a></li>-->\n",
      "                    </ul>\n",
      "\n",
      "                    <div class=\"copyright\">\n",
      "                        <p><small>\n",
      "                            <span class=\"pre\">Copyright &copy;2001-2015.</span>\n",
      "                            &nbsp;<span class=\"pre\"><a href=\"/psf-landing/\">Python Software Foundation</a></span>\n",
      "                            &nbsp;<span class=\"pre\"><a href=\"/about/legal/\">Legal Statements</a></span>\n",
      "                            &nbsp;<span class=\"pre\"><a href=\"/privacy/\">Privacy Policy</a></span>\n",
      "                        </small></p>\n",
      "                    </div>\n",
      "\n",
      "                </div><!-- end .container -->\n",
      "            </div><!-- end .site-base -->\n",
      "\n",
      "        </footer>\n",
      "\n",
      "    </div><!-- end #touchnav-wrapper -->\n",
      "\n",
      "    \n",
      "    <script src=\"//ajax.googleapis.com/ajax/libs/jquery/1.8.2/jquery.min.js\"></script>\n",
      "    <script>window.jQuery || document.write('<script src=\"/static/js/libs/jquery-1.8.2.min.js\"><\\/script>')</script>\n",
      "\n",
      "    <script src=\"/static/js/libs/masonry.pkgd.min.js\"></script>\n",
      "\n",
      "    <script type=\"text/javascript\" src=\"/static/js/main-min.js\" charset=\"utf-8\"></script>\n",
      "    \n",
      "\n",
      "    <!--[if lte IE 7]>\n",
      "    <script type=\"text/javascript\" src=\"/static/js/plugins/IE8-min.js\" charset=\"utf-8\"></script>\n",
      "    \n",
      "    \n",
      "    <![endif]-->\n",
      "\n",
      "    <!--[if lte IE 8]>\n",
      "    <script type=\"text/javascript\" src=\"/static/js/plugins/getComputedStyle-min.js\" charset=\"utf-8\"></script>\n",
      "    \n",
      "    \n",
      "    <![endif]-->\n",
      "\n",
      "    \n",
      "\n",
      "    \n",
      "    \n",
      "\n",
      "</body>\n",
      "</html>\n",
      "\n"
     ]
    }
   ],
   "source": [
    "import requests\n",
    "proxies = {\n",
    "  \"http\": \"69.30.209.16:8000\"\n",
    "}\n",
    "res = requests.get(\"http://www.python.org\", proxies=proxies) \n",
    "print res.text"
   ]
  },
  {
   "cell_type": "code",
   "execution_count": 1,
   "metadata": {
    "collapsed": false
   },
   "outputs": [
    {
     "ename": "IOError",
     "evalue": "[Errno 2] No such file or directory: 'gov/51099604_1026604961.txt'",
     "output_type": "error",
     "traceback": [
      "\u001b[1;31m---------------------------------------------------------------------------\u001b[0m",
      "\u001b[1;31mIOError\u001b[0m                                   Traceback (most recent call last)",
      "\u001b[1;32m<ipython-input-1-cfa578ace398>\u001b[0m in \u001b[0;36m<module>\u001b[1;34m()\u001b[0m\n\u001b[1;32m----> 1\u001b[1;33m \u001b[0mf\u001b[0m \u001b[1;33m=\u001b[0m \u001b[0mopen\u001b[0m\u001b[1;33m(\u001b[0m\u001b[1;34m'gov/51099604_1026604961.txt'\u001b[0m\u001b[1;33m,\u001b[0m \u001b[1;34m'r'\u001b[0m\u001b[1;33m)\u001b[0m\u001b[1;33m\u001b[0m\u001b[0m\n\u001b[0m\u001b[0;32m      2\u001b[0m \u001b[0mresponse_text\u001b[0m \u001b[1;33m=\u001b[0m \u001b[0mf\u001b[0m\u001b[1;33m.\u001b[0m\u001b[0mread\u001b[0m\u001b[1;33m(\u001b[0m\u001b[1;33m)\u001b[0m\u001b[1;33m\u001b[0m\u001b[0m\n\u001b[0;32m      3\u001b[0m \u001b[0mf\u001b[0m\u001b[1;33m.\u001b[0m\u001b[0mclose\u001b[0m\u001b[1;33m(\u001b[0m\u001b[1;33m)\u001b[0m\u001b[1;33m\u001b[0m\u001b[0m\n",
      "\u001b[1;31mIOError\u001b[0m: [Errno 2] No such file or directory: 'gov/51099604_1026604961.txt'"
     ]
    }
   ],
   "source": [
    "f = open('gov/51099604_1026604961.txt', 'r')\n",
    "response_text = f.read()\n",
    "f.close()"
   ]
  },
  {
   "cell_type": "code",
   "execution_count": 2,
   "metadata": {
    "collapsed": false
   },
   "outputs": [],
   "source": [
    "from bs4 import BeautifulSoup\n",
    "res = BeautifulSoup(response_text)\n",
    "#print res.text"
   ]
  },
  {
   "cell_type": "code",
   "execution_count": 3,
   "metadata": {
    "collapsed": false
   },
   "outputs": [],
   "source": [
    "#for th in res.select('th'):\n",
    "    #print th\n",
    "    #print th.text.strip()"
   ]
  },
  {
   "cell_type": "code",
   "execution_count": 13,
   "metadata": {
    "collapsed": false
   },
   "outputs": [
    {
     "name": "stdout",
     "output_type": "stream",
     "text": [
      "3.13.30.20\n"
     ]
    }
   ],
   "source": [
    "for tr in res.select('tr'):\n",
    "    th = tr.select('th')\n",
    "    if len(th) > 0:\n",
    "        #print tr.select('th')[0].text.strip()\n",
    "        if tr.select('th')[0].text.strip().encode('utf-8') == '機關代碼':\n",
    "            #print tr\n",
    "            print tr.select('td')[0].text.strip()"
   ]
  },
  {
   "cell_type": "code",
   "execution_count": 5,
   "metadata": {
    "collapsed": false
   },
   "outputs": [
    {
     "name": "stdout",
     "output_type": "stream",
     "text": [
      "<META http-equiv=\"Content-Type\" content=\"text/html; charset=big5\"><title>®ü¸é¤ý 1 - 800  ®ü¸é¤ýº©µe½u¤WÆ[¬Ý µL­­°Êº© 8comic.com</title><LINK href=/css/global.css type=text/css rel=stylesheet><META name=keywords content=\"free comic,online comic,free anime download,free cartoon download,®ü¸é¤ý,¦b½uº©µe,½u¤WÆ[¬Ý,§K¶Oº©µe,º©µe¤U¸ü,º©µe¹Ï¤ù,°Êµe¤U¸ü,°Êµe,º©µe,¥d³q,°Êº©µL­­\"><META name=description content=\"®ü¸é¤ý§K¶Oº©µe½u¤WÆ[¬Ý - free online comic\"><head></head>\r\n",
      "<script>if(document.location.href.toLowerCase().indexOf(\"best-manga-104.html?ch=618\")>0) document.location.href=\"temp104.html?ch=618\";</script>\r\n",
      "<TABLE width=100% border=0 align=center cellPadding=0 cellSpacing=0 bgcolor=#000000><TR><TD width=10% colspan=2 bgcolor=#000000><a href=/ target=_top><img src=/images/logos.gif name=\"logo\" border=0 align=absmiddle id=logo></a></TD>\r\n",
      "<TD style=\"background:url(/images/tbg.jpg);background-repeat:no-repeat;\"><script src=/js/top.js></script></TD><TD width=10% align=right valign=bottom nowrap=\"nowrap\"><a href=/msg><img src=/msg/images/newmsg0.gif border=0 align=absmiddle></a> <a href=/msg id=Msg2 class=w>º©µe³ø¿ù </a><img src=/images/vline.gif border=0 align=absmiddle/> <a href=/member/favourite.aspx class=w>¦¬ÂÃ§¨¾ã²z</a> <img src=/images/vline.gif border=0 align=absmiddle/> <a href=/comic/u-1.html class=w>¨C¤é§ó·sº©µe¦Cªí</a> <img src=/images/vline.gif border=0 align=absmiddle/><a href=/comic/all.html class=w>¥þ¯¸º©µe¦Cªí</a> &nbsp;</TD></TR><TR><TD colspan=4 background=\"/images/menubg2.gif\" bgcolor=\"#CCCCCC\" ><TABLE width=100% border=0 align=center cellPadding=0 cellspacing=0><TR align=\"center\"><th height=\"40\" >&nbsp;</th><td><a href=/comic/1-1.html>®æ°«</a></td><th><img src=/images/l.gif></th><td><a href=/comic/6-1.html>«_ÀI</a></td><th><img src=/images/l.gif></th><td><a href=/comic/5-1.html>Äµ±´</a></td><th><img src=/images/l.gif></th><td><a href=/comic/4-1.html>¾Ô°ê</a></td><th><img src=/images/l.gif /></th><td><a href=/comic/2-1.html>Äv§Þ</a></td><th><img src=/images/l.gif /></th><td><a href=/comic/16-1.html>¦ë¶¹</a></td><th><img src=/images/l.gif /></th><td><a href=/comic/7-1.html>¾÷±ñ</a></td><th><img src=/images/l.gif /></th><td><a href=/comic/22-1.html>¬ì¤Û</a></td><th><img src=/images/l.gif></th><td><a href=/comic/3-1.html>Å]ªk</a></td><th><img src=/images/l.gif></th><td><a href=/comic/8-1.html>§¯Å]</a></td><th><img src=/images/l.gif></th><td><a href=/comic/19-1.html>®£©Æ</a></td><th><img src=/images/l.gif></th><td><a href=/comic/21-1.html>Â¾·~</a></td><th><img src=/images/l.gif></th><td><a href=/comic/9-1.html>´ä²£</a></td><th><img src=/images/l.gif></th><td><a href=/comic/11-1.html>¤Ö¤k</a></td><th><img src=/images/l.gif></th><td><a href=/comic/12-1.html>¤Ö¨k</a></td><th><img src=/images/l.gif></th><td><a href=/comic/15-1.html>¶W¤k</a></td><th><img src=/images/l.gif></th><td><a href=/comic/13-1.html>·d¯º</a></td><th><img src=/images/l.gif></th><td><a href=/comic/14-1.html>®Õ¶é</a></td><th><img src=/images/l.gif></th><td><a href=/comic/18-1.html>µu½g</a></td><th><img src=/images/l.gif></th><td><a href=/comic/20-1.html>¨ä¥L</a></td><th align=\"right\">&nbsp;</th></TR></TABLE></TD></TR></TABLE><script src=\"/js/nview.js\"></script><form method=\"post\" action=\"#\" id=\"Form1\">\r\n",
      "<div class=\"aspNetHidden\">\r\n",
      "<input type=\"hidden\" name=\"__VIEWSTATE\" id=\"__VIEWSTATE\" value=\"/wEPDwUKLTMwMDQyMTI1NmRksmOdHDYdo09eoeFgIU99wK+xiy7MZASgFvsMBA0VztE=\" />\r\n",
      "</div>\r\n",
      "\r\n",
      "<div class=\"aspNetHidden\">\r\n",
      "\r\n",
      "\t<input type=\"hidden\" name=\"__VIEWSTATEGENERATOR\" id=\"__VIEWSTATEGENERATOR\" value=\"3CB179A0\" />\r\n",
      "</div><table width=97% border=0 align=center cellpadding=0 cellspacing=0><tr><td width=90% nowrap=nowrap height=20><script src=\"/js/topview.js\"></script></td></tr></table><table width=97% border=0 align=center cellpadding=0 cellspacing=0><tr><td align=center><table width=\"100%\" border=\"0\" cellspacing=\"0\" cellpadding=\"0\">\r\n",
      "<tr>\r\n",
      "<td height=\"10\"></td>\r\n",
      "</tr>\r\n",
      "<tr>\r\n",
      "<td align=\"center\">\r\n",
      "<script type=\"text/javascript\"><!--\r\n",
      "google_ad_client = \"ca-pub-4955475422456028\";\r\n",
      "/* 8C_970X90 */\r\n",
      "google_ad_slot = \"8296529878\";\r\n",
      "google_ad_width = 970;\r\n",
      "google_ad_height = 90;\r\n",
      "//-->\r\n",
      "</script>\r\n",
      "<script type=\"text/javascript\"\r\n",
      "src=\"//pagead2.googlesyndication.com/pagead/show_ads.js\">\r\n",
      "</script>\r\n",
      "</td>\r\n",
      "</tr>\r\n",
      "</table>\r\n",
      "<table width=\"100%\" height=\"10\" border=\"0\" cellpadding=\"0\" cellspacing=\"0\">\r\n",
      "<tr>\r\n",
      "<td></td>\r\n",
      "</tr>\r\n",
      "</table></td></tr></table><table width=97% height=18 border=0 align=center cellpadding=0 cellspacing=0 background=/images/barc.gif><tr><td width=20% nowrap=nowrap><b> <font color=#EE3366><img src=/images/barl.gif align=absmiddle />¥¿¦bÆ[¬Ý:[ ®ü¸é¤ý <font id=lastchapter>800</font> ]</font></b></td><td width=10% align=left nowrap=nowrap><a href=# onClick=pv();return false; id=prevvol ><font face=webdings>7</font> ¤W¶°: <font id=\"prevname\"></font></a>&nbsp; </td><td width=10% align=right nowrap=nowrap><a href=# onClick=jp();return false; id=prev ><b><font color=blue>[ <font face=webdings>3</font> ¤W ­¶ ]</font></b></a></td><td width=10% height=1% align=center nowrap=nowrap id=nav><select name=select id=pageindex onChange=j(this.value) style=\"font-size:10px;font-family:arial\"></select></td><td width=10% align=left nowrap=nowrap><a href=# onClick=jn();return false; id=next><b><font color=blue>[ ¤U ­¶<font face=webdings>4</font> ]</font></b></a></td><td width=10% align=right nowrap=nowrap><a href=# onClick=nv();return false; id=nextvol >¤U¶°: <font id=\"nextname\"></font><font face=webdings>8</font></a></td><td width=24% align=right nowrap=nowrap><a href=# onclick=lv();return false; id=lastvol class=red ><b>³Ì·s:[®ü¸é¤ý 800 ]<font color=#0099CC></font></b></a><img src=/images/barr.gif align=absmiddle /></td>  </tr></table><table width=97% border=0 align=center cellpadding=0 cellspacing=0><tr><td align=center><table height=\"2\" border=\"0\" cellpadding=\"0\" cellspacing=\"0\"><tr><td> </td></tr></table>\r\n",
      "<div class=\"sitemajidr\" model=\"728x90\" position=\"top\"></div>\r\n",
      "<script type=\"text/javascript\" src=\"http://ad.sitemaji.com/ysm_8comic.js\"></script>\r\n",
      "<table height=\"10\" border=\"0\" cellpadding=\"0\" cellspacing=\"0\"><tr><td> </td></tr></table></td></tr></table><table width=97% border=0 align=center id=TheTable cellpadding=0 cellspacing=0><tr><td align=center><img name=TheImg  border=0 id=TheImg /></td></tr></table><table width=97%  align=center cellpadding=0 cellspacing=0  ><tr><td height=5 align=center></td></tr><tr><td align=center><div class=\"sitemajiad\" model=\"728x90\" position=\"bottom\"></div>\r\n",
      "<script type=\"text/javascript\" src=\"http://ad.sitemaji.com/ysm_8comic.js\"></script>\r\n",
      "<table height=\"1\" border=\"0\" cellpadding=\"0\" cellspacing=\"0\"><tr><td> </td></tr></table></td></tr><tr><td height=15 align=center id=prevnext2><a href=# onClick=jp();return false; id=prev2 style=line-height:14px><font color=blue><b>[ ¤W ­¶ ]</b></font></a>&nbsp;&nbsp;&nbsp;&nbsp;&nbsp;&nbsp;&nbsp;&nbsp;&nbsp;&nbsp;<a href=# onClick=jn();return false; id=next2 style=line-height:14px><font color=blue><b>[ ¤U ­¶ ]</b></font></a></td></tr><tr><td align=center><table width=\"100%\" border=\"0\" align=\"center\" cellpadding=\"0\" cellspacing=\"0\">\r\n",
      "<tr>\r\n",
      "<td height=\"4\"></td>\r\n",
      "</tr>\r\n",
      "<tr>\r\n",
      "<td align=\"center\">\r\n",
      "<script type=\"text/javascript\"><!--\r\n",
      "google_ad_client = \"ca-pub-4955475422456028\";\r\n",
      "/* 8C_970X250 */\r\n",
      "google_ad_slot = \"5343114118\";\r\n",
      "google_ad_width = 970;\r\n",
      "google_ad_height = 250;\r\n",
      "//-->\r\n",
      "</script>\r\n",
      "<script type=\"text/javascript\"\r\n",
      "src=\"//pagead2.googlesyndication.com/pagead/show_ads.js\">\r\n",
      "</script>\r\n",
      "</td>\r\n",
      "</tr>\r\n",
      "</table>\r\n",
      "<br>\r\n",
      "<br>\r\n",
      "<br>\r\n",
      "<br>\r\n",
      "<br>\r\n",
      "</td></tr></table><table width=97% border=0 align=center cellpadding=0 cellspacing=0 background=/images/barc.gif><tr><td><img src=/images/barl.gif align=absmiddle /></td><td width=5% align=\"right\" nowrap=nowrap><b><font color=#EE3366></font></b>Âê©w¤ñ¨Ò¡G</td><td nowrap=nowrap width=15%><img id=za style=CURSOR: hand onclick=zoomaa(this) alt=¹ê»Ú¤j¤p hspace=2 src=/images/zooma.gif align=absmiddle/><img id=zf style= CURSOR: hand onclick=zoomff(this) hspace=4 src=/images/zoomf.gif align=absmiddle/></td><td width=20% height=1% align=center nowrap=nowrap>«ö[<font color=#FF0000>a</font>] 100%Åã¥Ü «ö [<font color=#FF0000>z</font>] ¾AÀ³¤j¤p</td><td width=20% align=center nowrap=nowrap id=\"pagenum\"></td><td width=20% align=center nowrap=nowrap><font color=#0066CC>[«öªÅ®æ:¥ª¥k²¾°Ê]</font>&nbsp;</td><td nowrap=nowrap align=right width=20%>&nbsp;<a href=javascript:window.close();>[ Ãö³¬ ]</a>&nbsp;&nbsp;&nbsp;<a href=#><img src=/images/top.gif hspace=2 border=0 align=absmiddle /></a></td><td nowrap=nowrap align=right><img src=/images/barr.gif align=absmiddle /></td></tr></table><script>var chs=800;var ti=103;var cs='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';eval(unescape('sp%28%29;'));</script><table cellspacing=0 cellpadding=5 width=97% align=center border=0><tr><td width=80% height=1% nowrap=nowrap><table border=0 align=center cellpadding=4 cellspacing=0><tr><td align=center><script src=\"/js/bottom.js\"></script></td></tr></table></td></tr></table><table width=100% border=0 cellspacing=0 cellpadding=0 align=center style=margin-top:1px ><tr><td height=1 bgcolor=#dddddd></td></tr><tr height=20 bgcolor=#eeeeee align=center><td></td></tr><tr><td height=60 align=center nowrap=nowrap bgcolor=#eeeeee ><br><a href=http://www.2comic.com target=_blank >°Êº©©ö</a> | <a href=http://www.6comic.com target=_blank >·È·È°Êº©</a> | <a href=http://www.862.tw target=_blank >862¹CÀ¸</a> | <a href=http://www.8book.com target=_blank >µL­­¤p»¡</a> <br><br><font color=#BFBFBF>¥»¯¸©Ò¦³¹Ï¤ù§¡¨Ó¦Ûºô¸ô¸ê·½,¨Ã¥B§K¶O´£¨Ñ,¦p¦³¥ô¦ó°ÝÃD½Ð»P§Ú­ÌÁpÃ´,½T»{«á¥»¯¸±N·|¶i¦æ­×¥¿.</font></p></td></tr></td></table></form></body><img src=http://ad.yieldmanager.com/pixel?id=1077990&t=2 width=1 height=1 /><img src=http://extern.yahoo.com/b?s=1197365499 width=1 height=1 />\n"
     ]
    }
   ],
   "source": [
    "import requests\n",
    "res = requests.get('http://www.comicvip.com/show/cool-103.html?ch=800')\n",
    "print res.text"
   ]
  },
  {
   "cell_type": "markdown",
   "metadata": {},
   "source": [
    "# Selenium \n",
    "\n",
    "## install firefox plugin\n",
    " - http://www.seleniumhq.org/download/\n",
    " - http://release.seleniumhq.org/selenium-ide/2.9.0/selenium-ide-2.9.0.xpi\n",
    " \n",
    "## install selenium\n",
    " - pip install selenium"
   ]
  },
  {
   "cell_type": "code",
   "execution_count": 16,
   "metadata": {
    "collapsed": false
   },
   "outputs": [
    {
     "ename": "UnexpectedAlertPresentException",
     "evalue": "Alert Text: 已經是最後一頁了\n<super: <class 'WebDriverException'>, <UnexpectedAlertPresentException object>>",
     "output_type": "error",
     "traceback": [
      "\u001b[1;31m---------------------------------------------------------------------------\u001b[0m",
      "\u001b[1;31mUnexpectedAlertPresentException\u001b[0m           Traceback (most recent call last)",
      "\u001b[1;32m<ipython-input-16-bbd639d1ffb9>\u001b[0m in \u001b[0;36m<module>\u001b[1;34m()\u001b[0m\n\u001b[0;32m     35\u001b[0m     \u001b[0mdriver\u001b[0m\u001b[1;33m.\u001b[0m\u001b[0mimplicitly_wait\u001b[0m\u001b[1;33m(\u001b[0m\u001b[1;36m1\u001b[0m\u001b[1;33m)\u001b[0m\u001b[1;33m\u001b[0m\u001b[0m\n\u001b[0;32m     36\u001b[0m     \u001b[0mdriver\u001b[0m\u001b[1;33m.\u001b[0m\u001b[0mfind_element_by_css_selector\u001b[0m\u001b[1;33m(\u001b[0m\u001b[1;34m\"#next > b > font\"\u001b[0m\u001b[1;33m)\u001b[0m\u001b[1;33m.\u001b[0m\u001b[0mclick\u001b[0m\u001b[1;33m(\u001b[0m\u001b[1;33m)\u001b[0m\u001b[1;33m\u001b[0m\u001b[0m\n\u001b[1;32m---> 37\u001b[1;33m     \u001b[0msoup\u001b[0m \u001b[1;33m=\u001b[0m \u001b[0mBeautifulSoup\u001b[0m\u001b[1;33m(\u001b[0m\u001b[0mdriver\u001b[0m\u001b[1;33m.\u001b[0m\u001b[0mpage_source\u001b[0m\u001b[1;33m)\u001b[0m\u001b[1;33m\u001b[0m\u001b[0m\n\u001b[0m\u001b[0;32m     38\u001b[0m     \u001b[0msavecomic\u001b[0m\u001b[1;33m(\u001b[0m\u001b[0msoup\u001b[0m\u001b[1;33m)\u001b[0m\u001b[1;33m\u001b[0m\u001b[0m\n\u001b[0;32m     39\u001b[0m \u001b[1;33m\u001b[0m\u001b[0m\n",
      "\u001b[1;32mC:\\Python27\\lib\\site-packages\\selenium\\webdriver\\remote\\webdriver.pyc\u001b[0m in \u001b[0;36mpage_source\u001b[1;34m(self)\u001b[0m\n\u001b[0;32m    462\u001b[0m             \u001b[0mdriver\u001b[0m\u001b[1;33m.\u001b[0m\u001b[0mpage_source\u001b[0m\u001b[1;33m\u001b[0m\u001b[0m\n\u001b[0;32m    463\u001b[0m         \"\"\"\n\u001b[1;32m--> 464\u001b[1;33m         \u001b[1;32mreturn\u001b[0m \u001b[0mself\u001b[0m\u001b[1;33m.\u001b[0m\u001b[0mexecute\u001b[0m\u001b[1;33m(\u001b[0m\u001b[0mCommand\u001b[0m\u001b[1;33m.\u001b[0m\u001b[0mGET_PAGE_SOURCE\u001b[0m\u001b[1;33m)\u001b[0m\u001b[1;33m[\u001b[0m\u001b[1;34m'value'\u001b[0m\u001b[1;33m]\u001b[0m\u001b[1;33m\u001b[0m\u001b[0m\n\u001b[0m\u001b[0;32m    465\u001b[0m \u001b[1;33m\u001b[0m\u001b[0m\n\u001b[0;32m    466\u001b[0m     \u001b[1;32mdef\u001b[0m \u001b[0mclose\u001b[0m\u001b[1;33m(\u001b[0m\u001b[0mself\u001b[0m\u001b[1;33m)\u001b[0m\u001b[1;33m:\u001b[0m\u001b[1;33m\u001b[0m\u001b[0m\n",
      "\u001b[1;32mC:\\Python27\\lib\\site-packages\\selenium\\webdriver\\remote\\webdriver.pyc\u001b[0m in \u001b[0;36mexecute\u001b[1;34m(self, driver_command, params)\u001b[0m\n\u001b[0;32m    199\u001b[0m         \u001b[0mresponse\u001b[0m \u001b[1;33m=\u001b[0m \u001b[0mself\u001b[0m\u001b[1;33m.\u001b[0m\u001b[0mcommand_executor\u001b[0m\u001b[1;33m.\u001b[0m\u001b[0mexecute\u001b[0m\u001b[1;33m(\u001b[0m\u001b[0mdriver_command\u001b[0m\u001b[1;33m,\u001b[0m \u001b[0mparams\u001b[0m\u001b[1;33m)\u001b[0m\u001b[1;33m\u001b[0m\u001b[0m\n\u001b[0;32m    200\u001b[0m         \u001b[1;32mif\u001b[0m \u001b[0mresponse\u001b[0m\u001b[1;33m:\u001b[0m\u001b[1;33m\u001b[0m\u001b[0m\n\u001b[1;32m--> 201\u001b[1;33m             \u001b[0mself\u001b[0m\u001b[1;33m.\u001b[0m\u001b[0merror_handler\u001b[0m\u001b[1;33m.\u001b[0m\u001b[0mcheck_response\u001b[0m\u001b[1;33m(\u001b[0m\u001b[0mresponse\u001b[0m\u001b[1;33m)\u001b[0m\u001b[1;33m\u001b[0m\u001b[0m\n\u001b[0m\u001b[0;32m    202\u001b[0m             response['value'] = self._unwrap_value(\n\u001b[0;32m    203\u001b[0m                 response.get('value', None))\n",
      "\u001b[1;32mC:\\Python27\\lib\\site-packages\\selenium\\webdriver\\remote\\errorhandler.pyc\u001b[0m in \u001b[0;36mcheck_response\u001b[1;34m(self, response)\u001b[0m\n\u001b[0;32m    178\u001b[0m             \u001b[1;32mraise\u001b[0m \u001b[0mexception_class\u001b[0m\u001b[1;33m(\u001b[0m\u001b[0mresponse\u001b[0m\u001b[1;33m,\u001b[0m \u001b[0mmessage\u001b[0m\u001b[1;33m)\u001b[0m\u001b[1;33m\u001b[0m\u001b[0m\n\u001b[0;32m    179\u001b[0m         \u001b[1;32melif\u001b[0m \u001b[0mexception_class\u001b[0m \u001b[1;33m==\u001b[0m \u001b[0mUnexpectedAlertPresentException\u001b[0m \u001b[1;32mand\u001b[0m \u001b[1;34m'alert'\u001b[0m \u001b[1;32min\u001b[0m \u001b[0mvalue\u001b[0m\u001b[1;33m:\u001b[0m\u001b[1;33m\u001b[0m\u001b[0m\n\u001b[1;32m--> 180\u001b[1;33m             \u001b[1;32mraise\u001b[0m \u001b[0mexception_class\u001b[0m\u001b[1;33m(\u001b[0m\u001b[0mmessage\u001b[0m\u001b[1;33m,\u001b[0m \u001b[0mscreen\u001b[0m\u001b[1;33m,\u001b[0m \u001b[0mstacktrace\u001b[0m\u001b[1;33m,\u001b[0m \u001b[0mvalue\u001b[0m\u001b[1;33m[\u001b[0m\u001b[1;34m'alert'\u001b[0m\u001b[1;33m]\u001b[0m\u001b[1;33m.\u001b[0m\u001b[0mget\u001b[0m\u001b[1;33m(\u001b[0m\u001b[1;34m'text'\u001b[0m\u001b[1;33m)\u001b[0m\u001b[1;33m)\u001b[0m\u001b[1;33m\u001b[0m\u001b[0m\n\u001b[0m\u001b[0;32m    181\u001b[0m         \u001b[1;32mraise\u001b[0m \u001b[0mexception_class\u001b[0m\u001b[1;33m(\u001b[0m\u001b[0mmessage\u001b[0m\u001b[1;33m,\u001b[0m \u001b[0mscreen\u001b[0m\u001b[1;33m,\u001b[0m \u001b[0mstacktrace\u001b[0m\u001b[1;33m)\u001b[0m\u001b[1;33m\u001b[0m\u001b[0m\n\u001b[0;32m    182\u001b[0m \u001b[1;33m\u001b[0m\u001b[0m\n",
      "\u001b[1;31m<type 'str'>\u001b[0m: (<type 'exceptions.UnicodeEncodeError'>, UnicodeEncodeError('ascii', u\"Alert Text: \\u5df2\\u7d93\\u662f\\u6700\\u5f8c\\u4e00\\u9801\\u4e86\\n<super: <class 'WebDriverException'>, <UnexpectedAlertPresentException object>>\", 12, 20, 'ordinal not in range(128)'))"
     ]
    }
   ],
   "source": [
    "# -*- coding: utf-8 -*-\n",
    "from selenium import webdriver\n",
    "from selenium.webdriver.common.by import By\n",
    "from selenium.webdriver.common.keys import Keys\n",
    "from selenium.webdriver.support.ui import Select\n",
    "from selenium.common.exceptions import NoSuchElementException\n",
    "from selenium.common.exceptions import NoAlertPresentException\n",
    "import time, re\n",
    "from bs4 import BeautifulSoup\n",
    "import shutil\n",
    "\n",
    "# use selenium to open firefox\n",
    "driver = webdriver.Firefox()\n",
    "\n",
    "# let firefox wait 30 seconds\n",
    "driver.implicitly_wait(30)\n",
    "\n",
    "# base url\n",
    "base_url = \"http://www.comicvip.com/show/cool-103.html?ch=800\"\n",
    "\n",
    "# sasve comic function\n",
    "def savecomic(soup):\n",
    "    for img in soup.select('img'):\n",
    "        if 'jpg' in img.get('src'):\n",
    "            comic_link = img.get('src')\n",
    "            res = requests.get(comic_link, stream=True)\n",
    "            f = open(comic_link.split('/')[-1], 'wb')\n",
    "            shutil.copyfileobj(res.raw, f)\n",
    "            f.close()\n",
    "            \n",
    "driver.get(base_url)\n",
    "soup = BeautifulSoup(driver.page_source)\n",
    "savecomic(soup)\n",
    "while True:\n",
    "    driver.implicitly_wait(1)    \n",
    "    driver.find_element_by_css_selector(\"#next > b > font\").click()\n",
    "    soup = BeautifulSoup(driver.page_source)\n",
    "    savecomic(soup)\n",
    "\n",
    "# Close driver\n",
    "driver.close()\n",
    "\n",
    "#driver.find_element_by_css_selector(\"#next > b > font\").click()"
   ]
  },
  {
   "cell_type": "code",
   "execution_count": null,
   "metadata": {
    "collapsed": false
   },
   "outputs": [],
   "source": [
    "from seleniumrequests import Firefox\n",
    "from bs4 import BeautifulSoup\n",
    "\n",
    "webdriver = Firefox()\n",
    "response = webdriver.request('GET', 'http://www.comicvip.com/show/cool-103.html?ch=800')\n",
    "soup = BeautifulSoup(response.text)\n",
    "for img in soup.select('img'):\n",
    "    print img"
   ]
  },
  {
   "cell_type": "code",
   "execution_count": 8,
   "metadata": {
    "collapsed": false
   },
   "outputs": [
    {
     "name": "stdout",
     "output_type": "stream",
     "text": [
      "https://play.muzik-online.com/v3/play/px2gg8?token=K1%2FXK%2BylFLCJad9dyk3ls57m1GkdiXbkp5g%3D\n"
     ]
    }
   ],
   "source": [
    "import requests\n",
    "import json\n",
    "res = requests.get('https://api.muzikair.com/v3/air/play/px2gg8?page=webpage_all&keywords=&count=2&lang=tw')\n",
    "#print res.text\n",
    "jd = json.loads(res.text)\n",
    "playlink = jd['data']['url']['track']\n",
    "print playlink\n",
    "res2 = requests.get(playlink, stream=True)\n",
    "import shutil\n",
    "f = open('x.mp3', 'wb')\n",
    "shutil.copyfileobj(res2.raw, f)\n",
    "f.close()"
   ]
  },
  {
   "cell_type": "code",
   "execution_count": 13,
   "metadata": {
    "collapsed": false
   },
   "outputs": [],
   "source": [
    "import requests\n",
    "\n",
    "from bs4 import BeautifulSoup\n",
    "#import os\n",
    "#os.mkdir('gov')\n",
    "res = requests.get('http://web.pcc.gov.tw/tps/main/pms/tps/atm/atmAwardAction.do?newEdit=false&searchMode=common&method=inquiryForPublic&pkAtmMain=51099604&tenderCaseNo=1026604961')\n",
    "soup = BeautifulSoup(res.text, \"html.parser\")\n",
    "f = open('gov/51099604_1026604961.txt', 'w')\n",
    "printarea = soup.select('#printArea')[0].prettify('utf-8')\n",
    "f.write(printarea)\n",
    "f.close()\n",
    "\n",
    "f = open('gov/51099604_1026604961.txt', 'r')\n",
    "response_text = f.read()\n",
    "f.close()"
   ]
  },
  {
   "cell_type": "code",
   "execution_count": 22,
   "metadata": {
    "collapsed": false
   },
   "outputs": [
    {
     "name": "stdout",
     "output_type": "stream",
     "text": [
      "3.13.30.20\n"
     ]
    }
   ],
   "source": [
    "soup2 = BeautifulSoup(response_text)\n",
    "for tr in soup2.select('tr'):\n",
    "    if len(tr.select('th')) > 0:\n",
    "        if tr.select('th')[0].text.strip().encode('utf-8') == '機關代碼':\n",
    "            #print tr.select('th')[0].text.strip().encode('utf-8')\n",
    "            print tr.select('td')[0].text.strip().encode('utf-8')\n",
    "    "
   ]
  },
  {
   "cell_type": "code",
   "execution_count": null,
   "metadata": {
    "collapsed": true
   },
   "outputs": [],
   "source": [
    "<tr class=\"award_table_tr_1\">\n",
    "\t\t<th valign=\"middle\" bgcolor=\"#DAEBED\" class=\"T11b\" width=\"200\" align=\"left\">機關代碼</th>\n",
    "\t\t<td bgcolor=\"#EFF1F1\" class=\"newstop\" height=\"25\">\n",
    "\t\t\t3.13.30.20\n",
    "\t\t</td>\n",
    "</tr>"
   ]
  },
  {
   "cell_type": "code",
   "execution_count": 23,
   "metadata": {
    "collapsed": false
   },
   "outputs": [
    {
     "name": "stdout",
     "output_type": "stream",
     "text": [
      " \t string test \t \n",
      "\n",
      "\r",
      " \tstring test \t \n",
      "\n",
      "\r\n"
     ]
    }
   ],
   "source": [
    "s = \" \\t string test \\t \\n\\n\\r\" ' \\tstring test \\t \\n\\n\\r'\n",
    "print s\n",
    "\n"
   ]
  },
  {
   "cell_type": "code",
   "execution_count": 24,
   "metadata": {
    "collapsed": false
   },
   "outputs": [
    {
     "name": "stdout",
     "output_type": "stream",
     "text": [
      "string test \t \n",
      "\n",
      "\r",
      " \tstring test\n"
     ]
    }
   ],
   "source": [
    "print s.strip()"
   ]
  },
  {
   "cell_type": "code",
   "execution_count": 25,
   "metadata": {
    "collapsed": false
   },
   "outputs": [
    {
     "name": "stdout",
     "output_type": "stream",
     "text": [
      " \t string test \t \n",
      "\n",
      "\r",
      " \tstring test\n"
     ]
    }
   ],
   "source": [
    "print s.rstrip()"
   ]
  },
  {
   "cell_type": "code",
   "execution_count": 26,
   "metadata": {
    "collapsed": false
   },
   "outputs": [
    {
     "name": "stdout",
     "output_type": "stream",
     "text": [
      "string test \t \n",
      "\n",
      "\r",
      " \tstring test \t \n",
      "\n",
      "\r\n"
     ]
    }
   ],
   "source": [
    "print s.lstrip()"
   ]
  },
  {
   "cell_type": "code",
   "execution_count": 28,
   "metadata": {
    "collapsed": false
   },
   "outputs": [
    {
     "name": "stdout",
     "output_type": "stream",
     "text": [
      "3.13.30.20\n",
      "臺灣糖業股份有限公司休閒遊憩事業部\n",
      "臺灣糖業股份有限公司休閒遊憩事業部\n"
     ]
    }
   ],
   "source": [
    "soup2 = BeautifulSoup(response_text)\n",
    "for tr in soup2.select('tr'):\n",
    "    if len(tr.select('th')) > 0:\n",
    "        if tr.select('th')[0].text.strip().encode('utf-8') == '機關代碼':\n",
    "            print tr.select('td')[0].text.strip().encode('utf-8')\n",
    "        if tr.select('th')[0].text.strip().encode('utf-8') == '機關名稱':\n",
    "            print tr.select('td')[0].text.strip().encode('utf-8')\n",
    "        if tr.select('th')[0].text.strip().encode('utf-8') == '單位名稱':\n",
    "            print tr.select('td')[0].text.strip().encode('utf-8')"
   ]
  },
  {
   "cell_type": "code",
   "execution_count": 29,
   "metadata": {
    "collapsed": false
   },
   "outputs": [
    {
     "name": "stdout",
     "output_type": "stream",
     "text": [
      "{'a': 100, 'c': 0.98, 'b': 'yes'}\n"
     ]
    }
   ],
   "source": [
    "dic = {'a':100, 'b':\"yes\", 'c':0.98}\n",
    "print dic\n"
   ]
  },
  {
   "cell_type": "code",
   "execution_count": 30,
   "metadata": {
    "collapsed": false
   },
   "outputs": [
    {
     "name": "stdout",
     "output_type": "stream",
     "text": [
      "['a', 'c', 'b']\n",
      "[100, 0.98, 'yes']\n"
     ]
    }
   ],
   "source": [
    "#get keys in dictionary\n",
    "print dic.keys()\n",
    "#get values in dictionary\n",
    "print dic.values()\n"
   ]
  },
  {
   "cell_type": "code",
   "execution_count": 31,
   "metadata": {
    "collapsed": false
   },
   "outputs": [
    {
     "name": "stdout",
     "output_type": "stream",
     "text": [
      "100\n",
      "100\n"
     ]
    }
   ],
   "source": [
    "#get value of given key\n",
    "print dic['a']\n",
    "#get value of given key\n",
    "print dic.get('a')"
   ]
  },
  {
   "cell_type": "code",
   "execution_count": 32,
   "metadata": {
    "collapsed": false
   },
   "outputs": [
    {
     "ename": "KeyError",
     "evalue": "'d'",
     "output_type": "error",
     "traceback": [
      "\u001b[1;31m---------------------------------------------------------------------------\u001b[0m",
      "\u001b[1;31mKeyError\u001b[0m                                  Traceback (most recent call last)",
      "\u001b[1;32m<ipython-input-32-73f92c082065>\u001b[0m in \u001b[0;36m<module>\u001b[1;34m()\u001b[0m\n\u001b[0;32m      1\u001b[0m \u001b[1;31m#get value of given key\u001b[0m\u001b[1;33m\u001b[0m\u001b[1;33m\u001b[0m\u001b[0m\n\u001b[1;32m----> 2\u001b[1;33m \u001b[1;32mprint\u001b[0m \u001b[0mdic\u001b[0m\u001b[1;33m[\u001b[0m\u001b[1;34m'd'\u001b[0m\u001b[1;33m]\u001b[0m\u001b[1;33m\u001b[0m\u001b[0m\n\u001b[0m",
      "\u001b[1;31mKeyError\u001b[0m: 'd'"
     ]
    }
   ],
   "source": [
    "#get value of given key\n",
    "print dic['d']"
   ]
  },
  {
   "cell_type": "code",
   "execution_count": 36,
   "metadata": {
    "collapsed": false
   },
   "outputs": [
    {
     "name": "stdout",
     "output_type": "stream",
     "text": [
      "None\n",
      "qoo\n",
      "100\n"
     ]
    }
   ],
   "source": [
    "#get value of given key\n",
    "print dic.get('d')\n",
    "print dic.get('d', 'qoo')\n",
    "print dic.get('a', 'qoo')"
   ]
  },
  {
   "cell_type": "code",
   "execution_count": 39,
   "metadata": {
    "collapsed": false
   },
   "outputs": [
    {
     "name": "stdout",
     "output_type": "stream",
     "text": [
      "{'a': 100, 'c': 0.98, 'b': 'yes', 'd': 'qoo'}\n"
     ]
    }
   ],
   "source": [
    "dic['d'] = 'qoo'\n",
    "print dic\n",
    "\n",
    "qoo = {'e':1., 'f':99}\n",
    "dic.update(qoo)"
   ]
  },
  {
   "cell_type": "code",
   "execution_count": 40,
   "metadata": {
    "collapsed": false
   },
   "outputs": [
    {
     "name": "stdout",
     "output_type": "stream",
     "text": [
      "{'a': 100, 'c': 0.98, 'b': 'yes', 'e': 1.0, 'd': 'qoo', 'f': 99}\n"
     ]
    }
   ],
   "source": [
    "print dic"
   ]
  },
  {
   "cell_type": "code",
   "execution_count": 44,
   "metadata": {
    "collapsed": false
   },
   "outputs": [
    {
     "name": "stdout",
     "output_type": "stream",
     "text": [
      "機關代碼 3.13.30.20\n",
      "機關名稱 臺灣糖業股份有限公司休閒遊憩事業部\n",
      "機關地址 717臺南市仁德區文華路2段326號\n",
      "聯絡人 吳政德\n"
     ]
    }
   ],
   "source": [
    "dic = {\"機關代碼\":\"\",\"機關名稱\":\"\",\"機關地址\":\"\", \"聯絡人\":\"\"}\n",
    "soup2 = BeautifulSoup(response_text)\n",
    "for tr in soup2.select('tr'):\n",
    "    if len(tr.select('th')) > 0:\n",
    "        if tr.select('th')[0].text.strip().encode('utf-8') in dic:\n",
    "            print tr.select('th')[0].text.strip().encode('utf-8'),\n",
    "            print tr.select('td')[0].text.strip().encode('utf-8')\n",
    "    \n"
   ]
  },
  {
   "cell_type": "code",
   "execution_count": 45,
   "metadata": {
    "collapsed": true
   },
   "outputs": [],
   "source": [
    "dic = {\"機關代碼\":\"\",\"機關名稱\":\"\",\"機關地址\":\"\", \"聯絡人\":\"\"}\n",
    "soup2 = BeautifulSoup(response_text)\n",
    "for tr in soup2.select('tr'):\n",
    "    if len(tr.select('th')) > 0:\n",
    "        if tr.select('th')[0].text.strip().encode('utf-8') in dic:\n",
    "            dic[tr.select('th')[0].text.strip().encode('utf-8')] = tr.select('td')[0].text.strip().encode('utf-8')\n",
    "    \n"
   ]
  },
  {
   "cell_type": "code",
   "execution_count": 49,
   "metadata": {
    "collapsed": false
   },
   "outputs": [
    {
     "name": "stdout",
     "output_type": "stream",
     "text": [
      "{'\\xe8\\x81\\xaf\\xe7\\xb5\\xa1\\xe4\\xba\\xba': '\\xe5\\x90\\xb3\\xe6\\x94\\xbf\\xe5\\xbe\\xb7', '\\xe6\\xa9\\x9f\\xe9\\x97\\x9c\\xe5\\x90\\x8d\\xe7\\xa8\\xb1': '\\xe8\\x87\\xba\\xe7\\x81\\xa3\\xe7\\xb3\\x96\\xe6\\xa5\\xad\\xe8\\x82\\xa1\\xe4\\xbb\\xbd\\xe6\\x9c\\x89\\xe9\\x99\\x90\\xe5\\x85\\xac\\xe5\\x8f\\xb8\\xe4\\xbc\\x91\\xe9\\x96\\x92\\xe9\\x81\\x8a\\xe6\\x86\\xa9\\xe4\\xba\\x8b\\xe6\\xa5\\xad\\xe9\\x83\\xa8', '\\xe6\\xa9\\x9f\\xe9\\x97\\x9c\\xe4\\xbb\\xa3\\xe7\\xa2\\xbc': '3.13.30.20', '\\xe6\\xa9\\x9f\\xe9\\x97\\x9c\\xe5\\x9c\\xb0\\xe5\\x9d\\x80': '717\\xe8\\x87\\xba\\xe5\\x8d\\x97\\xe5\\xb8\\x82\\xe4\\xbb\\x81\\xe5\\xbe\\xb7\\xe5\\x8d\\x80\\xe6\\x96\\x87\\xe8\\x8f\\xaf\\xe8\\xb7\\xaf2\\xe6\\xae\\xb5326\\xe8\\x99\\x9f'}\n",
      "聯絡人 吳政德\n",
      "機關名稱 臺灣糖業股份有限公司休閒遊憩事業部\n",
      "機關代碼 3.13.30.20\n",
      "機關地址 717臺南市仁德區文華路2段326號\n"
     ]
    }
   ],
   "source": [
    "print dic\n",
    "for key in dic:\n",
    "    print key, dic[key]"
   ]
  },
  {
   "cell_type": "code",
   "execution_count": 59,
   "metadata": {
    "collapsed": false
   },
   "outputs": [
    {
     "name": "stdout",
     "output_type": "stream",
     "text": [
      "<勞務類>\n",
      "     \n",
      "      96\n",
      "     \n",
      "\n",
      "      娛樂,文化,體育服務\n",
      "     \n",
      "\n",
      "      核准人職稱姓名：執行長黃進良\n",
      "      \n",
      "       更改人職稱姓名：管理師吳政德\n",
      "       \n",
      "        核准日期：103/04/28\n",
      "        \n",
      "         核准文號：簽報單位主管核准在案\n"
     ]
    }
   ],
   "source": [
    "dic = {\"標的分類\":\"\"}\n",
    "soup2 = BeautifulSoup(response_text)\n",
    "for tr in soup2.select('tr'):\n",
    "    if len(tr.select('th')) > 0:\n",
    "        if tr.select('th')[0].text.strip().encode('utf-8') in dic:\n",
    "            print tr.select('td')[0].text.strip().encode('utf-8')\n",
    "    \n"
   ]
  },
  {
   "cell_type": "code",
   "execution_count": 60,
   "metadata": {
    "collapsed": false
   },
   "outputs": [
    {
     "name": "stdout",
     "output_type": "stream",
     "text": [
      "\t\t string \n",
      "\t\n"
     ]
    }
   ],
   "source": [
    "a ='\\t\\t string \\n\\t'\n",
    "print a"
   ]
  },
  {
   "cell_type": "code",
   "execution_count": 61,
   "metadata": {
    "collapsed": false
   },
   "outputs": [
    {
     "name": "stdout",
     "output_type": "stream",
     "text": [
      "'\\t\\t string \\n\\t'\n"
     ]
    }
   ],
   "source": [
    "print repr(a)"
   ]
  },
  {
   "cell_type": "code",
   "execution_count": 62,
   "metadata": {
    "collapsed": false
   },
   "outputs": [
    {
     "name": "stdout",
     "output_type": "stream",
     "text": [
      "'<\\xe5\\x8b\\x9e\\xe5\\x8b\\x99\\xe9\\xa1\\x9e>\\n     \\n      96\\n     \\n\\n      \\xe5\\xa8\\x9b\\xe6\\xa8\\x82,\\xe6\\x96\\x87\\xe5\\x8c\\x96,\\xe9\\xab\\x94\\xe8\\x82\\xb2\\xe6\\x9c\\x8d\\xe5\\x8b\\x99\\n     \\n\\n      \\xe6\\xa0\\xb8\\xe5\\x87\\x86\\xe4\\xba\\xba\\xe8\\x81\\xb7\\xe7\\xa8\\xb1\\xe5\\xa7\\x93\\xe5\\x90\\x8d\\xef\\xbc\\x9a\\xe5\\x9f\\xb7\\xe8\\xa1\\x8c\\xe9\\x95\\xb7\\xe9\\xbb\\x83\\xe9\\x80\\xb2\\xe8\\x89\\xaf\\n      \\n       \\xe6\\x9b\\xb4\\xe6\\x94\\xb9\\xe4\\xba\\xba\\xe8\\x81\\xb7\\xe7\\xa8\\xb1\\xe5\\xa7\\x93\\xe5\\x90\\x8d\\xef\\xbc\\x9a\\xe7\\xae\\xa1\\xe7\\x90\\x86\\xe5\\xb8\\xab\\xe5\\x90\\xb3\\xe6\\x94\\xbf\\xe5\\xbe\\xb7\\n       \\n        \\xe6\\xa0\\xb8\\xe5\\x87\\x86\\xe6\\x97\\xa5\\xe6\\x9c\\x9f\\xef\\xbc\\x9a103/04/28\\n        \\n         \\xe6\\xa0\\xb8\\xe5\\x87\\x86\\xe6\\x96\\x87\\xe8\\x99\\x9f\\xef\\xbc\\x9a\\xe7\\xb0\\xbd\\xe5\\xa0\\xb1\\xe5\\x96\\xae\\xe4\\xbd\\x8d\\xe4\\xb8\\xbb\\xe7\\xae\\xa1\\xe6\\xa0\\xb8\\xe5\\x87\\x86\\xe5\\x9c\\xa8\\xe6\\xa1\\x88'\n"
     ]
    }
   ],
   "source": [
    "dic = {\"標的分類\":\"\"}\n",
    "soup2 = BeautifulSoup(response_text)\n",
    "for tr in soup2.select('tr'):\n",
    "    if len(tr.select('th')) > 0:\n",
    "        if tr.select('th')[0].text.strip().encode('utf-8') in dic:\n",
    "            print repr(tr.select('td')[0].text.strip().encode('utf-8'))\n",
    "            \n",
    "    \n"
   ]
  },
  {
   "cell_type": "code",
   "execution_count": 67,
   "metadata": {
    "collapsed": false
   },
   "outputs": [
    {
     "name": "stdout",
     "output_type": "stream",
     "text": [
      "['123', '456', '789', 'qoo']\n",
      "['123', '456,789,qoo']\n",
      "['123', '456', '789,qoo']\n"
     ]
    }
   ],
   "source": [
    "a = '123,456,789,qoo'\n",
    "print a.split(',')\n",
    "print a.split(',',1)\n",
    "print a.split(',',2)"
   ]
  },
  {
   "cell_type": "code",
   "execution_count": 74,
   "metadata": {
    "collapsed": false
   },
   "outputs": [
    {
     "name": "stdout",
     "output_type": "stream",
     "text": [
      "1|2|3|4\n",
      "['123', '21333333333333333333333', '999']\n",
      "123 21333333333333333333333 999\n",
      "123|21333333333333333333333|999\n"
     ]
    }
   ],
   "source": [
    "c = ['1','2','3','4']\n",
    "print '|'.join(c)\n",
    "\n",
    "a = '123                        21333333333333333333333                    999'\n",
    "print a.split()\n",
    "\n",
    "print ' '.join(a.split())\n",
    "print '|'.join(a.split())"
   ]
  },
  {
   "cell_type": "code",
   "execution_count": 76,
   "metadata": {
    "collapsed": false
   },
   "outputs": [
    {
     "name": "stdout",
     "output_type": "stream",
     "text": [
      "<勞務類> 96 娛樂,文化,體育服務 核准人職稱姓名：執行長黃進良 更改人職稱姓名：管理師吳政德 核准日期：103/04/28 核准文號：簽報單位主管核准在案\n"
     ]
    }
   ],
   "source": [
    "dic = {\"標的分類\":\"\"}\n",
    "soup2 = BeautifulSoup(response_text)\n",
    "for tr in soup2.select('tr'):\n",
    "    if len(tr.select('th')) > 0:\n",
    "        if tr.select('th')[0].text.strip().encode('utf-8') in dic:\n",
    "            print ' '.join(tr.select('td')[0].text.strip().encode('utf-8').split())"
   ]
  },
  {
   "cell_type": "code",
   "execution_count": 83,
   "metadata": {
    "collapsed": false
   },
   "outputs": [
    {
     "name": "stdout",
     "output_type": "stream",
     "text": [
      "<type 'datetime.datetime'>\n",
      "<type 'str'>\n",
      "2015-09-18\n",
      "2015-09-18 13:59:51\n",
      "2014-05-03 14:00:00\n",
      "<type 'datetime.datetime'>\n"
     ]
    }
   ],
   "source": [
    "from datetime import date,datetime\n",
    "currenttime = datetime.now()\n",
    "print type(currenttime)\n",
    "print type(currenttime.strftime(\"%Y-%m-%d\"))\n",
    "print currenttime.strftime(\"%Y-%m-%d\")\n",
    "print currenttime.strftime(\"%Y-%m-%d %H:%M:%S\")\n",
    "\n",
    "\n",
    "a = '2014-05-03 14:00'\n",
    "print datetime.strptime(a, \"%Y-%m-%d %H:%M\")\n",
    "print type(datetime.strptime(a, \"%Y-%m-%d %H:%M\"))\n",
    "\n",
    "\n",
    "\n",
    "#t = '102/11/05 10:00'"
   ]
  },
  {
   "cell_type": "code",
   "execution_count": 90,
   "metadata": {
    "collapsed": false
   },
   "outputs": [
    {
     "name": "stdout",
     "output_type": "stream",
     "text": [
      "2013\n",
      "2013-11-05 10:00:00\n",
      "<type 'datetime.datetime'>\n"
     ]
    }
   ],
   "source": [
    "t = '102/11/05 10:00'\n",
    "getyear =  t.split('/', 1)\n",
    "print int(getyear[0]) + 1911\n",
    "adtime =  '/'.join([str(int(getyear[0]) + 1911), getyear[1]])\n",
    "print datetime.strptime(adtime, '%Y/%m/%d %H:%M')\n",
    "print type(datetime.strptime(adtime, '%Y/%m/%d %H:%M'))"
   ]
  },
  {
   "cell_type": "code",
   "execution_count": 91,
   "metadata": {
    "collapsed": false
   },
   "outputs": [
    {
     "name": "stdout",
     "output_type": "stream",
     "text": [
      "6288452\n"
     ]
    }
   ],
   "source": [
    "import re\n",
    "m = re.match( r\"([0-9,]+)元\", '6,288,452元')\n",
    "print ''.join(m.group(1).split(','))"
   ]
  },
  {
   "cell_type": "code",
   "execution_count": 108,
   "metadata": {
    "collapsed": false
   },
   "outputs": [
    {
     "name": "stdout",
     "output_type": "stream",
     "text": [
      "username: david\n",
      "username: qoo\n",
      "<_sre.SRE_Match object at 0x05726410>\n",
      "phone: 0912345678\n",
      "phone: 0912\n",
      "phone: 0912\n",
      "phone: 10238018290829085024\n",
      "============================\n",
      "phone: 0912-345\n",
      "phone: 0912-345678\n",
      "============================\n",
      "phone: 0912345678\n",
      "phone: 0912-345\n",
      "phone: 0912-345678\n",
      "phone: 10238018290829085024\n",
      "============================\n",
      "phone: 0912345678\n",
      "phone: 0912-345\n",
      "phone: 0912-345678\n",
      "phone: 10238018290829085024\n",
      "============================\n",
      "phone: 0912345678\n",
      "phone: 0912-345-678\n",
      "phone: 0912-345678\n",
      "phone: 1023801829\n",
      "============================\n",
      "phone: 0912345678\n",
      "phone: 0912-345-678\n",
      "phone: 0912-345678\n"
     ]
    }
   ],
   "source": [
    "email1 = 'david@iii.com'\n",
    "import re\n",
    "m = re.match('(\\w+)@([\\w\\.]+)', email1)\n",
    "#print m.group(1)\n",
    "#print m.group(2)\n",
    "\n",
    "\n",
    "\n",
    "email_list = ['david@iii.com', 'qoo@oop.com', '12313213$999.com']\n",
    "for email in email_list:\n",
    "    m = re.match('(\\w+)@([\\w\\.]+)', email)\n",
    "    if m:\n",
    "        print \"username:\", m.group(1)\n",
    "\n",
    "phone = '0912345678'\n",
    "m = re.match('\\d{10}', phone)\n",
    "print m\n",
    "\n",
    "\n",
    "phone_list = ['0912345678', '0912-345-678', '0912-345678', '10238018290829085024']\n",
    "for phone in phone_list:\n",
    "    m = re.match('(\\d+)', phone)\n",
    "    if m:\n",
    "        print \"phone:\", m.group(1)\n",
    "\n",
    "print '============================'\n",
    "for phone in phone_list:\n",
    "    m = re.match('(\\d{4}-\\d+)', phone)\n",
    "    if m:\n",
    "        print \"phone:\", m.group(1)\n",
    "print '============================'\n",
    "for phone in phone_list:\n",
    "    m = re.match('(\\d{4}-{0,1}\\d+)', phone)\n",
    "    if m:\n",
    "        print \"phone:\", m.group(1)\n",
    "print '============================'\n",
    "for phone in phone_list:\n",
    "    m = re.match('(\\d{4}-?\\d+)', phone)\n",
    "    if m:\n",
    "        print \"phone:\", m.group(1)\n",
    "print '============================'\n",
    "for phone in phone_list:\n",
    "    m = re.match('(\\d{4}-?\\d{3}-?\\d{3})', phone)\n",
    "    if m:\n",
    "        print \"phone:\", m.group(1)\n",
    "print '============================'\n",
    "for phone in phone_list:\n",
    "    m = re.match('(^\\d{4}-?\\d{3}-?\\d{3}$)', phone)\n",
    "    if m:\n",
    "        print \"phone:\", m.group(1)"
   ]
  },
  {
   "cell_type": "code",
   "execution_count": 125,
   "metadata": {
    "collapsed": false
   },
   "outputs": [
    {
     "name": "stdout",
     "output_type": "stream",
     "text": [
      "28900\n"
     ]
    }
   ],
   "source": [
    "import requests\n",
    "res = requests.get('http://ecapi.pchome.com.tw/ecshop/prodapi/v2/prod/DGBHAB-19006DLL1&fields=Seq,Id,Name,Nick,Store,PreOrdDate,SpeOrdDate,Price,Discount,Pic,Weight,ISBN,Qty,Bonus,isBig,isSpec,isCombine,isDiy,isRecyclable,isCarrier,isMedical,isBigCart,isSnapUp,isDescAndIntroSync,isFoodContents,isHuge&_callback=jsonpcb_prodecshop?_callback=jsonpcb_prodecshop')\n",
    "#print res.text\n",
    "\n",
    "\n",
    "import re\n",
    "m = re.match('.+\"P\":(\\d+)},.*',res.text)\n",
    "#print m.group(1)\n",
    "\n",
    "\n",
    "import re\n",
    "m = re.search('\"P\":(\\d+)},',res.text)\n",
    "#print m.group(1)\n",
    "\n",
    "import re\n",
    "m = re.search('jsonpcb_prodecshop\\((.*?)\\);', res.text)\n",
    "#print m.group(1)\n",
    "\n",
    "import json\n",
    "jd = json.loads(m.group(1))\n",
    "print jd['DGBHAB-19006DLL1-000']['Price']['P']"
   ]
  },
  {
   "cell_type": "code",
   "execution_count": 128,
   "metadata": {
    "collapsed": false
   },
   "outputs": [
    {
     "name": "stdout",
     "output_type": "stream",
     "text": [
      "200\n",
      "['200', '30']\n"
     ]
    }
   ],
   "source": [
    "a = '我從口袋中撿到200元 超爽der 他只剩30元'\n",
    "import re\n",
    "m = re.search('(\\d+)元', a)\n",
    "print m.group(1)\n",
    "\n",
    "import re\n",
    "m = re.findall('(\\d+)元', a)\n",
    "print m"
   ]
  },
  {
   "cell_type": "code",
   "execution_count": 133,
   "metadata": {
    "collapsed": false
   },
   "outputs": [],
   "source": [
    "# -*- coding: utf-8 -*-\n",
    "from bs4 import BeautifulSoup\n",
    "from datetime import datetime\n",
    "import os, sys, re\n",
    "\n",
    "def get_response_element (file_name):\n",
    "    f = open(file_name, 'r')\n",
    "    response_text = f.read()\n",
    "    f.close()\n",
    "    soup = BeautifulSoup(response_text)\n",
    "    tender_table = soup.select('.table_block.tender_table')[0]\n",
    "    tr = tender_table.select('tr')\n",
    "    return tr\n",
    "\n",
    "#print get_response_element('gov/51099604_1026604961.txt')\n"
   ]
  },
  {
   "cell_type": "code",
   "execution_count": 135,
   "metadata": {
    "collapsed": false
   },
   "outputs": [
    {
     "name": "stdout",
     "output_type": "stream",
     "text": [
      "2013-11-10 00:00:00\n",
      "2013-11-10 00:00:00\n"
     ]
    }
   ],
   "source": [
    "def date_conversion(element):\n",
    "    m = re.match(r\"(\\d+/\\d+/\\d+)\",element)\n",
    "    if m is not None:\n",
    "        t = m.group(1).split('/', 1)\n",
    "        if t[0] != '':\n",
    "            return datetime.strptime(str(int(t[0]) + 1911) + \"/\" + (''.join(t[1:]).split()[0] ), \"%Y/%m/%d\")\n",
    "    else:\n",
    "        return None\n",
    "    \n",
    "print date_conversion('102/11/10')\n",
    "print date_conversion('102/11/10 13:00')\n"
   ]
  },
  {
   "cell_type": "code",
   "execution_count": 148,
   "metadata": {
    "collapsed": false
   },
   "outputs": [
    {
     "name": "stdout",
     "output_type": "stream",
     "text": [
      "-123222444\n"
     ]
    }
   ],
   "source": [
    "def money_conversion(element):\n",
    "    m = re.match( r\"\\$?(-?[0-9,]+)\", element)\n",
    "    return int(''.join(m.group(0).split(',')))\n",
    "\n",
    "#print money_conversion('123,222,444')\n",
    "#print money_conversion('123,222,444')\n",
    "print money_conversion('-123,222,444元')\n"
   ]
  },
  {
   "cell_type": "code",
   "execution_count": 150,
   "metadata": {
    "collapsed": false
   },
   "outputs": [
    {
     "name": "stdout",
     "output_type": "stream",
     "text": [
      "dsfdsfdsfdsfdsf\n"
     ]
    }
   ],
   "source": [
    "def remove_space(element):\n",
    "    return \"\".join(element.split())\n",
    "\n",
    "print remove_space('     dsf dsf            dsfdsfdsf')"
   ]
  },
  {
   "cell_type": "code",
   "execution_count": 161,
   "metadata": {
    "collapsed": false
   },
   "outputs": [],
   "source": [
    "name_map = {\"機關代碼\":\"entity_code\", \"機關名稱\":\"procuring_entity\",\"標案案號\":\"job_number\",\"招標方式\":\"procurement_type\",\\\n",
    "            \"決標方式\":\"tender_awarding_type\",\"標案名稱\":\"subject_of_procurement\", \"決標資料類別\":\"attr_of_tender_awarding\", \\\n",
    "            \"標的分類\":\"attr_of_procurement\", \"預算金額\":\"budget_value\", \"開標時間\":\"opening_date\",\"決標公告日期\":\"tender_awarding_announce_date\",\\\n",
    "            \"歸屬計畫類別\":\"project_type\",\"總決標金額\":\"total_tender_awarding_value\",\"底價金額\":\"floor_price_value\",\\\n",
    "            \"決標日期\":\"tender_awarding_date\", \"pkAtmMain\":\"pkAtmMain\"} \n",
    "            \n",
    "tender_awards_map = {\"機關代碼\":remove_space, \"機關名稱\":remove_space, \"標案案號\":remove_space, \\\n",
    "                     \"招標方式\":remove_space,\"決標方式\":remove_space,\"標案名稱\":remove_space, \"決標資料類別\":remove_space, \\\n",
    "                     \"標的分類\":remove_space, \"預算金額\":money_conversion, \"開標時間\":date_conversion,\"歸屬計畫類別\":remove_space, \\\n",
    "                        \"總決標金額\":money_conversion,\"底價金額\":money_conversion,\"決標日期\":date_conversion, \"決標公告日期\":date_conversion}\n"
   ]
  },
  {
   "cell_type": "code",
   "execution_count": 162,
   "metadata": {
    "collapsed": false
   },
   "outputs": [
    {
     "name": "stdout",
     "output_type": "stream",
     "text": [
      "qoohello\n",
      "oophello\n"
     ]
    }
   ],
   "source": [
    "def a(str1):\n",
    "    return 'qoo' + str1\n",
    "\n",
    "def b(str1):\n",
    "    return 'oop' + str1\n",
    "\n",
    "func_map = {'a': a, 'b':b}\n",
    "print func_map['a']('hello')\n",
    "print func_map['b']('hello')"
   ]
  },
  {
   "cell_type": "code",
   "execution_count": 163,
   "metadata": {
    "collapsed": true
   },
   "outputs": [],
   "source": [
    "def get_award_info_dic (element):\n",
    "    returned_dic = {}\n",
    "    for row in element:\n",
    "        th = row.select('th')\n",
    "        if len(th) > 0:\n",
    "            th_name = th[0].text.encode('utf-8').strip()\n",
    "            if ('award_table_tr_1' or \\\n",
    "                'award_table_tr_2' or \\\n",
    "                'award_table_tr_6' in row.get('class')) \\\n",
    "                 and (th_name in tender_awards_map):\n",
    "                returned_dic[name_map[th_name]] = \\\n",
    "                    tender_awards_map[th_name](row.select('td')[0].text.strip())\n",
    "    return returned_dic\n"
   ]
  },
  {
   "cell_type": "code",
   "execution_count": 166,
   "metadata": {
    "collapsed": false
   },
   "outputs": [],
   "source": [
    "tr_ele =  get_response_element('gov/51099604_1026604961.txt')\n",
    "return_dic =  get_award_info_dic(tr_ele)"
   ]
  },
  {
   "cell_type": "code",
   "execution_count": 167,
   "metadata": {
    "collapsed": false
   },
   "outputs": [
    {
     "name": "stdout",
     "output_type": "stream",
     "text": [
      "opening_date 2013-11-05 00:00:00\n",
      "total_tender_awarding_value 6263804\n",
      "tender_awarding_date 2013-11-11 00:00:00\n",
      "entity_code 3.13.30.20\n",
      "procurement_type 公開招標\n",
      "procuring_entity 臺灣糖業股份有限公司休閒遊憩事業部\n",
      "attr_of_procurement <勞務類>96娛樂,文化,體育服務核准人職稱姓名：執行長黃進良更改人職稱姓名：管理師吳政德核准日期：103/04/28核准文號：簽報單位主管核准在案\n",
      "tender_awarding_announce_date 2014-04-29 00:00:00\n",
      "subject_of_procurement 烏樹林休閒廣場103年度勞務採購\n",
      "project_type 非屬愛台十二項計畫\n",
      "attr_of_tender_awarding 決標公告\n",
      "budget_value 6288452\n",
      "floor_price_value 6288452\n",
      "job_number 1026604961\n",
      "tender_awarding_type 最低標\n"
     ]
    }
   ],
   "source": [
    "for key in return_dic:\n",
    "    print key, return_dic[key]"
   ]
  },
  {
   "cell_type": "code",
   "execution_count": 169,
   "metadata": {
    "collapsed": false
   },
   "outputs": [
    {
     "name": "stdout",
     "output_type": "stream",
     "text": [
      "\t\n",
      "\\t\n"
     ]
    }
   ],
   "source": [
    "a= '\\t'\n",
    "print a\n",
    "b = r'\\t'\n",
    "print b"
   ]
  },
  {
   "cell_type": "code",
   "execution_count": 170,
   "metadata": {
    "collapsed": true
   },
   "outputs": [],
   "source": [
    "# -*- coding: utf-8 -*-\n",
    "import sqlite3\n",
    "db = sqlite3.connect('tender.sqlite')\n",
    "#cur = db.cursor()\n"
   ]
  },
  {
   "cell_type": "code",
   "execution_count": 171,
   "metadata": {
    "collapsed": true
   },
   "outputs": [],
   "source": [
    "cur = db.cursor()\n",
    "cur.execute('''CREATE TABLE IF NOT EXISTS Tender_awards(\n",
    " id INTEGER PRIMARY KEY,\n",
    " pkAtmMain TEXT,\n",
    " procuring_entity TEXT,\n",
    " entity_code TEXT,\n",
    " attr_of_procurement TEXT,\n",
    " opening_date DATETIME,\n",
    " procurement_type TEXT,\n",
    " tender_awarding_type TEXT,\n",
    " project_type TEXT,\n",
    " subject_of_procurement TEXT,\n",
    " job_number TEXT,\n",
    " budget_value BIGINTEGER,\n",
    " attr_of_tender_awarding TEXT,\n",
    " floor_price_value BIGINTEGER,\n",
    " tender_awarding_announce_date DATETIME,\n",
    " tender_awarding_date DATETIME,\n",
    " total_tender_awarding_value BIGINTEGER\n",
    " )''')\n",
    "db.close()"
   ]
  },
  {
   "cell_type": "code",
   "execution_count": 172,
   "metadata": {
    "collapsed": false
   },
   "outputs": [
    {
     "name": "stdout",
     "output_type": "stream",
     "text": [
      "opening_date 2013-11-05 00:00:00\n",
      "total_tender_awarding_value 6263804\n",
      "tender_awarding_date 2013-11-11 00:00:00\n",
      "entity_code 3.13.30.20\n",
      "procurement_type 公開招標\n",
      "procuring_entity 臺灣糖業股份有限公司休閒遊憩事業部\n",
      "attr_of_procurement <勞務類>96娛樂,文化,體育服務核准人職稱姓名：執行長黃進良更改人職稱姓名：管理師吳政德核准日期：103/04/28核准文號：簽報單位主管核准在案\n",
      "tender_awarding_announce_date 2014-04-29 00:00:00\n",
      "subject_of_procurement 烏樹林休閒廣場103年度勞務採購\n",
      "project_type 非屬愛台十二項計畫\n",
      "attr_of_tender_awarding 決標公告\n",
      "budget_value 6288452\n",
      "floor_price_value 6288452\n",
      "job_number 1026604961\n",
      "tender_awarding_type 最低標\n"
     ]
    }
   ],
   "source": [
    "tr_ele =  get_response_element('gov/51099604_1026604961.txt')\n",
    "return_dic =  get_award_info_dic(tr_ele)\n",
    "for key in return_dic:\n",
    "    print key, return_dic[key]"
   ]
  },
  {
   "cell_type": "code",
   "execution_count": 183,
   "metadata": {
    "collapsed": false
   },
   "outputs": [
    {
     "name": "stdout",
     "output_type": "stream",
     "text": [
      "insert into Tender_awards(opening_date, total_tender_awarding_value, tender_awarding_date, entity_code, procurement_type, procuring_entity, attr_of_procurement, tender_awarding_announce_date, subject_of_procurement, project_type, attr_of_tender_awarding, budget_value, floor_price_value, job_number, tender_awarding_type) values(?, ?, ?, ?, ?, ?, ?, ?, ?, ?, ?, ?, ?, ?, ?);\n"
     ]
    },
    {
     "data": {
      "text/plain": [
       "[datetime.datetime(2013, 11, 5, 0, 0),\n",
       " 6263804,\n",
       " datetime.datetime(2013, 11, 11, 0, 0),\n",
       " u'3.13.30.20',\n",
       " u'\\u516c\\u958b\\u62db\\u6a19',\n",
       " u'\\u81fa\\u7063\\u7cd6\\u696d\\u80a1\\u4efd\\u6709\\u9650\\u516c\\u53f8\\u4f11\\u9592\\u904a\\u61a9\\u4e8b\\u696d\\u90e8',\n",
       " u'<\\u52de\\u52d9\\u985e>96\\u5a1b\\u6a02,\\u6587\\u5316,\\u9ad4\\u80b2\\u670d\\u52d9\\u6838\\u51c6\\u4eba\\u8077\\u7a31\\u59d3\\u540d\\uff1a\\u57f7\\u884c\\u9577\\u9ec3\\u9032\\u826f\\u66f4\\u6539\\u4eba\\u8077\\u7a31\\u59d3\\u540d\\uff1a\\u7ba1\\u7406\\u5e2b\\u5433\\u653f\\u5fb7\\u6838\\u51c6\\u65e5\\u671f\\uff1a103/04/28\\u6838\\u51c6\\u6587\\u865f\\uff1a\\u7c3d\\u5831\\u55ae\\u4f4d\\u4e3b\\u7ba1\\u6838\\u51c6\\u5728\\u6848',\n",
       " datetime.datetime(2014, 4, 29, 0, 0),\n",
       " u'\\u70cf\\u6a39\\u6797\\u4f11\\u9592\\u5ee3\\u5834103\\u5e74\\u5ea6\\u52de\\u52d9\\u63a1\\u8cfc',\n",
       " u'\\u975e\\u5c6c\\u611b\\u53f0\\u5341\\u4e8c\\u9805\\u8a08\\u756b',\n",
       " u'\\u6c7a\\u6a19\\u516c\\u544a',\n",
       " 6288452,\n",
       " 6288452,\n",
       " u'1026604961',\n",
       " u'\\u6700\\u4f4e\\u6a19']"
      ]
     },
     "execution_count": 183,
     "metadata": {},
     "output_type": "execute_result"
    }
   ],
   "source": [
    "#'insert into table(c1, c2) values(\"val1\", \"val2\")'\n",
    "#'insert into table(c1, c2) values(?, ?)'\n",
    "#print return_dic\n",
    "placeholders =  ', '.join(return_dic.keys())\n",
    "values =  ', '.join('?' * len(return_dic))\n",
    "\n",
    "skeleton = 'insert into Tender_awards({}) values({});'\n",
    "print skeleton.format(placeholders, values)\n",
    "#return_dic.values()\n",
    "\n"
   ]
  },
  {
   "cell_type": "code",
   "execution_count": 186,
   "metadata": {
    "collapsed": true
   },
   "outputs": [],
   "source": [
    "# -*- coding: utf-8 -*-\n",
    "import sqlite3\n",
    "db = sqlite3.connect('tender.sqlite')\n",
    "cur = db.cursor()\n",
    "tr_ele =  get_response_element('gov/51099604_1026604961.txt')\n",
    "return_dic =  get_award_info_dic(tr_ele)\n",
    "placeholders =  ', '.join(return_dic.keys())\n",
    "values =  ', '.join('?' * len(return_dic))\n",
    "\n",
    "skeleton = 'insert into Tender_awards({}) values({});'\n",
    "\n",
    "cur.execute(skeleton.format(placeholders, values), return_dic.values())\n",
    "db.commit()\n",
    "db.close()\n"
   ]
  },
  {
   "cell_type": "code",
   "execution_count": 187,
   "metadata": {
    "collapsed": true
   },
   "outputs": [],
   "source": [
    "import sqlite3 as lite\n",
    "salary = (\n",
    " (1 , 'Paul' , 32 , 'California', 20000),\n",
    " (2 , 'Allen' , 25 , 'Texas' , 15000),\n",
    " (3 , 'Teddy' , 23 , 'Norway' , 20000),\n",
    " (4 , 'Mark' , 25 , 'Rich-Mond' , 65000),\n",
    " (5 , 'David' , 27 , 'Texas' , 85000),\n",
    " (6 , 'Kim' , 22 , 'South-Hall', 45000),\n",
    " (7 , 'James' , 24 , 'Houston' , 10000)\n",
    ")\n",
    "department = (\n",
    "(1, 'IT Billing' ,1),\n",
    "(2, 'Engineerin' ,2),\n",
    "(3, 'Finance' ,7),\n",
    "(4, 'Finance' ,5),\n",
    "(5, 'Finance' ,6)\n",
    ")"
   ]
  },
  {
   "cell_type": "code",
   "execution_count": 191,
   "metadata": {
    "collapsed": false
   },
   "outputs": [],
   "source": [
    "con = lite.connect('test.sqlite')\n",
    "with con:\n",
    "\n",
    "    cur = con.cursor()\n",
    "\n",
    "    cur.execute(\"DROP TABLE IF EXISTS Salary\")\n",
    "    cur.execute(\"DROP TABLE IF EXISTS Department\")\n",
    "\n",
    "    cur.execute(\"CREATE TABLE Salary(ID INT, NAME TEXT, AGE INT, ADDRESS TEXT, SALARY INT)\")\n",
    "    cur.executemany(\"INSERT INTO Salary VALUES(?, ?, ?, ?, ?)\", salary)\n",
    "\n",
    "\n",
    "    cur.execute(\"CREATE TABLE Department(ID INT PRIMARY KEY, DEPT CHAR(50), EMP_ID INT)\")\n",
    "    cur.executemany(\"INSERT INTO Department VALUES(?, ?, ?)\", department)\n",
    "con.close()"
   ]
  },
  {
   "cell_type": "code",
   "execution_count": 194,
   "metadata": {
    "collapsed": false
   },
   "outputs": [
    {
     "name": "stdout",
     "output_type": "stream",
     "text": [
      "4.77899980545\n",
      "(1000000,)\n"
     ]
    }
   ],
   "source": [
    "dbname = 'test.sqlite'\n",
    "con = lite.connect(dbname)\n",
    "items = tuple(range(1,1000000))\n",
    "import time\n",
    "with con:\n",
    "    cur = con.cursor()\n",
    "    cur.execute(\"DROP TABLE IF EXISTS ptest\")\n",
    "    cur.execute(\"CREATE TABLE ptest(ID INT)\")\n",
    "    start = time.time()\n",
    "    for i in range(0,1000000):\n",
    "        cur.execute(\"INSERT INTO ptest VALUES(%s)\"%(i))\n",
    "    end = time.time()\n",
    "    print end -start\n",
    "    cur.execute(\"select count(1) from ptest\")\n",
    "    rows = cur.fetchone()\n",
    "    print rows\n",
    "con.close()"
   ]
  },
  {
   "cell_type": "code",
   "execution_count": 196,
   "metadata": {
    "collapsed": false
   },
   "outputs": [
    {
     "name": "stdout",
     "output_type": "stream",
     "text": [
      "0.958999872208\n",
      "(1000000,)\n"
     ]
    }
   ],
   "source": [
    "dbname = 'test.sqlite'\n",
    "con = lite.connect(dbname)\n",
    "with con:\n",
    "\n",
    "    cur = con.cursor()\n",
    "    cur.execute(\"DROP TABLE IF EXISTS ptest\")\n",
    "    cur.execute(\"CREATE TABLE ptest(ID INT)\")\n",
    "    start = time.time()\n",
    "    cur.executemany(\"INSERT INTO ptest VALUES(?)\",((id_, ) for id_ in xrange(1000000)))\n",
    "    end = time.time()\n",
    "    print end -start\n",
    "    cur.execute(\"select count(1) from ptest\")\n",
    "    rows = cur.fetchone()\n",
    "    print rows\n",
    "con.close()"
   ]
  },
  {
   "cell_type": "code",
   "execution_count": 197,
   "metadata": {
    "collapsed": false
   },
   "outputs": [
    {
     "name": "stdout",
     "output_type": "stream",
     "text": [
      "(1, u'qoo', 9000000)\n",
      "(2, u'oop', 9000000)\n",
      "(3, u'amy', 500000)\n"
     ]
    }
   ],
   "source": [
    "dbname = 'test.sqlite'\n",
    "con = lite.connect(dbname)\n",
    "with con:\n",
    "    cur = con.cursor()\n",
    "    cur.execute('select * from employee')\n",
    "    data = cur.fetchall()\n",
    "    for rec in data:\n",
    "        print rec\n",
    "    cur.close()\n",
    "con.close()"
   ]
  },
  {
   "cell_type": "code",
   "execution_count": 199,
   "metadata": {
    "collapsed": false
   },
   "outputs": [
    {
     "name": "stdout",
     "output_type": "stream",
     "text": [
      "1\n",
      "qoo\n",
      "9000000\n",
      "2\n",
      "oop\n",
      "9000000\n"
     ]
    }
   ],
   "source": [
    "dbname = 'test.sqlite'\n",
    "con = lite.connect(dbname)\n",
    "with con:\n",
    "    cur = con.cursor()\n",
    "    cur.execute('select * from employee')\n",
    "    data = cur.fetchone()\n",
    "    for rec in data:\n",
    "        print rec\n",
    "    data = cur.fetchone()\n",
    "    for rec in data:\n",
    "        print rec\n",
    "    cur.close()\n",
    "con.close()"
   ]
  },
  {
   "cell_type": "code",
   "execution_count": 201,
   "metadata": {
    "collapsed": false
   },
   "outputs": [
    {
     "name": "stdout",
     "output_type": "stream",
     "text": [
      "(1, u'qoo', 9000000)\n",
      "(2, u'oop', 9000000)\n",
      "(3, u'amy', 500000)\n",
      "(1, u'qoo', 1000000)\n",
      "(2, u'oop', 9000000)\n",
      "(3, u'amy', 500000)\n"
     ]
    }
   ],
   "source": [
    "dbname = 'test.sqlite'\n",
    "con = lite.connect(dbname)\n",
    "with con:\n",
    "    cur = con.cursor()\n",
    "    \n",
    "    \n",
    "    cur.execute(\"select * from employee\")\n",
    "    data = cur.fetchall()\n",
    "    for rec in data:\n",
    "        print rec\n",
    "        \n",
    "        \n",
    "    cur.execute(\"update employee set salary = 1000000 where name = 'qoo'\")\n",
    "    \n",
    "    con.commit()\n",
    "    \n",
    "    # rollback\n",
    "    con.rollback()\n",
    "    \n",
    "    \n",
    "    cur.execute(\"select * from employee\")\n",
    "    data = cur.fetchall()\n",
    "    for rec in data:\n",
    "        print rec\n",
    "\n",
    "con.close()"
   ]
  },
  {
   "cell_type": "code",
   "execution_count": 202,
   "metadata": {
    "collapsed": true
   },
   "outputs": [],
   "source": [
    "def insert_award_info (cur, data_dic, filename):\n",
    "    file_param = filename.split(\".txt\")[0].split(\"_\")\n",
    "    pkAtmMain = file_param[0]\n",
    "    data_dic['pkAtmMain'] = pkAtmMain\n",
    "    columns = ', '.join(data_dic.keys())\n",
    "    placeholders = ', '.join('?' * len(data_dic))\n",
    "    sql = 'INSERT INTO Tender_awards ({}) VALUES ({})'.format(columns, placeholders)\n",
    "    cur.execute(sql, data_dic.values())\n"
   ]
  },
  {
   "cell_type": "code",
   "execution_count": 205,
   "metadata": {
    "collapsed": false
   },
   "outputs": [
    {
     "name": "stdout",
     "output_type": "stream",
     "text": [
      "['51099604_1026604961.txt', '51122915_TS1021101.txt', '51125369_102bali-005-1.txt', '51170299_L1331021201.txt', '51236707_1010062-1.txt', '51238144_C1030415.txt', '51238769_A35014.txt', '51238854_1030307.txt', '51239201_10302.txt', '51239215_002-103-3-3-02.txt', '51239216_NCC-Y103-010.txt', '51239234_103-02-029.txt', '51239245_103A03.txt', '51239274_UCA028C009.txt', '51239281_103-04.txt', '51239284_10318.txt', '51239291_0607L1030328.txt', '51239297_FH03032P033.txt', '51239301_EB10319.txt', '51239328_1030304.txt', '51239331_W10P103017.txt', '51239347_103107.txt', '51239361_W10P103012.txt', '51239371_4197.txt', '51239373_SV-103005.txt', '51239388_BAA0384001.txt', '51239395_1030324.txt', '51239412_103036.txt', '51239414_103230230128.txt', '51239415_10328.txt', '51239416_103026.txt', '51239456_103TMACH09S.txt', '51239468_3410300075-S03023.txt', '51239486_103FC002.txt', '51239509_A103000002.txt', '51239510_1030228.txt', '51239514_Jcs-1030501.txt', '51239526_1030401.txt', '51239533_103-03-080.txt', '51239537_NPM103037.txt', '51239550_D103002.txt', '51239554_FD03007P005.txt', '51239564_1030401.txt', '51239566_103-0052616.txt', '51239597_HJ03242P121.txt', '51239606_1030206.txt', '51239609_102107-1.txt', '51239619_103C2022.txt', '51239621_1030201.txt', '51239647_103A119.txt', '51239650_102108-1.txt', '51239654_B103167.txt', '51239662_B103169.txt', '51239663_1030325-1.txt', '51239664_M03I6247.txt', '51239667_B103162.txt', '51239675_103203.txt', '51239676_tms103064.txt', '51239680_01-10304086.txt', '51239683_1030326AA.txt', '51239688_S102026-1.txt', '51239692_103009.txt', '51239704_103016.txt', '51239708_B103165.txt', '51239709_103-03-27.txt', '51239717_XU03E29P092.txt', '51239723_1030055.txt', '51239725_TC103C023.txt', '51239727_1030247.txt', '51239734_103008.txt', '51239741_103A021.txt', '51239750_IOT-103-H3D010.txt', '51239764_103042111.txt', '51239767_103-5.txt', '51239796_M1030062.txt', '51239827_103-0311-1-007.txt', '51239829_C10300519.txt', '51239837_10320.txt', '51239839_10303A.txt', '51239844_F103-44.txt', '51239853_10307.txt', '51239871_1030418.txt', '51239873_103-0311-1-009.txt', '51239876_ndc103008.txt', '51239883_1021011C.txt', '51239884_103005.txt', '51239903_C103-07.txt', '51239907_103B0308.txt', '51239913_1180300003.txt', '51239914_HST10312.txt', '51239925_2014041603.txt', '51239930_1030428.txt', '51239931_2014031704.txt', '51239933_103018.txt', '51239934_1030314-01.txt', '51239937_Q10306.txt', '51239940_103B0403.txt', '51239943_NCCT103005.txt', '51239946_10308.txt', '51239958_117103006-1.txt', '51239966_52R-140003.txt', '51239970_103004.txt', '51239986_103310.txt', '51239995_NL1030479.txt', '51240003_103311.txt', '51240004_AAC1033001.txt', '51240008_c1030023.txt', '51240009_10302211.txt', '51240016_103traffic012.txt', '51240019_103W009.txt', '51240020_103B0311.txt', '51240050_103A17.txt', '51240054_D103-0219-1.txt', '51240072_B961.txt', '51240090_1030321A.txt', '51240129_H103-006.txt', '51240131_1030331-1.txt', '51240132_103-21-23.txt', '51240142_103-21-20.txt', '51240146_103TFDA-N-001.txt', '51240202_103430930099.txt', '51240240_103310230121.txt', '51240279_103M602.txt', '51240484_103A011A.txt', '51240536_10310.txt', '51240543_DPD2014041102.txt', '51240557_NKUHT1524-10310.txt', '51240570_103B018.txt', '51240622_DPD2014041101.txt', '51240623_TC103C036.txt', '51240655_AASC-103085.txt', '51240712_103B04.txt', '51240739_G103EDU043.txt', '51240824_1030203.txt', '51240875_B102RD03012.txt', '51240942_SL-103046.txt', '51241029_1030011069.txt', '51241062_SL-103050.txt', '51241063_103075.txt', '51241099_103-0021002-029-2-6.txt', '51241103_P103001.txt', '51241108_11-1030328.txt', '51241115_1030404.txt', '51241135_103-TY-142.txt', '51241289_103-7.txt', '51241301_103003.txt', '51241358_Y103016.txt', '51241458_10302.txt', '51241485_103230330119.txt', '51241496_W103ABC071.txt', '51241498_103-2-010.txt', '51241557_NG03035P009P.txt', '51241573_SL-103043.txt', '51241602_103-19.txt', '51241621_MPB10390429.txt', '51241665_B1030422.txt', '51241666_B1030411.txt', '51241674_XW03072P119.txt', '51241675_XW03118P099.txt']\n"
     ]
    }
   ],
   "source": [
    "db = sqlite3.connect('tender.sqlite')\n",
    "cur = db.cursor()\n",
    "path = \"gov/\"\n",
    "dirs = os.listdir(path) \n",
    "print dirs"
   ]
  },
  {
   "cell_type": "code",
   "execution_count": 206,
   "metadata": {
    "collapsed": true
   },
   "outputs": [],
   "source": [
    "db = sqlite3.connect('tender.sqlite')\n",
    "cur = db.cursor()\n",
    "path = \"gov/\"\n",
    "dirs = os.listdir(path) \n",
    "for filename in dirs:\n",
    "    ele = get_response_element(path + filename)\n",
    "    award_info_dic = get_award_info_dic(ele)    \n",
    "    insert_award_info(cur, award_info_dic, filename)\n",
    "db.commit()\n",
    "db.close()"
   ]
  },
  {
   "cell_type": "code",
   "execution_count": null,
   "metadata": {
    "collapsed": true
   },
   "outputs": [],
   "source": []
  }
 ],
 "metadata": {
  "kernelspec": {
   "display_name": "Python 2",
   "language": "python",
   "name": "python2"
  },
  "language_info": {
   "codemirror_mode": {
    "name": "ipython",
    "version": 2
   },
   "file_extension": ".py",
   "mimetype": "text/x-python",
   "name": "python",
   "nbconvert_exporter": "python",
   "pygments_lexer": "ipython2",
   "version": "2.7.10"
  }
 },
 "nbformat": 4,
 "nbformat_minor": 0
}
