{
 "cells": [
  {
   "cell_type": "code",
   "execution_count": 2,
   "metadata": {
    "collapsed": false
   },
   "outputs": [
    {
     "name": "stdout",
     "output_type": "stream",
     "text": [
      "Hello World\n"
     ]
    }
   ],
   "source": [
    "print \"Hello World\""
   ]
  },
  {
   "cell_type": "code",
   "execution_count": 5,
   "metadata": {
    "collapsed": false
   },
   "outputs": [
    {
     "data": {
      "text/plain": [
       "5"
      ]
     },
     "execution_count": 5,
     "metadata": {},
     "output_type": "execute_result"
    }
   ],
   "source": [
    "a = 3 \n",
    "a + 2"
   ]
  },
  {
   "cell_type": "code",
   "execution_count": 6,
   "metadata": {
    "collapsed": false
   },
   "outputs": [
    {
     "name": "stdout",
     "output_type": "stream",
     "text": [
      "Hello World\n"
     ]
    }
   ],
   "source": [
    "print \"Hello World\""
   ]
  },
  {
   "cell_type": "code",
   "execution_count": 12,
   "metadata": {
    "collapsed": false
   },
   "outputs": [
    {
     "name": "stderr",
     "output_type": "stream",
     "text": [
      "C:\\Python27\\lib\\site-packages\\requests\\packages\\urllib3\\util\\ssl_.py:90: InsecurePlatformWarning: A true SSLContext object is not available. This prevents urllib3 from configuring SSL appropriately and may cause certain SSL connections to fail. For more information, see https://urllib3.readthedocs.org/en/latest/security.html#insecureplatformwarning.\n",
      "  InsecurePlatformWarning\n",
      "C:\\Python27\\lib\\site-packages\\requests\\packages\\urllib3\\connectionpool.py:768: InsecureRequestWarning: Unverified HTTPS request is being made. Adding certificate verification is strongly advised. See: https://urllib3.readthedocs.org/en/latest/security.html\n",
      "  InsecureRequestWarning)\n"
     ]
    }
   ],
   "source": [
    "import requests\n",
    "from bs4 import BeautifulSoup as bs\n",
    "import jieba\n",
    "res = requests.get('https://www.ptt.cc/bbs/Soft_Job/index.html', verify=False)\n",
    "soup = bs(res.text)\n",
    "dic = {}\n",
    "for ent in  soup.select('.r-ent'):\n",
    "    for w in jieba.cut(ent.select('.title')[0].text.strip()):\n",
    "        if w not in dic:\n",
    "            dic[w] = 1\n",
    "        else:\n",
    "            dic[w] = dic[w] + 1\n",
    "            \n",
    "#for ele in  dic:\n",
    "#    print ele, dic[ele]    "
   ]
  },
  {
   "cell_type": "code",
   "execution_count": 13,
   "metadata": {
    "collapsed": false
   },
   "outputs": [
    {
     "data": {
      "text/plain": [
       "'\\nmultiple\\ncomments\\n'"
      ]
     },
     "execution_count": 13,
     "metadata": {},
     "output_type": "execute_result"
    }
   ],
   "source": [
    "# this is a comment\n",
    "\n",
    "'''\n",
    "multiple\n",
    "comments\n",
    "'''"
   ]
  },
  {
   "cell_type": "code",
   "execution_count": 16,
   "metadata": {
    "collapsed": false
   },
   "outputs": [
    {
     "name": "stdout",
     "output_type": "stream",
     "text": [
      "<type 'int'>\n",
      "<type 'str'>\n"
     ]
    },
    {
     "ename": "TypeError",
     "evalue": "unsupported operand type(s) for +: 'int' and 'str'",
     "output_type": "error",
     "traceback": [
      "\u001b[1;31m---------------------------------------------------------------------------\u001b[0m",
      "\u001b[1;31mTypeError\u001b[0m                                 Traceback (most recent call last)",
      "\u001b[1;32m<ipython-input-16-c522e7ae42df>\u001b[0m in \u001b[0;36m<module>\u001b[1;34m()\u001b[0m\n\u001b[0;32m      4\u001b[0m \u001b[0mb\u001b[0m \u001b[1;33m=\u001b[0m \u001b[1;34m\"hello world\"\u001b[0m\u001b[1;33m\u001b[0m\u001b[0m\n\u001b[0;32m      5\u001b[0m \u001b[1;32mprint\u001b[0m \u001b[0mtype\u001b[0m\u001b[1;33m(\u001b[0m\u001b[0mb\u001b[0m\u001b[1;33m)\u001b[0m\u001b[1;33m\u001b[0m\u001b[0m\n\u001b[1;32m----> 6\u001b[1;33m \u001b[0ma\u001b[0m \u001b[1;33m+\u001b[0m \u001b[0mb\u001b[0m\u001b[1;33m\u001b[0m\u001b[0m\n\u001b[0m",
      "\u001b[1;31mTypeError\u001b[0m: unsupported operand type(s) for +: 'int' and 'str'"
     ]
    }
   ],
   "source": [
    "# int a = 3;\n",
    "a = 3\n",
    "print type(a)\n",
    "b = \"hello world\"\n",
    "print type(b)\n",
    "a + b"
   ]
  },
  {
   "cell_type": "code",
   "execution_count": 19,
   "metadata": {
    "collapsed": true
   },
   "outputs": [],
   "source": [
    "import sys\n",
    "\n",
    "# This is a single line comment\n",
    "def main():\n",
    "    print 'Hello World'"
   ]
  },
  {
   "cell_type": "code",
   "execution_count": 20,
   "metadata": {
    "collapsed": false
   },
   "outputs": [
    {
     "name": "stdout",
     "output_type": "stream",
     "text": [
      "Hello World\n"
     ]
    }
   ],
   "source": [
    "main()"
   ]
  },
  {
   "cell_type": "code",
   "execution_count": 24,
   "metadata": {
    "collapsed": false
   },
   "outputs": [
    {
     "name": "stdout",
     "output_type": "stream",
     "text": [
      "Help on built-in function exit in module sys:\n",
      "\n",
      "exit(...)\n",
      "    exit([status])\n",
      "    \n",
      "    Exit the interpreter by raising SystemExit(status).\n",
      "    If the status is omitted or None, it defaults to zero (i.e., success).\n",
      "    If the status is an integer, it will be used as the system exit status.\n",
      "    If it is another kind of object, it will be printed and the system\n",
      "    exit status will be one (i.e., failure).\n",
      "\n"
     ]
    }
   ],
   "source": [
    "import sys\n",
    "#help(sys)\n",
    "#?sys\n",
    "#dir(sys)\n",
    "help(sys.exit)"
   ]
  },
  {
   "cell_type": "code",
   "execution_count": 25,
   "metadata": {
    "collapsed": false
   },
   "outputs": [
    {
     "name": "stdout",
     "output_type": "stream",
     "text": [
      "Hello from python\n"
     ]
    }
   ],
   "source": [
    "print (\"Hello from python\")\n"
   ]
  },
  {
   "cell_type": "code",
   "execution_count": 24,
   "metadata": {
    "collapsed": false
   },
   "outputs": [
    {
     "name": "stdout",
     "output_type": "stream",
     "text": [
      "How are you?\"Hi\"\n"
     ]
    },
    {
     "data": {
      "text/plain": [
       "'Hi'"
      ]
     },
     "execution_count": 24,
     "metadata": {},
     "output_type": "execute_result"
    }
   ],
   "source": [
    "input(\"How are you?\")"
   ]
  },
  {
   "cell_type": "code",
   "execution_count": 30,
   "metadata": {
    "collapsed": false
   },
   "outputs": [
    {
     "name": "stdout",
     "output_type": "stream",
     "text": [
      "How are you?\"123\"\n"
     ]
    }
   ],
   "source": [
    "answer = input(\"How are you?\")"
   ]
  },
  {
   "cell_type": "code",
   "execution_count": 5,
   "metadata": {
    "collapsed": false
   },
   "outputs": [
    {
     "name": "stdout",
     "output_type": "stream",
     "text": [
      "How are you?hi\n"
     ]
    }
   ],
   "source": [
    "answer = raw_input(\"How are you?\")"
   ]
  },
  {
   "cell_type": "code",
   "execution_count": 6,
   "metadata": {
    "collapsed": false
   },
   "outputs": [
    {
     "name": "stdout",
     "output_type": "stream",
     "text": [
      "hi\n"
     ]
    }
   ],
   "source": [
    "print answer"
   ]
  },
  {
   "cell_type": "code",
   "execution_count": 10,
   "metadata": {
    "collapsed": false
   },
   "outputs": [
    {
     "name": "stdout",
     "output_type": "stream",
     "text": [
      "What is your name? John\n",
      "Hi John\n"
     ]
    }
   ],
   "source": [
    "name = raw_input(\"What is your name? \")\n",
    "if name == \"David\":\n",
    "    print \"Nice to mee you! \" + name\n",
    "elif name == \"John\":\n",
    "    print \"Hi John\"\n",
    "else:\n",
    "    print (\"Your name again?\")\n"
   ]
  },
  {
   "cell_type": "code",
   "execution_count": 17,
   "metadata": {
    "collapsed": false
   },
   "outputs": [
    {
     "name": "stdout",
     "output_type": "stream",
     "text": [
      "What is your name? David\n",
      "How old are you? 31\n",
      "My name is David, and I am 31 years old\n"
     ]
    }
   ],
   "source": [
    "name = raw_input(\"What is your name? \")\n",
    "age = raw_input(\"How old are you? \")\n",
    "\n",
    "# Method 1: concat phrases with +\n",
    "#print \"My name is \"+ name + \", and I am \" + age + \" years old\"\n",
    "\n",
    "# Method 2: {} best\n",
    "#print \"My name is {}, and I am {} years old\".format(name, age)\n",
    "\n",
    "# Method 3: {} with index best\n",
    "#print \"My name is {0}, and I am {1} years old\".format(name, age)\n",
    "#print \"My name is {1}, and I am {1} years old\".format(name, age)\n",
    "\n",
    "# Method 4: %s => str, %d => int\n",
    "#print \"My name is %s, and I am %d years old\"%(name, int(age))"
   ]
  },
  {
   "cell_type": "code",
   "execution_count": 20,
   "metadata": {
    "collapsed": false
   },
   "outputs": [
    {
     "name": "stdout",
     "output_type": "stream",
     "text": [
      "http://www.appledaily.com.tw/realtimenews/article/finance/20150908/687086/%E5%93%80%E9%B3%B3%E5%8F%B2%E4%B8%8A%E6%9C%80%E8%96%84%E3%80%80%E6%98%8E%E5%B9%B4i7%E5%83%856mm/1\n"
     ]
    },
    {
     "ename": "TypeError",
     "evalue": "float argument required, not str",
     "output_type": "error",
     "traceback": [
      "\u001b[1;31m---------------------------------------------------------------------------\u001b[0m",
      "\u001b[1;31mTypeError\u001b[0m                                 Traceback (most recent call last)",
      "\u001b[1;32m<ipython-input-20-bcf1b91c12d0>\u001b[0m in \u001b[0;36m<module>\u001b[1;34m()\u001b[0m\n\u001b[0;32m      1\u001b[0m \u001b[1;32mprint\u001b[0m \u001b[1;34m\"http://www.appledaily.com.tw/realtimenews/article/finance/20150908/687086/%E5%93%80%E9%B3%B3%E5%8F%B2%E4%B8%8A%E6%9C%80%E8%96%84%E3%80%80%E6%98%8E%E5%B9%B4i7%E5%83%856mm/{}\"\u001b[0m\u001b[1;33m.\u001b[0m\u001b[0mformat\u001b[0m\u001b[1;33m(\u001b[0m\u001b[1;34m'1'\u001b[0m\u001b[1;33m)\u001b[0m\u001b[1;33m\u001b[0m\u001b[0m\n\u001b[1;32m----> 2\u001b[1;33m \u001b[1;32mprint\u001b[0m \u001b[1;34m\"http://www.appledaily.com.tw/realtimenews/article/finance/20150908/687086/%E5%93%80%E9%B3%B3%E5%8F%B2%E4%B8%8A%E6%9C%80%E8%96%84%E3%80%80%E6%98%8E%E5%B9%B4i7%E5%83%856mm/%s\"\u001b[0m\u001b[1;33m%\u001b[0m\u001b[1;33m(\u001b[0m\u001b[1;34m'1'\u001b[0m\u001b[1;33m)\u001b[0m\u001b[1;33m\u001b[0m\u001b[0m\n\u001b[0m",
      "\u001b[1;31mTypeError\u001b[0m: float argument required, not str"
     ]
    }
   ],
   "source": [
    "print \"http://www.appledaily.com.tw/realtimenews/article/finance/20150908/687086/%E5%93%80%E9%B3%B3%E5%8F%B2%E4%B8%8A%E6%9C%80%E8%96%84%E3%80%80%E6%98%8E%E5%B9%B4i7%E5%83%856mm/{}\".format('1')\n",
    "print \"http://www.appledaily.com.tw/realtimenews/article/finance/20150908/687086/%E5%93%80%E9%B3%B3%E5%8F%B2%E4%B8%8A%E6%9C%80%E8%96%84%E3%80%80%E6%98%8E%E5%B9%B4i7%E5%83%856mm/%s\"%('1')"
   ]
  },
  {
   "cell_type": "code",
   "execution_count": 32,
   "metadata": {
    "collapsed": false
   },
   "outputs": [
    {
     "name": "stdout",
     "output_type": "stream",
     "text": [
      "5\n",
      "1\n",
      "4.0\n",
      "-1.0\n",
      "<type 'int'>\n",
      "<type 'float'>\n"
     ]
    }
   ],
   "source": [
    "a = 3\n",
    "b = 2\n",
    "print a + b \n",
    "print a - b\n",
    "\n",
    "c = 1.5\n",
    "d = 2.5\n",
    "print c + d\n",
    "print c - d\n",
    "\n",
    "print type(a + b)\n",
    "print type(c + d)"
   ]
  },
  {
   "cell_type": "code",
   "execution_count": 35,
   "metadata": {
    "collapsed": false
   },
   "outputs": [
    {
     "name": "stdout",
     "output_type": "stream",
     "text": [
      "<type 'str'>\n",
      "<type 'int'>\n",
      "234567\n",
      "34569\n"
     ]
    }
   ],
   "source": [
    "s = '2'\n",
    "print type(s)\n",
    "int(s)\n",
    "print type(int(s))\n",
    "\n",
    "print s + '34567'\n",
    "print int(s) + 34567"
   ]
  },
  {
   "cell_type": "code",
   "execution_count": 42,
   "metadata": {
    "collapsed": false
   },
   "outputs": [
    {
     "name": "stdout",
     "output_type": "stream",
     "text": [
      "2.0\n",
      "3.2\n",
      "0\n",
      "0.0\n",
      "0.666666666667\n",
      "0.666666666667\n",
      "0.666666666667\n"
     ]
    }
   ],
   "source": [
    "print float(2)\n",
    "print float(3.2)\n",
    "\n",
    "print 2/3\n",
    "print float(2/3)\n",
    "\n",
    "# print numeric after period\n",
    "print float(2)/3\n",
    "print 2.0/3\n",
    "print 2 /3.0"
   ]
  },
  {
   "cell_type": "code",
   "execution_count": 45,
   "metadata": {
    "collapsed": false
   },
   "outputs": [
    {
     "name": "stdout",
     "output_type": "stream",
     "text": [
      "qoo\n",
      "qooqooqoo\n",
      "????????\n"
     ]
    }
   ],
   "source": [
    "print 'qoo'\n",
    "print 'qoo' * 3\n",
    "print '?' * 8"
   ]
  },
  {
   "cell_type": "code",
   "execution_count": 46,
   "metadata": {
    "collapsed": false
   },
   "outputs": [
    {
     "name": "stdout",
     "output_type": "stream",
     "text": [
      "Repeat Times: 5\n",
      "Qoo Qoo Qoo Qoo Qoo \n"
     ]
    }
   ],
   "source": [
    "times = raw_input(\"Repeat Times: \")\n",
    "print(\"Qoo \" * int(times))\n",
    "\n"
   ]
  },
  {
   "cell_type": "code",
   "execution_count": 49,
   "metadata": {
    "collapsed": false
   },
   "outputs": [
    {
     "name": "stdout",
     "output_type": "stream",
     "text": [
      "0\n",
      "0.333333333333\n",
      "0 0.333333333333\n"
     ]
    }
   ],
   "source": [
    "print 1/3\n",
    "print 1.0 /3\n",
    "\n",
    "# print with comma\n",
    "print 1/3,\n",
    "print 1/3.0\n"
   ]
  },
  {
   "cell_type": "code",
   "execution_count": 52,
   "metadata": {
    "collapsed": false
   },
   "outputs": [
    {
     "name": "stdout",
     "output_type": "stream",
     "text": [
      "0\n",
      "1\n"
     ]
    }
   ],
   "source": [
    "print 1/3\n",
    "print 3/3"
   ]
  },
  {
   "cell_type": "code",
   "execution_count": 53,
   "metadata": {
    "collapsed": false
   },
   "outputs": [
    {
     "ename": "ZeroDivisionError",
     "evalue": "integer division or modulo by zero",
     "output_type": "error",
     "traceback": [
      "\u001b[1;31m---------------------------------------------------------------------------\u001b[0m",
      "\u001b[1;31mZeroDivisionError\u001b[0m                         Traceback (most recent call last)",
      "\u001b[1;32m<ipython-input-53-a0641230c7a8>\u001b[0m in \u001b[0;36m<module>\u001b[1;34m()\u001b[0m\n\u001b[1;32m----> 1\u001b[1;33m \u001b[1;36m3\u001b[0m\u001b[1;33m/\u001b[0m\u001b[1;36m0\u001b[0m\u001b[1;33m\u001b[0m\u001b[0m\n\u001b[0m",
      "\u001b[1;31mZeroDivisionError\u001b[0m: integer division or modulo by zero"
     ]
    }
   ],
   "source": [
    "3/0"
   ]
  },
  {
   "cell_type": "code",
   "execution_count": 54,
   "metadata": {
    "collapsed": false
   },
   "outputs": [
    {
     "name": "stdout",
     "output_type": "stream",
     "text": [
      "three divides to 0 shows zero devision error\n"
     ]
    }
   ],
   "source": [
    "try:\n",
    "    3/0\n",
    "except ZeroDivisionError:\n",
    "    print \"three divides to 0 shows zero devision error\""
   ]
  },
  {
   "cell_type": "code",
   "execution_count": 60,
   "metadata": {
    "collapsed": false
   },
   "outputs": [
    {
     "name": "stdout",
     "output_type": "stream",
     "text": [
      "Dividend: 3/0\n",
      "Divisor: 0\n"
     ]
    },
    {
     "ename": "ValueError",
     "evalue": "invalid literal for float(): 3/0",
     "output_type": "error",
     "traceback": [
      "\u001b[1;31m---------------------------------------------------------------------------\u001b[0m",
      "\u001b[1;31mValueError\u001b[0m                                Traceback (most recent call last)",
      "\u001b[1;32m<ipython-input-60-324fba9d1f83>\u001b[0m in \u001b[0;36m<module>\u001b[1;34m()\u001b[0m\n\u001b[0;32m      3\u001b[0m \u001b[1;33m\u001b[0m\u001b[0m\n\u001b[0;32m      4\u001b[0m \u001b[1;32mtry\u001b[0m\u001b[1;33m:\u001b[0m\u001b[1;33m\u001b[0m\u001b[0m\n\u001b[1;32m----> 5\u001b[1;33m     \u001b[1;32mprint\u001b[0m \u001b[0mfloat\u001b[0m\u001b[1;33m(\u001b[0m\u001b[0mdividend\u001b[0m\u001b[1;33m)\u001b[0m \u001b[1;33m/\u001b[0m \u001b[0mfloat\u001b[0m\u001b[1;33m(\u001b[0m\u001b[0mdivisor\u001b[0m\u001b[1;33m)\u001b[0m\u001b[1;33m\u001b[0m\u001b[0m\n\u001b[0m\u001b[0;32m      6\u001b[0m \u001b[1;32mexcept\u001b[0m \u001b[0mZeroDivisionError\u001b[0m \u001b[1;32mas\u001b[0m \u001b[0mdetail\u001b[0m\u001b[1;33m:\u001b[0m\u001b[1;33m\u001b[0m\u001b[0m\n\u001b[0;32m      7\u001b[0m     \u001b[1;32mprint\u001b[0m \u001b[1;34m\"ZeroDvisionError\"\u001b[0m\u001b[1;33m,\u001b[0m \u001b[0mdetail\u001b[0m\u001b[1;33m\u001b[0m\u001b[0m\n",
      "\u001b[1;31mValueError\u001b[0m: invalid literal for float(): 3/0"
     ]
    }
   ],
   "source": [
    "dividend = raw_input(\"Dividend: \")\n",
    "divisor = raw_input(\"Divisor: \")\n",
    "\n",
    "try:\n",
    "    print float(dividend) / float(divisor)\n",
    "except ZeroDivisionError as detail:\n",
    "    print \"ZeroDvisionError\", detail\n"
   ]
  },
  {
   "cell_type": "code",
   "execution_count": 61,
   "metadata": {
    "collapsed": false
   },
   "outputs": [
    {
     "name": "stdout",
     "output_type": "stream",
     "text": [
      "Dividend: 3/0\n",
      "Divisor: 0\n",
      "ValueError invalid literal for float(): 3/0\n"
     ]
    }
   ],
   "source": [
    "dividend = raw_input(\"Dividend: \")\n",
    "divisor = raw_input(\"Divisor: \")\n",
    "\n",
    "try:\n",
    "    print float(dividend) / float(divisor)\n",
    "except ValueError as detail:\n",
    "    print \"ValueError\", detail\n",
    "except ZeroDivisionError as detail:\n",
    "    print \"ZeroDvisionError\", detail\n"
   ]
  },
  {
   "cell_type": "code",
   "execution_count": 63,
   "metadata": {
    "collapsed": false
   },
   "outputs": [
    {
     "name": "stdout",
     "output_type": "stream",
     "text": [
      "Dividend: 3/0\n",
      "Divisor: 0\n",
      "error\n"
     ]
    }
   ],
   "source": [
    "dividend = raw_input(\"Dividend: \")\n",
    "divisor = raw_input(\"Divisor: \")\n",
    "\n",
    "try:\n",
    "    print float(dividend) / float(divisor)\n",
    "except: \n",
    "    print \"error\"\n"
   ]
  },
  {
   "cell_type": "code",
   "execution_count": 66,
   "metadata": {
    "collapsed": false
   },
   "outputs": [
    {
     "name": "stdout",
     "output_type": "stream",
     "text": [
      "hello world\n",
      "hello world\n",
      "this is a 'book' \n",
      "this is a \"book\"\n"
     ]
    }
   ],
   "source": [
    "print \"hello world\"\n",
    "print 'hello world'\n",
    "print \"this is a 'book' \"\n",
    "print 'this is a \"book\"'"
   ]
  },
  {
   "cell_type": "code",
   "execution_count": 68,
   "metadata": {
    "collapsed": false
   },
   "outputs": [
    {
     "name": "stdout",
     "output_type": "stream",
     "text": [
      "hi this is a long text\n",
      "hi this is a l\n",
      "ong text\n"
     ]
    }
   ],
   "source": [
    "a = 'hi this is a l\\\n",
    "ong text'\n",
    "print a\n",
    "\n",
    "a = '''hi this is a l\n",
    "ong text'''\n",
    "print a\n"
   ]
  },
  {
   "cell_type": "code",
   "execution_count": 78,
   "metadata": {
    "collapsed": false
   },
   "outputs": [
    {
     "name": "stdout",
     "output_type": "stream",
     "text": [
      "h\n",
      "e\n",
      "d\n",
      "l\n"
     ]
    }
   ],
   "source": [
    "s = 'hello world'\n",
    "print s[0]\n",
    "print s[1]\n",
    "print s[-1]\n",
    "print s[-2]"
   ]
  },
  {
   "cell_type": "code",
   "execution_count": 81,
   "metadata": {
    "collapsed": false
   },
   "outputs": [
    {
     "name": "stdout",
     "output_type": "stream",
     "text": [
      "11\n",
      "hello world yoyo\n"
     ]
    }
   ],
   "source": [
    "print len(s)\n",
    "print s + ' yoyo'"
   ]
  },
  {
   "cell_type": "code",
   "execution_count": 77,
   "metadata": {
    "collapsed": false
   },
   "outputs": [
    {
     "name": "stdout",
     "output_type": "stream",
     "text": [
      ".android\n",
      ".appcfg_nag\n",
      ".cache\n",
      ".config\n",
      ".continuum\n",
      ".deltafy\n",
      ".eclipse\n",
      ".gem\n",
      ".gitconfig\n",
      ".gitignore\n",
      ".heroku\n",
      ".ipynb_checkpoints\n",
      ".ipython\n",
      ".m2\n",
      ".matplotlib\n",
      ".RData\n",
      ".Rhistory\n",
      ".rnd\n",
      ".ssh\n",
      ".titanium\n",
      ".vagrant.d\n",
      ".VirtualBox\n"
     ]
    }
   ],
   "source": [
    "import os\n",
    "for f in  os.listdir('../'):\n",
    "    if f[0] == '.':\n",
    "        print f"
   ]
  },
  {
   "cell_type": "code",
   "execution_count": 84,
   "metadata": {
    "collapsed": false
   },
   "outputs": [
    {
     "name": "stdout",
     "output_type": "stream",
     "text": [
      "30yoyo\n",
      "80\n",
      "my age is 30\n"
     ]
    }
   ],
   "source": [
    "s = '30'\n",
    "print s + 'yoyo'\n",
    "print int(s) + 50\n",
    "\n",
    "\n",
    "age = 30\n",
    "print \"my age is \" + str(age)\n"
   ]
  },
  {
   "cell_type": "code",
   "execution_count": 85,
   "metadata": {
    "collapsed": false
   },
   "outputs": [
    {
     "name": "stdout",
     "output_type": "stream",
     "text": [
      "\n",
      "\t this is a \t line with format \t\n",
      "\n"
     ]
    }
   ],
   "source": [
    "# \\t => tab, \\n => new line\n",
    "\n",
    "raw = '\\n\\t this is a \\t line with format \\t\\n'\n",
    "print raw   \n"
   ]
  },
  {
   "cell_type": "code",
   "execution_count": 86,
   "metadata": {
    "collapsed": false
   },
   "outputs": [
    {
     "name": "stdout",
     "output_type": "stream",
     "text": [
      "\\n\\t this is a \\t line with format \\t\\n\n"
     ]
    }
   ],
   "source": [
    "raw = r'\\n\\t this is a \\t line with format \\t\\n'\n",
    "print raw   \n"
   ]
  },
  {
   "cell_type": "code",
   "execution_count": 87,
   "metadata": {
    "collapsed": false
   },
   "outputs": [
    {
     "name": "stdout",
     "output_type": "stream",
     "text": [
      "'\\n\\t this is a \\t line with format \\t\\n'\n"
     ]
    }
   ],
   "source": [
    "raw = repr('\\n\\t this is a \\t line with format \\t\\n')\n",
    "print raw \n"
   ]
  },
  {
   "cell_type": "code",
   "execution_count": 92,
   "metadata": {
    "collapsed": false
   },
   "outputs": [
    {
     "name": "stdout",
     "output_type": "stream",
     "text": [
      "['Qoo', 'loves', 'OOP']\n",
      "QOO LOVES OOP\n",
      "qoo loves oop\n",
      "['__add__', '__class__', '__contains__', '__delattr__', '__doc__', '__eq__', '__format__', '__ge__', '__getattribute__', '__getitem__', '__getnewargs__', '__getslice__', '__gt__', '__hash__', '__init__', '__le__', '__len__', '__lt__', '__mod__', '__mul__', '__ne__', '__new__', '__reduce__', '__reduce_ex__', '__repr__', '__rmod__', '__rmul__', '__setattr__', '__sizeof__', '__str__', '__subclasshook__', '_formatter_field_name_split', '_formatter_parser', 'capitalize', 'center', 'count', 'decode', 'encode', 'endswith', 'expandtabs', 'find', 'format', 'index', 'isalnum', 'isalpha', 'isdigit', 'islower', 'isspace', 'istitle', 'isupper', 'join', 'ljust', 'lower', 'lstrip', 'partition', 'replace', 'rfind', 'rindex', 'rjust', 'rpartition', 'rsplit', 'rstrip', 'split', 'splitlines', 'startswith', 'strip', 'swapcase', 'title', 'translate', 'upper', 'zfill']\n",
      "Qoo Loves Oop\n"
     ]
    }
   ],
   "source": [
    "a = 'Qoo loves OOP'\n",
    "print a.split()\n",
    "print a.upper()\n",
    "print a.lower()\n",
    "print dir(a)\n",
    "print a.title()"
   ]
  },
  {
   "cell_type": "code",
   "execution_count": 93,
   "metadata": {
    "collapsed": false
   },
   "outputs": [
    {
     "name": "stdout",
     "output_type": "stream",
     "text": [
      "False\n"
     ]
    }
   ],
   "source": [
    "a = 'Qoo loves OOP'\n",
    "print a.isdigit()"
   ]
  },
  {
   "cell_type": "code",
   "execution_count": 98,
   "metadata": {
    "collapsed": false
   },
   "outputs": [
    {
     "name": "stdout",
     "output_type": "stream",
     "text": [
      "2005.patch.txt\n",
      "2006.patch.txt\n",
      "2008.patch.txt\n",
      "2009.patch.txt\n",
      "51081295_102-0400-1-051.txt\n",
      "a1.txt\n",
      "aliblast.txt\n",
      "apple.txt\n",
      "bid_detail.txt\n",
      "bid_list.txt\n",
      "blastres.txt\n",
      "comedies.txt\n",
      "complete-testoutput1.txt\n",
      "complete-testoutput2.txt\n",
      "complete-testoutput3.txt\n",
      "corr-testoutput1.txt\n",
      "corr-testoutput2.txt\n",
      "corr-testoutput3.txt\n",
      "err.txt\n",
      "f1.txt\n",
      "f2.txt\n",
      "getmonitor-testoutput1.txt\n",
      "getmonitor-testoutput2.txt\n",
      "ingredients_copy.txt\n",
      "LICENSE.txt\n",
      "links.txt\n",
      "match.txt\n",
      "match1.txt\n",
      "myfile.txt\n",
      "new  3.txt\n",
      "stock1.txt\n",
      "t1.txt\n",
      "t2.txt\n",
      "t3.txt\n",
      "test.txt\n",
      "y1_text.txt\n"
     ]
    }
   ],
   "source": [
    "import os\n",
    "for f in os.listdir('../'):\n",
    "    if f.split('.')[-1] == 'txt':\n",
    "        print f"
   ]
  },
  {
   "cell_type": "code",
   "execution_count": 107,
   "metadata": {
    "collapsed": false
   },
   "outputs": [
    {
     "name": "stdout",
     "output_type": "stream",
     "text": [
      "atrk.gif?account=1Nevh1aYY900M9\n",
      "gwqavAO.png\n",
      "gift.png\n",
      "loading.gif\n",
      "loginSafety.png\n",
      "vUiZzlO.jpg\n",
      "6Ocuyjp.jpg\n",
      "63b1538127fa4d51bff31b698209ed10.jpg\n",
      "bmdQ9MR.jpg\n",
      "pVFHHqR.jpg\n",
      "e5ujgGi.jpg\n",
      "db9d82f02c3d4c9362a04bc34889a1cc.jpg\n",
      "1n8Rxn5.png\n",
      "812ba36d0c9d113a3b71c5c2d1fc5f18.jpg\n",
      "0c68244b4261c3c95ebd2ca460c4916e.jpg\n",
      "f6VFvxm.jpg\n",
      "79RxEeu.jpg\n",
      "5742ac0970c5a103dd2aed730bc70534.jpg\n",
      "ZHqlDsl.jpg\n",
      "766b3822283a4edefdadd2f9244bd127.jpg\n",
      "e5f47cfbe15af25ce2959359a0a7e293.jpg\n",
      "8c6dd80c74b0006ec195bd230e0e3140.jpg\n",
      "a1fa27638f13a9d7e8774f4ff7202b00.jpg\n",
      "68c7b011ab8bdc6251269a488b084ca5.jpg\n",
      "a746e3a5d8d64fe79406951bd01ae121.jpg\n",
      "f1c0ae244650d0fdf3de73d2ab44fb6a.jpg\n",
      "7efa29d7fdf112f8c50527b06c2be1a8.jpg\n",
      "842963581997c866bb221ed3e4652811.jpg\n",
      "e7b5e68103675fd3a92cc787b40044fe.jpg\n",
      "7744dff231c7dc09f173e44230bedaed.jpg\n",
      "10ee4a345d3332feb3c4d1bf34a192e5.jpg\n",
      "c13cad0fe4d096cbb0b7607fd5ebb647.jpg\n",
      "60ba7b5d1ac6ebf0cc2fd542dca6607f.jpg\n",
      "93ad854cf660978fc810f44941d631a1.jpg\n",
      "ccc724e989fba0016a79bf061c737da5.jpg\n",
      "c40a54e2f679cbc6bfe737e4cdc4a6e5.jpg\n",
      "156f14a3e27352711ca6a51275c7f22c.jpg\n",
      "12d36d90bf79eaf5c9797baa75d7863e.jpg\n",
      "fe54877aa46604c9a4834c3eeaafa1fe.jpg\n",
      "b39c6c68844123a483f80bc8f6cc9a39.jpg\n",
      "57a1a02821ef82b4bdb018c3ee5a6f4d.jpg\n",
      "0ac6f5e6ff26658eac3e8af027561efc.jpg\n",
      "5b6fea024c70275867b1084beef2bc80.jpg\n",
      "01d01f768891e9a37551d02fed0ad5d7.jpg\n",
      "fd00f7d2f96e35c8044418415092d373.jpg\n",
      "fd0d213a10b53a212cce7eeebf934040.jpg\n",
      "19ba560c5210ddc1593d5cd6808fd9be.jpg\n",
      "bbaa470241394d8abc542ce7908f115e.jpg\n",
      "809ee868838fd51a7737bfb6d786810f.jpg\n",
      "412d7b42e99cddcf73dfc76706440459.jpg\n",
      "0c5668c819b9b6c4c817d66a29843ee5.jpg\n",
      "a2e52bb9fc1876e719aa421b552d553e.jpg\n",
      "0e38b0527d1d99d4df6926a2fa39c527.jpg\n",
      "1110af6f3c99e82de16cbcb0b864bfbd.jpg\n",
      "50cfdd317ec2ddea2f223512e095ea8d.jpg\n",
      "a58077421548bd2296f4d5e5d3678171.jpg\n",
      "3dd2d1c63c1f348094964690d1c63315.jpg\n",
      "22e070fed73926f51c5bd6755c7d1583.jpg\n",
      "db8387310a0337e4e379888b716d0a69.jpg\n",
      "25adcfbde85aa87fe2b99a5ce823e966.jpg\n",
      "d2d4ee0f295179c421cdd4b3318efea5.jpg\n",
      "a29fea0025255483cf7e217208e0980f.jpg\n",
      "dd0a6d05dddf84fb9e31516d8d0e5805.jpg\n",
      "132036ddj2p5d7md0bvpm2.jpg\n",
      "135528kumxyfqdbx9qwqzh.jpg\n",
      "141512qgvv2md56zmmxhjk.jpg\n",
      "142029dn77v4f3753pf775.jpg\n",
      "currykid.jpg\n",
      "120600y1cy46ocyqc4qbyq.png\n",
      "120714hq0urr42jn8qzee8.jpg\n",
      "120923c1l474kl1469q68z.png\n",
      "5deecb22554c4b8afee15b4bd54e7667.jpg\n",
      "4f7addfcf822c32ee173eb6e9274c7fc.jpg\n",
      "1b6cc43f61c70ab63d212db1f818f3d6.jpg\n",
      "f9570839689edd13e978f29ba6e27846.jpg\n",
      "34a221278eac38ca08d390adc2d288f6.jpg\n",
      "f2d26bc3fe427bfbcfaabc9d28e3e4da.jpg\n",
      "db9d2bc87986589b983437ed00c075f7.jpg\n",
      "2ffce0cb10ef596538fe604fef2b0683.jpg\n",
      "sDEJfhd.gif\n",
      "IPl4NjW.gif\n",
      "qLTpZKN.jpg\n",
      "Chatjo1.png\n",
      "o1u5cDrq.jpg\n",
      "wDKJ5N2q.jpg\n",
      "CjUTDfyq.jpg\n",
      "131523araljjj40ljgzrjp.jpg.thumb.jpg\n",
      "1111142301c61cc54cd7a1042a.jpg\n",
      "1104032050ee1abecf7d7e9da0.jpg\n",
      "1613145.jpg\n",
      "0068d8657e9124edb738550072f92762.jpg\n",
      "78018e2db2700171e0689c04ab3bd5ff.jpg\n",
      "fbf5423265d1c9104e037acdd488e39f.jpg\n",
      "f1f7a0903301c0aaa7c08a09de6a2d9a.jpg\n",
      "2141825be1f60d8f85e826809ac999ad.jpg\n",
      "f945e11c934c9b98ea79630663d8ae3c.jpg\n",
      "fdf695b6b73d2ee2ae96707e8e5cc67f.jpg\n",
      "J5Gb1cg.png\n",
      "uRAEOyG.png\n",
      "rnP561E.png\n",
      "BDVgDK5.png\n",
      "N6D4k1b.png\n",
      "UYRcFli.png\n",
      "VASHc2D.png\n",
      "Li6qldX.png\n",
      "BFYowLq.jpg\n",
      "G6C66zm.jpg\n",
      "3KCC9CX.jpg\n",
      "4ZqpSJq.jpg\n",
      "wresPWp.jpg\n",
      "ECD286k.jpg\n",
      "CclhWgE.jpg\n",
      "Gr6cmvQ.jpg\n",
      "wHQg0E5.png\n",
      "NBvsr7X.png\n",
      "ad_close.gif\n",
      "lIcQk78.jpg\n"
     ]
    }
   ],
   "source": [
    "import requests\n",
    "from bs4 import BeautifulSoup as bs \n",
    "\n",
    "headers  = {'User-Agent':'Mozilla/5.0 (Windows NT 6.1; WOW64) AppleWebKit/537.36 (KHTML, like Gecko) Chrome/44.0.2403.262 Safari/537.36'}\n",
    "res = requests.get('http://ck101.com/', headers = headers)\n",
    "soup = bs(res.text)\n",
    "for img in soup.select('img'):\n",
    "    if 'png' in img.get('src') or 'jpg' in img.get('src') or 'gif' in img.get('src'):\n",
    "        print img.get('src').split('/')[-1]\n",
    "        "
   ]
  },
  {
   "cell_type": "code",
   "execution_count": 115,
   "metadata": {
    "collapsed": false
   },
   "outputs": [
    {
     "ename": "error",
     "evalue": "[Errno 10054] 遠端主機已強制關閉一個現存的連線。",
     "output_type": "error",
     "traceback": [
      "\u001b[1;31m---------------------------------------------------------------------------\u001b[0m",
      "\u001b[1;31merror\u001b[0m                                     Traceback (most recent call last)",
      "\u001b[1;32m<ipython-input-115-7c04add071ec>\u001b[0m in \u001b[0;36m<module>\u001b[1;34m()\u001b[0m\n\u001b[0;32m     14\u001b[0m         \u001b[0mresponse\u001b[0m \u001b[1;33m=\u001b[0m \u001b[0mrequests\u001b[0m\u001b[1;33m.\u001b[0m\u001b[0mget\u001b[0m\u001b[1;33m(\u001b[0m\u001b[0mimg\u001b[0m\u001b[1;33m.\u001b[0m\u001b[0mget\u001b[0m\u001b[1;33m(\u001b[0m\u001b[1;34m'src'\u001b[0m\u001b[1;33m)\u001b[0m\u001b[1;33m,\u001b[0m \u001b[0mheaders\u001b[0m \u001b[1;33m=\u001b[0m \u001b[0mheaders\u001b[0m\u001b[1;33m,\u001b[0m \u001b[0mstream\u001b[0m\u001b[1;33m=\u001b[0m\u001b[0mTrue\u001b[0m\u001b[1;33m)\u001b[0m\u001b[1;33m\u001b[0m\u001b[0m\n\u001b[0;32m     15\u001b[0m         \u001b[1;32mwith\u001b[0m \u001b[0mopen\u001b[0m\u001b[1;33m(\u001b[0m\u001b[0mfname\u001b[0m\u001b[1;33m,\u001b[0m \u001b[1;34m'wb'\u001b[0m\u001b[1;33m)\u001b[0m \u001b[1;32mas\u001b[0m \u001b[0mout_file\u001b[0m\u001b[1;33m:\u001b[0m\u001b[1;33m\u001b[0m\u001b[0m\n\u001b[1;32m---> 16\u001b[1;33m             \u001b[0mshutil\u001b[0m\u001b[1;33m.\u001b[0m\u001b[0mcopyfileobj\u001b[0m\u001b[1;33m(\u001b[0m\u001b[0mresponse\u001b[0m\u001b[1;33m.\u001b[0m\u001b[0mraw\u001b[0m\u001b[1;33m,\u001b[0m \u001b[0mout_file\u001b[0m\u001b[1;33m)\u001b[0m\u001b[1;33m\u001b[0m\u001b[0m\n\u001b[0m\u001b[0;32m     17\u001b[0m         \u001b[1;32mdel\u001b[0m \u001b[0mresponse\u001b[0m\u001b[1;33m\u001b[0m\u001b[0m\n\u001b[0;32m     18\u001b[0m \u001b[1;33m\u001b[0m\u001b[0m\n",
      "\u001b[1;32mC:\\Python27\\Lib\\shutil.pyc\u001b[0m in \u001b[0;36mcopyfileobj\u001b[1;34m(fsrc, fdst, length)\u001b[0m\n\u001b[0;32m     47\u001b[0m     \u001b[1;34m\"\"\"copy data from file-like object fsrc to file-like object fdst\"\"\"\u001b[0m\u001b[1;33m\u001b[0m\u001b[0m\n\u001b[0;32m     48\u001b[0m     \u001b[1;32mwhile\u001b[0m \u001b[1;36m1\u001b[0m\u001b[1;33m:\u001b[0m\u001b[1;33m\u001b[0m\u001b[0m\n\u001b[1;32m---> 49\u001b[1;33m         \u001b[0mbuf\u001b[0m \u001b[1;33m=\u001b[0m \u001b[0mfsrc\u001b[0m\u001b[1;33m.\u001b[0m\u001b[0mread\u001b[0m\u001b[1;33m(\u001b[0m\u001b[0mlength\u001b[0m\u001b[1;33m)\u001b[0m\u001b[1;33m\u001b[0m\u001b[0m\n\u001b[0m\u001b[0;32m     50\u001b[0m         \u001b[1;32mif\u001b[0m \u001b[1;32mnot\u001b[0m \u001b[0mbuf\u001b[0m\u001b[1;33m:\u001b[0m\u001b[1;33m\u001b[0m\u001b[0m\n\u001b[0;32m     51\u001b[0m             \u001b[1;32mbreak\u001b[0m\u001b[1;33m\u001b[0m\u001b[0m\n",
      "\u001b[1;32mC:\\Python27\\lib\\site-packages\\requests\\packages\\urllib3\\response.pyc\u001b[0m in \u001b[0;36mread\u001b[1;34m(self, amt, decode_content, cache_content)\u001b[0m\n\u001b[0;32m    241\u001b[0m                 \u001b[1;32melse\u001b[0m\u001b[1;33m:\u001b[0m\u001b[1;33m\u001b[0m\u001b[0m\n\u001b[0;32m    242\u001b[0m                     \u001b[0mcache_content\u001b[0m \u001b[1;33m=\u001b[0m \u001b[0mFalse\u001b[0m\u001b[1;33m\u001b[0m\u001b[0m\n\u001b[1;32m--> 243\u001b[1;33m                     \u001b[0mdata\u001b[0m \u001b[1;33m=\u001b[0m \u001b[0mself\u001b[0m\u001b[1;33m.\u001b[0m\u001b[0m_fp\u001b[0m\u001b[1;33m.\u001b[0m\u001b[0mread\u001b[0m\u001b[1;33m(\u001b[0m\u001b[0mamt\u001b[0m\u001b[1;33m)\u001b[0m\u001b[1;33m\u001b[0m\u001b[0m\n\u001b[0m\u001b[0;32m    244\u001b[0m                     \u001b[1;32mif\u001b[0m \u001b[0mamt\u001b[0m \u001b[1;33m!=\u001b[0m \u001b[1;36m0\u001b[0m \u001b[1;32mand\u001b[0m \u001b[1;32mnot\u001b[0m \u001b[0mdata\u001b[0m\u001b[1;33m:\u001b[0m  \u001b[1;31m# Platform-specific: Buggy versions of Python.\u001b[0m\u001b[1;33m\u001b[0m\u001b[0m\n\u001b[0;32m    245\u001b[0m                         \u001b[1;31m# Close the connection when no data is returned\u001b[0m\u001b[1;33m\u001b[0m\u001b[1;33m\u001b[0m\u001b[0m\n",
      "\u001b[1;32mC:\\Python27\\Lib\\httplib.pyc\u001b[0m in \u001b[0;36mread\u001b[1;34m(self, amt)\u001b[0m\n\u001b[0;32m    565\u001b[0m         \u001b[1;31m# connection, and the user is reading more bytes than will be provided\u001b[0m\u001b[1;33m\u001b[0m\u001b[1;33m\u001b[0m\u001b[0m\n\u001b[0;32m    566\u001b[0m         \u001b[1;31m# (for example, reading in 1k chunks)\u001b[0m\u001b[1;33m\u001b[0m\u001b[1;33m\u001b[0m\u001b[0m\n\u001b[1;32m--> 567\u001b[1;33m         \u001b[0ms\u001b[0m \u001b[1;33m=\u001b[0m \u001b[0mself\u001b[0m\u001b[1;33m.\u001b[0m\u001b[0mfp\u001b[0m\u001b[1;33m.\u001b[0m\u001b[0mread\u001b[0m\u001b[1;33m(\u001b[0m\u001b[0mamt\u001b[0m\u001b[1;33m)\u001b[0m\u001b[1;33m\u001b[0m\u001b[0m\n\u001b[0m\u001b[0;32m    568\u001b[0m         \u001b[1;32mif\u001b[0m \u001b[1;32mnot\u001b[0m \u001b[0ms\u001b[0m \u001b[1;32mand\u001b[0m \u001b[0mamt\u001b[0m\u001b[1;33m:\u001b[0m\u001b[1;33m\u001b[0m\u001b[0m\n\u001b[0;32m    569\u001b[0m             \u001b[1;31m# Ideally, we would raise IncompleteRead if the content-length\u001b[0m\u001b[1;33m\u001b[0m\u001b[1;33m\u001b[0m\u001b[0m\n",
      "\u001b[1;32mC:\\Python27\\Lib\\socket.pyc\u001b[0m in \u001b[0;36mread\u001b[1;34m(self, size)\u001b[0m\n\u001b[0;32m    378\u001b[0m                 \u001b[1;31m# fragmentation issues on many platforms.\u001b[0m\u001b[1;33m\u001b[0m\u001b[1;33m\u001b[0m\u001b[0m\n\u001b[0;32m    379\u001b[0m                 \u001b[1;32mtry\u001b[0m\u001b[1;33m:\u001b[0m\u001b[1;33m\u001b[0m\u001b[0m\n\u001b[1;32m--> 380\u001b[1;33m                     \u001b[0mdata\u001b[0m \u001b[1;33m=\u001b[0m \u001b[0mself\u001b[0m\u001b[1;33m.\u001b[0m\u001b[0m_sock\u001b[0m\u001b[1;33m.\u001b[0m\u001b[0mrecv\u001b[0m\u001b[1;33m(\u001b[0m\u001b[0mleft\u001b[0m\u001b[1;33m)\u001b[0m\u001b[1;33m\u001b[0m\u001b[0m\n\u001b[0m\u001b[0;32m    381\u001b[0m                 \u001b[1;32mexcept\u001b[0m \u001b[0merror\u001b[0m\u001b[1;33m,\u001b[0m \u001b[0me\u001b[0m\u001b[1;33m:\u001b[0m\u001b[1;33m\u001b[0m\u001b[0m\n\u001b[0;32m    382\u001b[0m                     \u001b[1;32mif\u001b[0m \u001b[0me\u001b[0m\u001b[1;33m.\u001b[0m\u001b[0margs\u001b[0m\u001b[1;33m[\u001b[0m\u001b[1;36m0\u001b[0m\u001b[1;33m]\u001b[0m \u001b[1;33m==\u001b[0m \u001b[0mEINTR\u001b[0m\u001b[1;33m:\u001b[0m\u001b[1;33m\u001b[0m\u001b[0m\n",
      "\u001b[1;31merror\u001b[0m: [Errno 10054] 遠端主機已強制關閉一個現存的連線。"
     ]
    }
   ],
   "source": [
    "import requests\n",
    "import shutil\n",
    "from bs4 import BeautifulSoup as bs \n",
    "\n",
    "headers  = {'User-Agent':'Mozilla/5.0 (Windows NT 6.1; WOW64) AppleWebKit/537.36 (KHTML, like Gecko) Chrome/44.0.2403.262 Safari/537.36'}\n",
    "res = requests.get('http://ck101.com/', headers = headers)\n",
    "soup = bs(res.text)\n",
    "\n",
    "for img in soup.select('img'):\n",
    "    fname = img.get('src').split('/')[-1]\n",
    "    extension = fname.split('.')[1]\n",
    "    if  extension in ['png', 'gif', 'jpg']:\n",
    "        #print fname\n",
    "        response = requests.get(img.get('src'), headers = headers, stream=True)\n",
    "        with open(fname, 'wb') as out_file:\n",
    "            shutil.copyfileobj(response.raw, out_file)\n",
    "        del response"
   ]
  },
  {
   "cell_type": "code",
   "execution_count": 117,
   "metadata": {
    "collapsed": false
   },
   "outputs": [
    {
     "name": "stdout",
     "output_type": "stream",
     "text": [
      "['Qoo', 'loves', 'OOP']\n"
     ]
    },
    {
     "data": {
      "text/plain": [
       "'Qoo-loves-OOP'"
      ]
     },
     "execution_count": 117,
     "metadata": {},
     "output_type": "execute_result"
    }
   ],
   "source": [
    "import string\n",
    "a = 'Qoo loves OOP'\n",
    "print a.split()\n",
    "string.join(a.split(), '-') # 'Qoo-loves-OOP'\n",
    "\n",
    "a = 'Qoo loves OOP'\n",
    "'-'.join(a.split())\n"
   ]
  },
  {
   "cell_type": "code",
   "execution_count": 121,
   "metadata": {
    "collapsed": false
   },
   "outputs": [
    {
     "name": "stdout",
     "output_type": "stream",
     "text": [
      "['Qoo', 'loves', 'OOP']\n",
      "Qoo@loves@OOP\n",
      "['adsf', 'df', 'sdf', 'sdf']\n",
      "adsf df sdf sdf\n"
     ]
    }
   ],
   "source": [
    "a = 'Qoo loves OOP'\n",
    "print a.split()\n",
    "print '@'.join(a.split())\n",
    "\n",
    "a = 'adsf                     df                                    sdf                 sdf'\n",
    "print a.split()\n",
    "print ' '.join(a.split())"
   ]
  },
  {
   "cell_type": "code",
   "execution_count": 122,
   "metadata": {
    "collapsed": false
   },
   "outputs": [
    {
     "data": {
      "text/plain": [
       "('ell', 'ello', 'hello', 'ello')"
      ]
     },
     "execution_count": 122,
     "metadata": {},
     "output_type": "execute_result"
    }
   ],
   "source": [
    "s = 'hello'\n",
    "s[1:4]   , \\\n",
    "s[1:]    , \\\n",
    "s[:]     , \\\n",
    "s[1:100] , \\\n"
   ]
  },
  {
   "cell_type": "code",
   "execution_count": 123,
   "metadata": {
    "collapsed": false
   },
   "outputs": [
    {
     "data": {
      "text/plain": [
       "('o', 'e', 'he', 'llo')"
      ]
     },
     "execution_count": 123,
     "metadata": {},
     "output_type": "execute_result"
    }
   ],
   "source": [
    "s = 'hello'\n",
    "s[-1] , \\\n",
    "s[-4] , \\\n",
    "s[:-3] , \\\n",
    "s[-3:] , \\\n"
   ]
  },
  {
   "cell_type": "code",
   "execution_count": 125,
   "metadata": {
    "collapsed": false
   },
   "outputs": [
    {
     "name": "stdout",
     "output_type": "stream",
     "text": [
      "olleh\n",
      "True\n"
     ]
    }
   ],
   "source": [
    "s = 'hello'\n",
    "# for(i = len(s); i> 0 ; i--)\n",
    "print s[::-1]\n",
    "\n",
    "\n",
    "a = 'abcdedcba'\n",
    "print a==a[::-1] "
   ]
  },
  {
   "cell_type": "code",
   "execution_count": 128,
   "metadata": {
    "collapsed": false
   },
   "outputs": [
    {
     "name": "stdout",
     "output_type": "stream",
     "text": [
      "The results are 3.14159 and 5\n",
      "The results are 3.14 and 5\n"
     ]
    }
   ],
   "source": [
    "#String Formatting \n",
    "print 'The results are {} and {}'.format(3.14159, 5)\n",
    "\n",
    "# str => %s int => %d float => %f\n",
    "print 'The results are %.02f and %d' % (3.14159, 5)\n",
    "\n"
   ]
  },
  {
   "cell_type": "code",
   "execution_count": 132,
   "metadata": {
    "collapsed": false
   },
   "outputs": [
    {
     "name": "stdout",
     "output_type": "stream",
     "text": [
      "<method-wrapper '__str__' of str object at 0x033D4ED8>\n"
     ]
    }
   ],
   "source": [
    "a = '123'\n",
    "#print dir(a)\n",
    "print a.__str__"
   ]
  },
  {
   "cell_type": "code",
   "execution_count": 133,
   "metadata": {
    "collapsed": false
   },
   "outputs": [
    {
     "name": "stdout",
     "output_type": "stream",
     "text": [
      ".git\n",
      ".ipynb_checkpoints\n",
      "20150908 Python Basic.ipynb\n",
      "gwqavAO.png\n",
      "loading.gif\n",
      "README.md\n",
      "test.py\n"
     ]
    }
   ],
   "source": [
    "import os\n",
    "for f in os.listdir('./'):\n",
    "    print f"
   ]
  },
  {
   "cell_type": "code",
   "execution_count": 137,
   "metadata": {
    "collapsed": false
   },
   "outputs": [
    {
     "name": "stdout",
     "output_type": "stream",
     "text": [
      "hello yoyo\n",
      "8\n"
     ]
    }
   ],
   "source": [
    "ary =  ['hello', 'world' , 3]\n",
    "print ary[0] + ' yoyo'\n",
    "print ary[2] + 5 "
   ]
  },
  {
   "cell_type": "code",
   "execution_count": 138,
   "metadata": {
    "collapsed": false
   },
   "outputs": [
    {
     "name": "stdout",
     "output_type": "stream",
     "text": [
      "['w', 'o', 'r', 'd']\n"
     ]
    }
   ],
   "source": [
    "print list(\"word\")"
   ]
  },
  {
   "cell_type": "code",
   "execution_count": 144,
   "metadata": {
    "collapsed": false
   },
   "outputs": [
    {
     "name": "stdout",
     "output_type": "stream",
     "text": [
      "['list']\n",
      "['of', 'lists']\n",
      "of\n",
      "['a', 1]\n"
     ]
    },
    {
     "data": {
      "text/plain": [
       "8"
      ]
     },
     "execution_count": 144,
     "metadata": {},
     "output_type": "execute_result"
    }
   ],
   "source": [
    "ary =  [['list'], ['of', 'lists']]\n",
    "print ary[0]\n",
    "print ary[1]\n",
    "print ary[1][0]\n",
    "\n",
    "print list(('a', 1))\n",
    "a = ['heterogeneous', 3]\n",
    "a[1] + 5 \n"
   ]
  },
  {
   "cell_type": "code",
   "execution_count": 146,
   "metadata": {
    "collapsed": false
   },
   "outputs": [
    {
     "name": "stdout",
     "output_type": "stream",
     "text": [
      "5\n",
      "[7, 's']\n",
      "s\n",
      "7\n",
      "[7, 's']\n",
      "[5, 7]\n",
      "['s', 7, 6, 5]\n",
      "4\n",
      "[5, 's']\n"
     ]
    }
   ],
   "source": [
    "a = [5, 6, 7, 's'] # a = [5 6 7 ‘s’] \n",
    "print a[0] # 5\n",
    "print a[2:4] # [7, ‘s’] \n",
    "print a[-1] # ‘s’ \n",
    "print a[-2] # 7\n",
    "print a[2:] # [7, ‘s’]\n",
    "print a[::2] # [5, 7]\n",
    "print a[::-1] # [‘s’, 7, 6, 5]\n",
    "print len(a) # 4\n",
    "print [min(a), max(a)] # [5, ‘s’]\n"
   ]
  },
  {
   "cell_type": "code",
   "execution_count": 150,
   "metadata": {
    "collapsed": false
   },
   "outputs": [
    {
     "name": "stdout",
     "output_type": "stream",
     "text": [
      "[5, 6, 7, 8]\n",
      "[5, 6, 7]\n",
      "[5, 6, 7, 2]\n",
      "[2, 5, 6, 7]\n"
     ]
    }
   ],
   "source": [
    "a = [5, 6, 7, 8]\n",
    "print a\n",
    "a.pop()\n",
    "print a\n",
    "a.append(2) # a = [5, 6, 7, 2]\n",
    "print a\n",
    "a.sort() # a = [2, 5, 6, 7]\n",
    "print a\n",
    "\n"
   ]
  },
  {
   "cell_type": "code",
   "execution_count": 151,
   "metadata": {
    "collapsed": false
   },
   "outputs": [
    {
     "name": "stdout",
     "output_type": "stream",
     "text": [
      "[7, 6, 5, 2]\n",
      "[2, 5, 6, 7]\n",
      "[7, 6, 5, 2]\n"
     ]
    }
   ],
   "source": [
    "print a[::-1]\n",
    "print a\n",
    "\n",
    "a.reverse() # a = [7, 6, 5, 2]\n",
    "print a"
   ]
  },
  {
   "cell_type": "code",
   "execution_count": 154,
   "metadata": {
    "collapsed": false
   },
   "outputs": [],
   "source": [
    "a.remove(6)"
   ]
  },
  {
   "cell_type": "code",
   "execution_count": 155,
   "metadata": {
    "collapsed": false
   },
   "outputs": [
    {
     "name": "stdout",
     "output_type": "stream",
     "text": [
      "[7, 5, 2]\n"
     ]
    }
   ],
   "source": [
    "print a"
   ]
  },
  {
   "cell_type": "code",
   "execution_count": 156,
   "metadata": {
    "collapsed": false
   },
   "outputs": [
    {
     "name": "stdout",
     "output_type": "stream",
     "text": [
      "['__add__', '__class__', '__contains__', '__delattr__', '__delitem__', '__delslice__', '__doc__', '__eq__', '__format__', '__ge__', '__getattribute__', '__getitem__', '__getslice__', '__gt__', '__hash__', '__iadd__', '__imul__', '__init__', '__iter__', '__le__', '__len__', '__lt__', '__mul__', '__ne__', '__new__', '__reduce__', '__reduce_ex__', '__repr__', '__reversed__', '__rmul__', '__setattr__', '__setitem__', '__setslice__', '__sizeof__', '__str__', '__subclasshook__', 'append', 'count', 'extend', 'index', 'insert', 'pop', 'remove', 'reverse', 'sort']\n"
     ]
    }
   ],
   "source": [
    "print dir(a)"
   ]
  },
  {
   "cell_type": "code",
   "execution_count": 157,
   "metadata": {
    "collapsed": false
   },
   "outputs": [
    {
     "name": "stdout",
     "output_type": "stream",
     "text": [
      "3\n"
     ]
    }
   ],
   "source": [
    "a= [1,23,2,4,1,2,3,1,4,5]\n",
    "print a.count(1)"
   ]
  },
  {
   "cell_type": "code",
   "execution_count": 158,
   "metadata": {
    "collapsed": false
   },
   "outputs": [
    {
     "name": "stdout",
     "output_type": "stream",
     "text": [
      "Help on built-in function insert:\n",
      "\n",
      "insert(...)\n",
      "    L.insert(index, object) -- insert object before index\n",
      "\n",
      "None\n"
     ]
    }
   ],
   "source": [
    "print help(a.insert)"
   ]
  },
  {
   "cell_type": "code",
   "execution_count": 160,
   "metadata": {
    "collapsed": false
   },
   "outputs": [
    {
     "name": "stdout",
     "output_type": "stream",
     "text": [
      "[1, 23, 2, 4, 1, 2, 3, 1, 4, 5]\n",
      "[1, 23, 2, 'qoo', 4, 1, 2, 3, 1, 4, 5]\n"
     ]
    }
   ],
   "source": [
    "print a\n",
    "a.insert(3,'qoo')\n",
    "print a"
   ]
  },
  {
   "cell_type": "code",
   "execution_count": 164,
   "metadata": {
    "collapsed": false
   },
   "outputs": [
    {
     "name": "stdout",
     "output_type": "stream",
     "text": [
      "2005.patch.txt\n",
      "2006.patch.txt\n",
      "2008.patch.txt\n",
      "2009.patch.txt\n",
      "51081295_102-0400-1-051.txt\n",
      "a1.txt\n",
      "aliblast.txt\n",
      "apple.txt\n",
      "bid_detail.txt\n",
      "bid_list.txt\n",
      "blastres.txt\n",
      "comedies.txt\n",
      "complete-testoutput1.txt\n",
      "complete-testoutput2.txt\n",
      "complete-testoutput3.txt\n",
      "corr-testoutput1.txt\n",
      "corr-testoutput2.txt\n",
      "corr-testoutput3.txt\n",
      "err.txt\n",
      "f1.txt\n",
      "f2.txt\n",
      "getmonitor-testoutput1.txt\n",
      "getmonitor-testoutput2.txt\n",
      "ingredients_copy.txt\n",
      "LICENSE.txt\n",
      "links.txt\n",
      "match.txt\n",
      "match1.txt\n",
      "myfile.txt\n",
      "new  3.txt\n",
      "stock1.txt\n",
      "t1.txt\n",
      "t2.txt\n",
      "t3.txt\n",
      "test.txt\n",
      "y1_text.txt\n"
     ]
    }
   ],
   "source": [
    "for qoo in os.listdir('../'):\n",
    "    if 'txt' in qoo:\n",
    "        print qoo"
   ]
  },
  {
   "cell_type": "code",
   "execution_count": 168,
   "metadata": {
    "collapsed": false
   },
   "outputs": [
    {
     "name": "stderr",
     "output_type": "stream",
     "text": [
      "C:\\Python27\\lib\\site-packages\\requests\\packages\\urllib3\\util\\ssl_.py:90: InsecurePlatformWarning: A true SSLContext object is not available. This prevents urllib3 from configuring SSL appropriately and may cause certain SSL connections to fail. For more information, see https://urllib3.readthedocs.org/en/latest/security.html#insecureplatformwarning.\n",
      "  InsecurePlatformWarning\n",
      "C:\\Python27\\lib\\site-packages\\requests\\packages\\urllib3\\connectionpool.py:768: InsecureRequestWarning: Unverified HTTPS request is being made. Adding certificate verification is strongly advised. See: https://urllib3.readthedocs.org/en/latest/security.html\n",
      "  InsecureRequestWarning)\n"
     ]
    },
    {
     "name": "stdout",
     "output_type": "stream",
     "text": [
      "[請益] 新鮮人進公司多快上工？\n",
      "Re: [請益] 新鮮人進公司多快上工？\n"
     ]
    }
   ],
   "source": [
    "import requests\n",
    "from bs4 import BeautifulSoup as bs\n",
    "res = requests.get('https://www.ptt.cc/bbs/Soft_Job/index.html', verify=False)\n",
    "soup = bs(res.text)\n",
    "for title in soup.select('.r-ent'):\n",
    "    if '新鮮人'.decode('utf-8') in title.select('.title')[0].text:\n",
    "        print title.select('.title')[0].text.strip()"
   ]
  },
  {
   "cell_type": "code",
   "execution_count": 170,
   "metadata": {
    "collapsed": false
   },
   "outputs": [
    {
     "name": "stdout",
     "output_type": "stream",
     "text": [
      "['h', 'e', 'l', 'l', 'o', ' ', 'w', 'o', 'r', 'l', 'd']\n",
      "True\n",
      "False\n"
     ]
    }
   ],
   "source": [
    "list('a')\n",
    "hello =  list('hello world')\n",
    "print hello\n",
    "print 'e' in hello\n",
    "print 'a' in hello\n"
   ]
  },
  {
   "cell_type": "code",
   "execution_count": 171,
   "metadata": {
    "collapsed": false
   },
   "outputs": [
    {
     "name": "stdout",
     "output_type": "stream",
     "text": [
      "a: [1, 2, 3]\n",
      "a: [1, 2, 3]\n",
      "b: [1, 2, 3]\n",
      "a: [1, 2000, 3]\n",
      "b: [1, 2000, 3]\n"
     ]
    }
   ],
   "source": [
    "a = [1, 2, 3]\n",
    "print \"a:\", a\n",
    "b = a\n",
    "print \"a:\", a\n",
    "print \"b:\", b\n",
    "\n",
    "a[1] = 2000\n",
    "print \"a:\", a\n",
    "print \"b:\", b\n"
   ]
  },
  {
   "cell_type": "code",
   "execution_count": 172,
   "metadata": {
    "collapsed": false
   },
   "outputs": [
    {
     "name": "stdout",
     "output_type": "stream",
     "text": [
      "a: [1, 2000, 3]\n",
      "b: [1, 2, 3]\n"
     ]
    }
   ],
   "source": [
    "a = [1, 2, 3]\n",
    "import copy\n",
    "b = copy.deepcopy(a) # Deep Copy\n",
    "a[1] = 2000\n",
    "print \"a:\", a\n",
    "print \"b:\", b\n"
   ]
  },
  {
   "cell_type": "code",
   "execution_count": 173,
   "metadata": {
    "collapsed": false
   },
   "outputs": [
    {
     "name": "stdout",
     "output_type": "stream",
     "text": [
      "[1, 4, 9, 16]\n"
     ]
    }
   ],
   "source": [
    "nums = [1, 2, 3, 4]\n",
    "square = []\n",
    "for n in nums:\n",
    "    square.append(n * n)\n",
    "print square\n"
   ]
  },
  {
   "cell_type": "code",
   "execution_count": 174,
   "metadata": {
    "collapsed": false
   },
   "outputs": [
    {
     "name": "stdout",
     "output_type": "stream",
     "text": [
      "[1, 4, 9, 16]\n"
     ]
    }
   ],
   "source": [
    "nums = [1, 2, 3, 4]\n",
    "squares = [ n * n for n in nums ]   \n",
    "print squares"
   ]
  },
  {
   "cell_type": "code",
   "execution_count": 175,
   "metadata": {
    "collapsed": false
   },
   "outputs": [
    {
     "name": "stdout",
     "output_type": "stream",
     "text": [
      "[2, 1]\n"
     ]
    }
   ],
   "source": [
    "nums = [2, 8, 1, 6]\n",
    "small = []\n",
    "for n in nums:\n",
    "    if n <= 2:\n",
    "        small.append(n)\n",
    "print small"
   ]
  },
  {
   "cell_type": "code",
   "execution_count": 176,
   "metadata": {
    "collapsed": false
   },
   "outputs": [
    {
     "name": "stdout",
     "output_type": "stream",
     "text": [
      "[2, 1]\n"
     ]
    }
   ],
   "source": [
    "small = [ n for n in nums if n <= 2 ]  ## [2, 1]\n",
    "print small\n"
   ]
  },
  {
   "cell_type": "code",
   "execution_count": 178,
   "metadata": {
    "collapsed": false
   },
   "outputs": [
    {
     "name": "stdout",
     "output_type": "stream",
     "text": [
      "['APPLE', 'BANNANA']\n"
     ]
    }
   ],
   "source": [
    "fruits = ['apple', 'cherry', 'bannana', 'lemon']\n",
    "afruits = []\n",
    "for s in fruits:\n",
    "    if 'a' in s:\n",
    "        afruits.append(s.upper())\n",
    "print afruits"
   ]
  },
  {
   "cell_type": "code",
   "execution_count": 179,
   "metadata": {
    "collapsed": false
   },
   "outputs": [
    {
     "name": "stdout",
     "output_type": "stream",
     "text": [
      "['APPLE', 'BANNANA']\n"
     ]
    }
   ],
   "source": [
    "afruits = [ s.upper() for s in fruits if 'a' in s ]\n",
    "print afruits\n"
   ]
  },
  {
   "cell_type": "code",
   "execution_count": null,
   "metadata": {
    "collapsed": true
   },
   "outputs": [],
   "source": []
  },
  {
   "cell_type": "code",
   "execution_count": null,
   "metadata": {
    "collapsed": true
   },
   "outputs": [],
   "source": []
  },
  {
   "cell_type": "code",
   "execution_count": 7,
   "metadata": {
    "collapsed": false
   },
   "outputs": [
    {
     "name": "stdout",
     "output_type": "stream",
     "text": [
      "Add Contact: Mary\n",
      "now, you have 1 contacts\n",
      "Add Contact: John\n",
      "now, you have 2 contacts\n",
      "Add Contact: David\n",
      "now, you have 3 contacts\n",
      "Add Contact: Done\n",
      "Your contacts are: Mary, John, David\n"
     ]
    }
   ],
   "source": [
    "contact_list = []\n",
    "\n",
    "while True:\n",
    "    contact = raw_input(\"Add Contact: \")\n",
    "    if contact == \"Done\":\n",
    "        break\n",
    "    else:\n",
    "        contact_list.append(contact)\n",
    "        print \"now, you have {} contacts\".format(len(contact_list))\n",
    "\n",
    "print \"Your contacts are: \" + ', '.join(contact_list)\n",
    "    \n"
   ]
  },
  {
   "cell_type": "code",
   "execution_count": 9,
   "metadata": {
    "collapsed": false
   },
   "outputs": [
    {
     "name": "stdout",
     "output_type": "stream",
     "text": [
      "[1, 2, 3, 4, 5, 6, 7, 8, 9]\n",
      "6\n",
      "7\n",
      "8\n",
      "9\n",
      "10\n",
      "11\n",
      "12\n",
      "13\n",
      "14\n"
     ]
    }
   ],
   "source": [
    "# for(int i = 1; i< 10 ; i ++)\n",
    "print range(1,10)\n",
    "for i in range(1,10):\n",
    "    print i + 5"
   ]
  },
  {
   "cell_type": "code",
   "execution_count": 11,
   "metadata": {
    "collapsed": false
   },
   "outputs": [
    {
     "name": "stdout",
     "output_type": "stream",
     "text": [
      "9 was not in the list\n",
      "9 was not in the list\n",
      "9 was not in the list\n",
      "9 was not in the list\n",
      "9 was not in the list\n",
      "9 was not in the list\n",
      "9 was not in the list\n",
      "8 found\n",
      "9 found!\n"
     ]
    }
   ],
   "source": [
    "#if - else\n",
    "a = 9\n",
    "b = 8\n",
    "for i in range(1,200):\n",
    "    if i == a:\n",
    "        print(str(a) + ' found!')\n",
    "        break\n",
    "    elif i == b:\n",
    "        print str(b) + ' found'\n",
    "    else:\n",
    "        print(str(a) + ' was not in the list')\n"
   ]
  },
  {
   "cell_type": "code",
   "execution_count": 12,
   "metadata": {
    "collapsed": false
   },
   "outputs": [
    {
     "name": "stdout",
     "output_type": "stream",
     "text": [
      "1 2 3 4 5 6 7 8 9\n"
     ]
    }
   ],
   "source": [
    "# from 1 to 10\n",
    "for i in range(1,10):\n",
    "    print i,\n",
    "    \n",
    "print\n"
   ]
  },
  {
   "cell_type": "code",
   "execution_count": 22,
   "metadata": {
    "collapsed": false
   },
   "outputs": [
    {
     "name": "stdout",
     "output_type": "stream",
     "text": [
      "1 3 5 7 9\n",
      "[1, 3, 5, 7, 9]\n",
      "[1, 4, 7]\n",
      "[10, 9, 8, 7, 6, 5, 4, 3, 2]\n",
      "[-1, -2, -3, -4]\n"
     ]
    }
   ],
   "source": [
    "# step by 2\n",
    "for i in range(1,10,2):\n",
    "    print i,\n",
    "\n",
    "print\n",
    "\n",
    "print range(1,10,2)\n",
    "print range(1,10,3)\n",
    "print range(10,1,-1) # for(i = 10; i> 1; i--)\n",
    "\n",
    "print range(-1, -5, -1)"
   ]
  },
  {
   "cell_type": "code",
   "execution_count": 14,
   "metadata": {
    "collapsed": false
   },
   "outputs": [
    {
     "name": "stdout",
     "output_type": "stream",
     "text": [
      "1 2 3 4 5\n"
     ]
    }
   ],
   "source": [
    "# Iterate over list\n",
    "a = [1,2,3,4,5]\n",
    "for i in a:\n",
    "    print i,\n"
   ]
  },
  {
   "cell_type": "code",
   "execution_count": 15,
   "metadata": {
    "collapsed": false
   },
   "outputs": [
    {
     "name": "stdout",
     "output_type": "stream",
     "text": [
      "1 2 3 4 5\n"
     ]
    }
   ],
   "source": [
    "# Iterate over list\n",
    "a = [1,2,3,4,5]\n",
    "for qoo in a:\n",
    "    print qoo,\n"
   ]
  },
  {
   "cell_type": "code",
   "execution_count": 32,
   "metadata": {
    "collapsed": false
   },
   "outputs": [
    {
     "name": "stdout",
     "output_type": "stream",
     "text": [
      "5050\n"
     ]
    }
   ],
   "source": [
    "i =0\n",
    "suma = 0 \n",
    "while(i < 101):\n",
    "    suma += i\n",
    "    i +=1\n",
    "print suma\n"
   ]
  },
  {
   "cell_type": "code",
   "execution_count": 1,
   "metadata": {
    "collapsed": false
   },
   "outputs": [
    {
     "data": {
      "text/plain": [
       "5050"
      ]
     },
     "execution_count": 1,
     "metadata": {},
     "output_type": "execute_result"
    }
   ],
   "source": [
    "sum(range(1,101))"
   ]
  },
  {
   "cell_type": "code",
   "execution_count": 2,
   "metadata": {
    "collapsed": true
   },
   "outputs": [],
   "source": [
    "# dry =>  do not repeat yourself\n",
    "def say_hello():\n",
    "    print \"hello world\"\n",
    "\n"
   ]
  },
  {
   "cell_type": "code",
   "execution_count": 3,
   "metadata": {
    "collapsed": false
   },
   "outputs": [
    {
     "name": "stdout",
     "output_type": "stream",
     "text": [
      "hello world\n"
     ]
    }
   ],
   "source": [
    "say_hello()"
   ]
  },
  {
   "cell_type": "code",
   "execution_count": 4,
   "metadata": {
    "collapsed": false
   },
   "outputs": [
    {
     "name": "stdout",
     "output_type": "stream",
     "text": [
      "5\n"
     ]
    }
   ],
   "source": [
    "def addNum(a, b):#Define Function\n",
    "    return a+b #Return function \n",
    "\n",
    "print addNum(1,4)\n"
   ]
  },
  {
   "cell_type": "code",
   "execution_count": 5,
   "metadata": {
    "collapsed": false
   },
   "outputs": [
    {
     "name": "stdout",
     "output_type": "stream",
     "text": [
      "4.0\n"
     ]
    }
   ],
   "source": [
    "import math\n",
    "a = math.ceil(3.6)\n",
    "print a \n"
   ]
  },
  {
   "cell_type": "code",
   "execution_count": 7,
   "metadata": {
    "collapsed": false
   },
   "outputs": [
    {
     "name": "stdout",
     "output_type": "stream",
     "text": [
      "<module 'math' (built-in)>\n"
     ]
    }
   ],
   "source": [
    "import math #Importing Modules\n",
    "print math #Print Content"
   ]
  },
  {
   "cell_type": "code",
   "execution_count": 8,
   "metadata": {
    "collapsed": false
   },
   "outputs": [
    {
     "name": "stdout",
     "output_type": "stream",
     "text": [
      "['C:\\\\Python27\\\\lib\\\\site-packages\\\\IPython\\\\kernel\\\\__main__.py', '-f', 'C:\\\\Users\\\\david\\\\.ipython\\\\profile_default\\\\security\\\\kernel-9a7bb05e-02d2-4a15-86b1-76a94314a86f.json', '--profile-dir', 'C:\\\\Users\\\\david\\\\.ipython\\\\profile_default']\n"
     ]
    }
   ],
   "source": [
    "import sys #Importing Modules\n",
    "print(sys.argv) #Print Argument"
   ]
  },
  {
   "cell_type": "code",
   "execution_count": 9,
   "metadata": {
    "collapsed": false
   },
   "outputs": [
    {
     "name": "stdout",
     "output_type": "stream",
     "text": [
      "5\n"
     ]
    }
   ],
   "source": [
    "print len(sys.argv)"
   ]
  },
  {
   "cell_type": "code",
   "execution_count": 10,
   "metadata": {
    "collapsed": true
   },
   "outputs": [],
   "source": [
    "def add_contact(name):\n",
    "    contact_list.append(name)\n",
    "    print \"You have %d contacts\" % (len(contact_list))\n",
    "\n",
    "def get_contact():\t\n",
    "    return \"Your Contacts: %s\"%(contact_list)\n",
    "\n"
   ]
  },
  {
   "cell_type": "code",
   "execution_count": 12,
   "metadata": {
    "collapsed": false
   },
   "outputs": [
    {
     "name": "stdout",
     "output_type": "stream",
     "text": [
      "Add Contact: John\n",
      "You have 1 contacts\n",
      "Add Contact: May\n",
      "You have 2 contacts\n",
      "Add Contact: David\n",
      "You have 3 contacts\n",
      "Add Contact: Done\n",
      "Your Contacts: ['John', 'May', 'David']\n",
      "None\n"
     ]
    }
   ],
   "source": [
    "contact_list = []\n",
    "\n",
    "def main():    \n",
    "    while True:\n",
    "        contact = raw_input(\"Add Contact: \")\n",
    "        if contact == 'Done':\n",
    "            break\n",
    "        else:\n",
    "            add_contact(contact)\n",
    "    print get_contact()\n",
    "\n",
    "main()\n"
   ]
  },
  {
   "cell_type": "code",
   "execution_count": null,
   "metadata": {
    "collapsed": true
   },
   "outputs": [],
   "source": []
  }
 ],
 "metadata": {
  "kernelspec": {
   "display_name": "Python 2",
   "language": "python",
   "name": "python2"
  },
  "language_info": {
   "codemirror_mode": {
    "name": "ipython",
    "version": 2
   },
   "file_extension": ".py",
   "mimetype": "text/x-python",
   "name": "python",
   "nbconvert_exporter": "python",
   "pygments_lexer": "ipython2",
   "version": "2.7.10"
  }
 },
 "nbformat": 4,
 "nbformat_minor": 0
}
