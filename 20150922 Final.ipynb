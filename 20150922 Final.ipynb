{
 "cells": [
  {
   "cell_type": "code",
   "execution_count": 1,
   "metadata": {
    "collapsed": false
   },
   "outputs": [
    {
     "name": "stdout",
     "output_type": "stream",
     "text": [
      "<Response [200]>\n"
     ]
    }
   ],
   "source": [
    "import requests\n",
    "res = requests.get('http://tw.running.biji.co/index.php?q=news&label=5')\n",
    "print res"
   ]
  },
  {
   "cell_type": "code",
   "execution_count": 13,
   "metadata": {
    "collapsed": false
   },
   "outputs": [],
   "source": [
    "from bs4 import BeautifulSoup\n",
    "soup = BeautifulSoup(res.text)\n",
    "ary = []\n",
    "for zone in soup.select('.news_content_zone'):\n",
    "    #print \"%s\\t%s\\t%s\\t%s\"%(zone.select('.news_title a')[0].text.strip(),\\\n",
    "    #    zone.select('.news_detail')[0].text.strip().strip('�'.decode('utf-8')),\\\n",
    "    #    zone.select('.news_post_author')[0].text.strip(),\\\n",
    "    #    zone.select('.news_post_date')[0].text.strip())\n",
    "    ary.append({\n",
    "    \"title\":zone.select('.news_title a')[0].text.strip(),\n",
    "    \"detail\":zone.select('.news_detail')[0].text.strip().strip('�'.decode('utf-8')),\n",
    "    \"author\":zone.select('.news_post_author')[0].text.strip(),\n",
    "    \"post data\":zone.select('.news_post_date')[0].text.strip()\n",
    "    }\n",
    "    )\n",
    "\n",
    "#news_post_author\n",
    "    "
   ]
  },
  {
   "cell_type": "code",
   "execution_count": 15,
   "metadata": {
    "collapsed": false
   },
   "outputs": [],
   "source": [
    "import pandas as pd\n",
    "df = pd.DataFrame(ary)"
   ]
  },
  {
   "cell_type": "code",
   "execution_count": 16,
   "metadata": {
    "collapsed": false
   },
   "outputs": [
    {
     "data": {
      "text/html": [
       "<div style=\"max-height:1000px;max-width:1500px;overflow:auto;\">\n",
       "<table border=\"1\" class=\"dataframe\">\n",
       "  <thead>\n",
       "    <tr style=\"text-align: right;\">\n",
       "      <th></th>\n",
       "      <th>author</th>\n",
       "      <th>detail</th>\n",
       "      <th>post data</th>\n",
       "      <th>title</th>\n",
       "    </tr>\n",
       "  </thead>\n",
       "  <tbody>\n",
       "    <tr>\n",
       "      <th>0</th>\n",
       "      <td>JOYCE</td>\n",
       "      <td>（影片來源：Youtube）起源於1986年的火人祭（Burning Man），是一年一度在...</td>\n",
       "      <td>2015-09-22</td>\n",
       "      <td>火人祭馬拉松 裸身狂奔無極限</td>\n",
       "    </tr>\n",
       "    <tr>\n",
       "      <th>1</th>\n",
       "      <td>阿酷</td>\n",
       "      <td>（圖片來源：New Balance）9 月 20 日清晨 6 點鐘，台北市立動物園門口前人潮...</td>\n",
       "      <td>2015-09-22</td>\n",
       "      <td>NB動物園路跑 盡興同歡 Happy Run</td>\n",
       "    </tr>\n",
       "    <tr>\n",
       "      <th>2</th>\n",
       "      <td>Angel C</td>\n",
       "      <td>近年來在台灣跑步的盛行已經見怪不怪，不管是清晨、晚上，甚至是烈日當頭的正中午，都可以在街頭、...</td>\n",
       "      <td>2015-09-22</td>\n",
       "      <td>慢慢動更健康 一起愈走愈勇健！</td>\n",
       "    </tr>\n",
       "    <tr>\n",
       "      <th>3</th>\n",
       "      <td>淡定咖啡</td>\n",
       "      <td>今年正式回歸於城市馬的台北馬拉松，一改往年報名方式，採取網路登記抽籤。提醒您，登記時間即將在...</td>\n",
       "      <td>2015-09-22</td>\n",
       "      <td>報名台北馬 最後期限在今天</td>\n",
       "    </tr>\n",
       "    <tr>\n",
       "      <th>4</th>\n",
       "      <td>udn聯合新聞網</td>\n",
       "      <td>New Balance 動物園路跑，快樂盟主簡愷樂（中）帶領跑友一起同樂（圖片來源：New ...</td>\n",
       "      <td>2015-09-21</td>\n",
       "      <td>NB動物園路跑 吸引親子參加</td>\n",
       "    </tr>\n",
       "    <tr>\n",
       "      <th>5</th>\n",
       "      <td>中時電子報</td>\n",
       "      <td>超級馬拉松好手林義傑（中）抵草屯寶島時代村與小潘潘（前右）、立委許淑華（前左）為夜市路跑選手...</td>\n",
       "      <td>2015-09-21</td>\n",
       "      <td>夜市路跑齊飆速 林義傑現身</td>\n",
       "    </tr>\n",
       "    <tr>\n",
       "      <th>6</th>\n",
       "      <td>中時電子報</td>\n",
       "      <td>2015北京馬拉松今日在天安門廣場起跑，經過2個多小時競逐後，年紀高達41歲的肯亞老將基普楚...</td>\n",
       "      <td>2015-09-21</td>\n",
       "      <td>北京馬拉松賽 肯亞41歲老將稱王</td>\n",
       "    </tr>\n",
       "    <tr>\n",
       "      <th>7</th>\n",
       "      <td>udn聯合新聞網</td>\n",
       "      <td>第12屆「基隆市長盃暨忠孝獅子會基福馬拉松」昨天在暖暖運動公園開跑，有兩千多人報名，包括香港...</td>\n",
       "      <td>2015-09-21</td>\n",
       "      <td>基隆市長盃馬拉松／跑到終點… 啊！腳抽筋</td>\n",
       "    </tr>\n",
       "    <tr>\n",
       "      <th>8</th>\n",
       "      <td>中時電子報</td>\n",
       "      <td>Liv50K自我挑戰賽超吸睛！民視美女體育主播林柏妤首度參賽，以2小時08分通過終點（圖片來...</td>\n",
       "      <td>2015-09-21</td>\n",
       "      <td>Liv女子挑戰賽 正妹主播林柏妤為初鐵備戰</td>\n",
       "    </tr>\n",
       "    <tr>\n",
       "      <th>9</th>\n",
       "      <td>陳彥博</td>\n",
       "      <td>【2014/09/21 台北訊】代表台灣的陳彥博選手參加的美國G2G 273km大峽谷超馬賽...</td>\n",
       "      <td>2015-09-21</td>\n",
       "      <td>美國大峽谷超馬賽 陳彥博首日第二</td>\n",
       "    </tr>\n",
       "  </tbody>\n",
       "</table>\n",
       "</div>"
      ],
      "text/plain": [
       "     author                                             detail   post data  \\\n",
       "0     JOYCE  嚗�蔣���皞��Youtube嚗�絲皞��1986撟渡��思犖蟡哨�Burning Man嚗���臭�撟港�摨血�...  2015-09-22   \n",
       "1        �輸�  嚗�����皞��New Balance嚗� ��20 �交���6 暺��嚗�����蝡���拙������犖瞏�..  2015-09-22   \n",
       "2   Angel C  餈�僑靘���啁�頝�郊���銵�歇蝬���芯��迎�銝�恣�舀��具����嚗���單�����園���迤銝剖�嚗���臭誑�刻��准�...  2015-09-22   \n",
       "3      瘛∪����  隞�僑甇����飛�澆�撣�收�����收���嚗���孵�撟游����撘���∪�蝬脰楝�餉��賜惜������嚗��閮�����撠��...  2015-09-22   \n",
       "4  udn�臬��啗�蝬� New Balance �����楝頝��敹急���蜓蝪⊥�璅��銝哨�撣園�頝��銝�絲���嚗�����皞��New ...  2015-09-21   \n",
       "5     銝剜��餃��� 頞��擐祆��曉末���蝢拙�嚗�葉嚗����扈撖嗅雀��誨���撠��瞏�����嚗��蝡��閮望��荔���椰嚗��憭��頝航��豢�...  2015-09-21   \n",
       "6     銝剜��餃��� 2015��漪擐祆��曆��亙�憭拙���誨�渲絲頝��蝬��2���撠��蝡園�敺��撟渡�擃��41甇脩��臭�����箸�璆�..  2015-09-21   \n",
       "7  udn�臬��啗�蝬� 蝚�2撅���粹�撣�����敹��������蝳�收������憭拙��������砍����嚗���拙�憭�犖�勗�嚗���祇�皜�..  2015-09-21   \n",
       "8     銝剜��餃��� Liv50K�芣����鞈質��貊�嚗��閬��憟喲��脖蜓�剜���忖擐�漲��魚嚗�誑2撠��08������暺�����靘�..  2015-09-21   \n",
       "9       �喳膝�� ��014/09/21 �啣�閮��隞�”�啁����敶亙��豢���������2G 273km憭批魚靚瑁�擐祈魚...  2015-09-21   \n",
       "\n",
       "                    title  \n",
       "0          �思犖蟡剝收��� 鋆貉澈����⊥扔�� \n",
       "1  NB�����楝頝��∟���迭 Happy Run  \n",
       "2         �Ｘ�����亙熒 銝�絲��粥����伐�  \n",
       "3           �勗��啣�擐��������其�憭� \n",
       "4          NB�����楝頝��詨�閬芸����  \n",
       "5           憭��頝航�朣������儔���頨� \n",
       "6        ��漪擐祆��曇魚 �臭�41甇脰�撠�迂�� \n",
       "7    �粹�撣����收���嚗���啁�暺�� ����單�蝑� \n",
       "8   Liv憟喳����鞈�甇�此銝餅����憒斤�������  \n",
       "9        蝢��憭批魚靚瑁�擐祈魚 �喳膝����亦洵鈭� "
      ]
     },
     "execution_count": 16,
     "metadata": {},
     "output_type": "execute_result"
    }
   ],
   "source": [
    "df"
   ]
  },
  {
   "cell_type": "code",
   "execution_count": null,
   "metadata": {
    "collapsed": true
   },
   "outputs": [],
   "source": []
  }
 ],
 "metadata": {
  "kernelspec": {
   "display_name": "Python 2",
   "language": "python",
   "name": "python2"
  },
  "language_info": {
   "codemirror_mode": {
    "name": "ipython",
    "version": 2
   },
   "file_extension": ".py",
   "mimetype": "text/x-python",
   "name": "python",
   "nbconvert_exporter": "python",
   "pygments_lexer": "ipython2",
   "version": "2.7.10"
  }
 },
 "nbformat": 4,
 "nbformat_minor": 0
}
