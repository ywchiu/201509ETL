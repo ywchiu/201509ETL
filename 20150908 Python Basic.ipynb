{
 "cells": [
  {
   "cell_type": "code",
   "execution_count": 2,
   "metadata": {
    "collapsed": false
   },
   "outputs": [
    {
     "name": "stdout",
     "output_type": "stream",
     "text": [
      "Hello World\n"
     ]
    }
   ],
   "source": [
    "print \"Hello World\""
   ]
  },
  {
   "cell_type": "code",
   "execution_count": 5,
   "metadata": {
    "collapsed": false
   },
   "outputs": [
    {
     "data": {
      "text/plain": [
       "5"
      ]
     },
     "execution_count": 5,
     "metadata": {},
     "output_type": "execute_result"
    }
   ],
   "source": [
    "a = 3 \n",
    "a + 2"
   ]
  },
  {
   "cell_type": "code",
   "execution_count": 6,
   "metadata": {
    "collapsed": false
   },
   "outputs": [
    {
     "name": "stdout",
     "output_type": "stream",
     "text": [
      "Hello World\n"
     ]
    }
   ],
   "source": [
    "print \"Hello World\""
   ]
  },
  {
   "cell_type": "code",
   "execution_count": 12,
   "metadata": {
    "collapsed": false
   },
   "outputs": [
    {
     "name": "stderr",
     "output_type": "stream",
     "text": [
      "C:\\Python27\\lib\\site-packages\\requests\\packages\\urllib3\\util\\ssl_.py:90: InsecurePlatformWarning: A true SSLContext object is not available. This prevents urllib3 from configuring SSL appropriately and may cause certain SSL connections to fail. For more information, see https://urllib3.readthedocs.org/en/latest/security.html#insecureplatformwarning.\n",
      "  InsecurePlatformWarning\n",
      "C:\\Python27\\lib\\site-packages\\requests\\packages\\urllib3\\connectionpool.py:768: InsecureRequestWarning: Unverified HTTPS request is being made. Adding certificate verification is strongly advised. See: https://urllib3.readthedocs.org/en/latest/security.html\n",
      "  InsecureRequestWarning)\n"
     ]
    }
   ],
   "source": [
    "import requests\n",
    "from bs4 import BeautifulSoup as bs\n",
    "import jieba\n",
    "res = requests.get('https://www.ptt.cc/bbs/Soft_Job/index.html', verify=False)\n",
    "soup = bs(res.text)\n",
    "dic = {}\n",
    "for ent in  soup.select('.r-ent'):\n",
    "    for w in jieba.cut(ent.select('.title')[0].text.strip()):\n",
    "        if w not in dic:\n",
    "            dic[w] = 1\n",
    "        else:\n",
    "            dic[w] = dic[w] + 1\n",
    "            \n",
    "#for ele in  dic:\n",
    "#    print ele, dic[ele]    "
   ]
  },
  {
   "cell_type": "code",
   "execution_count": 13,
   "metadata": {
    "collapsed": false
   },
   "outputs": [
    {
     "data": {
      "text/plain": [
       "'\\nmultiple\\ncomments\\n'"
      ]
     },
     "execution_count": 13,
     "metadata": {},
     "output_type": "execute_result"
    }
   ],
   "source": [
    "# this is a comment\n",
    "\n",
    "'''\n",
    "multiple\n",
    "comments\n",
    "'''"
   ]
  },
  {
   "cell_type": "code",
   "execution_count": 16,
   "metadata": {
    "collapsed": false
   },
   "outputs": [
    {
     "name": "stdout",
     "output_type": "stream",
     "text": [
      "<type 'int'>\n",
      "<type 'str'>\n"
     ]
    },
    {
     "ename": "TypeError",
     "evalue": "unsupported operand type(s) for +: 'int' and 'str'",
     "output_type": "error",
     "traceback": [
      "\u001b[1;31m---------------------------------------------------------------------------\u001b[0m",
      "\u001b[1;31mTypeError\u001b[0m                                 Traceback (most recent call last)",
      "\u001b[1;32m<ipython-input-16-c522e7ae42df>\u001b[0m in \u001b[0;36m<module>\u001b[1;34m()\u001b[0m\n\u001b[0;32m      4\u001b[0m \u001b[0mb\u001b[0m \u001b[1;33m=\u001b[0m \u001b[1;34m\"hello world\"\u001b[0m\u001b[1;33m\u001b[0m\u001b[0m\n\u001b[0;32m      5\u001b[0m \u001b[1;32mprint\u001b[0m \u001b[0mtype\u001b[0m\u001b[1;33m(\u001b[0m\u001b[0mb\u001b[0m\u001b[1;33m)\u001b[0m\u001b[1;33m\u001b[0m\u001b[0m\n\u001b[1;32m----> 6\u001b[1;33m \u001b[0ma\u001b[0m \u001b[1;33m+\u001b[0m \u001b[0mb\u001b[0m\u001b[1;33m\u001b[0m\u001b[0m\n\u001b[0m",
      "\u001b[1;31mTypeError\u001b[0m: unsupported operand type(s) for +: 'int' and 'str'"
     ]
    }
   ],
   "source": [
    "# int a = 3;\n",
    "a = 3\n",
    "print type(a)\n",
    "b = \"hello world\"\n",
    "print type(b)\n",
    "a + b"
   ]
  },
  {
   "cell_type": "code",
   "execution_count": 19,
   "metadata": {
    "collapsed": true
   },
   "outputs": [],
   "source": [
    "import sys\n",
    "\n",
    "# This is a single line comment\n",
    "def main():\n",
    "    print 'Hello World'"
   ]
  },
  {
   "cell_type": "code",
   "execution_count": 20,
   "metadata": {
    "collapsed": false
   },
   "outputs": [
    {
     "name": "stdout",
     "output_type": "stream",
     "text": [
      "Hello World\n"
     ]
    }
   ],
   "source": [
    "main()"
   ]
  },
  {
   "cell_type": "code",
   "execution_count": 24,
   "metadata": {
    "collapsed": false
   },
   "outputs": [
    {
     "name": "stdout",
     "output_type": "stream",
     "text": [
      "Help on built-in function exit in module sys:\n",
      "\n",
      "exit(...)\n",
      "    exit([status])\n",
      "    \n",
      "    Exit the interpreter by raising SystemExit(status).\n",
      "    If the status is omitted or None, it defaults to zero (i.e., success).\n",
      "    If the status is an integer, it will be used as the system exit status.\n",
      "    If it is another kind of object, it will be printed and the system\n",
      "    exit status will be one (i.e., failure).\n",
      "\n"
     ]
    }
   ],
   "source": [
    "import sys\n",
    "#help(sys)\n",
    "#?sys\n",
    "#dir(sys)\n",
    "help(sys.exit)"
   ]
  },
  {
   "cell_type": "code",
   "execution_count": 25,
   "metadata": {
    "collapsed": false
   },
   "outputs": [
    {
     "name": "stdout",
     "output_type": "stream",
     "text": [
      "Hello from python\n"
     ]
    }
   ],
   "source": [
    "print (\"Hello from python\")\n"
   ]
  },
  {
   "cell_type": "code",
   "execution_count": 24,
   "metadata": {
    "collapsed": false
   },
   "outputs": [
    {
     "name": "stdout",
     "output_type": "stream",
     "text": [
      "How are you?\"Hi\"\n"
     ]
    },
    {
     "data": {
      "text/plain": [
       "'Hi'"
      ]
     },
     "execution_count": 24,
     "metadata": {},
     "output_type": "execute_result"
    }
   ],
   "source": [
    "input(\"How are you?\")"
   ]
  },
  {
   "cell_type": "code",
   "execution_count": 30,
   "metadata": {
    "collapsed": false
   },
   "outputs": [
    {
     "name": "stdout",
     "output_type": "stream",
     "text": [
      "How are you?\"123\"\n"
     ]
    }
   ],
   "source": [
    "answer = input(\"How are you?\")"
   ]
  },
  {
   "cell_type": "code",
   "execution_count": 5,
   "metadata": {
    "collapsed": false
   },
   "outputs": [
    {
     "name": "stdout",
     "output_type": "stream",
     "text": [
      "How are you?hi\n"
     ]
    }
   ],
   "source": [
    "answer = raw_input(\"How are you?\")"
   ]
  },
  {
   "cell_type": "code",
   "execution_count": 6,
   "metadata": {
    "collapsed": false
   },
   "outputs": [
    {
     "name": "stdout",
     "output_type": "stream",
     "text": [
      "hi\n"
     ]
    }
   ],
   "source": [
    "print answer"
   ]
  },
  {
   "cell_type": "code",
   "execution_count": 10,
   "metadata": {
    "collapsed": false
   },
   "outputs": [
    {
     "name": "stdout",
     "output_type": "stream",
     "text": [
      "What is your name? John\n",
      "Hi John\n"
     ]
    }
   ],
   "source": [
    "name = raw_input(\"What is your name? \")\n",
    "if name == \"David\":\n",
    "    print \"Nice to mee you! \" + name\n",
    "elif name == \"John\":\n",
    "    print \"Hi John\"\n",
    "else:\n",
    "    print (\"Your name again?\")\n"
   ]
  },
  {
   "cell_type": "code",
   "execution_count": 17,
   "metadata": {
    "collapsed": false
   },
   "outputs": [
    {
     "name": "stdout",
     "output_type": "stream",
     "text": [
      "What is your name? David\n",
      "How old are you? 31\n",
      "My name is David, and I am 31 years old\n"
     ]
    }
   ],
   "source": [
    "name = raw_input(\"What is your name? \")\n",
    "age = raw_input(\"How old are you? \")\n",
    "\n",
    "# Method 1: concat phrases with +\n",
    "#print \"My name is \"+ name + \", and I am \" + age + \" years old\"\n",
    "\n",
    "# Method 2: {} best\n",
    "#print \"My name is {}, and I am {} years old\".format(name, age)\n",
    "\n",
    "# Method 3: {} with index best\n",
    "#print \"My name is {0}, and I am {1} years old\".format(name, age)\n",
    "#print \"My name is {1}, and I am {1} years old\".format(name, age)\n",
    "\n",
    "# Method 4: %s => str, %d => int\n",
    "#print \"My name is %s, and I am %d years old\"%(name, int(age))"
   ]
  },
  {
   "cell_type": "code",
   "execution_count": 20,
   "metadata": {
    "collapsed": false
   },
   "outputs": [
    {
     "name": "stdout",
     "output_type": "stream",
     "text": [
      "http://www.appledaily.com.tw/realtimenews/article/finance/20150908/687086/%E5%93%80%E9%B3%B3%E5%8F%B2%E4%B8%8A%E6%9C%80%E8%96%84%E3%80%80%E6%98%8E%E5%B9%B4i7%E5%83%856mm/1\n"
     ]
    },
    {
     "ename": "TypeError",
     "evalue": "float argument required, not str",
     "output_type": "error",
     "traceback": [
      "\u001b[1;31m---------------------------------------------------------------------------\u001b[0m",
      "\u001b[1;31mTypeError\u001b[0m                                 Traceback (most recent call last)",
      "\u001b[1;32m<ipython-input-20-bcf1b91c12d0>\u001b[0m in \u001b[0;36m<module>\u001b[1;34m()\u001b[0m\n\u001b[0;32m      1\u001b[0m \u001b[1;32mprint\u001b[0m \u001b[1;34m\"http://www.appledaily.com.tw/realtimenews/article/finance/20150908/687086/%E5%93%80%E9%B3%B3%E5%8F%B2%E4%B8%8A%E6%9C%80%E8%96%84%E3%80%80%E6%98%8E%E5%B9%B4i7%E5%83%856mm/{}\"\u001b[0m\u001b[1;33m.\u001b[0m\u001b[0mformat\u001b[0m\u001b[1;33m(\u001b[0m\u001b[1;34m'1'\u001b[0m\u001b[1;33m)\u001b[0m\u001b[1;33m\u001b[0m\u001b[0m\n\u001b[1;32m----> 2\u001b[1;33m \u001b[1;32mprint\u001b[0m \u001b[1;34m\"http://www.appledaily.com.tw/realtimenews/article/finance/20150908/687086/%E5%93%80%E9%B3%B3%E5%8F%B2%E4%B8%8A%E6%9C%80%E8%96%84%E3%80%80%E6%98%8E%E5%B9%B4i7%E5%83%856mm/%s\"\u001b[0m\u001b[1;33m%\u001b[0m\u001b[1;33m(\u001b[0m\u001b[1;34m'1'\u001b[0m\u001b[1;33m)\u001b[0m\u001b[1;33m\u001b[0m\u001b[0m\n\u001b[0m",
      "\u001b[1;31mTypeError\u001b[0m: float argument required, not str"
     ]
    }
   ],
   "source": [
    "print \"http://www.appledaily.com.tw/realtimenews/article/finance/20150908/687086/%E5%93%80%E9%B3%B3%E5%8F%B2%E4%B8%8A%E6%9C%80%E8%96%84%E3%80%80%E6%98%8E%E5%B9%B4i7%E5%83%856mm/{}\".format('1')\n",
    "print \"http://www.appledaily.com.tw/realtimenews/article/finance/20150908/687086/%E5%93%80%E9%B3%B3%E5%8F%B2%E4%B8%8A%E6%9C%80%E8%96%84%E3%80%80%E6%98%8E%E5%B9%B4i7%E5%83%856mm/%s\"%('1')"
   ]
  },
  {
   "cell_type": "code",
   "execution_count": 32,
   "metadata": {
    "collapsed": false
   },
   "outputs": [
    {
     "name": "stdout",
     "output_type": "stream",
     "text": [
      "5\n",
      "1\n",
      "4.0\n",
      "-1.0\n",
      "<type 'int'>\n",
      "<type 'float'>\n"
     ]
    }
   ],
   "source": [
    "a = 3\n",
    "b = 2\n",
    "print a + b \n",
    "print a - b\n",
    "\n",
    "c = 1.5\n",
    "d = 2.5\n",
    "print c + d\n",
    "print c - d\n",
    "\n",
    "print type(a + b)\n",
    "print type(c + d)"
   ]
  },
  {
   "cell_type": "code",
   "execution_count": 35,
   "metadata": {
    "collapsed": false
   },
   "outputs": [
    {
     "name": "stdout",
     "output_type": "stream",
     "text": [
      "<type 'str'>\n",
      "<type 'int'>\n",
      "234567\n",
      "34569\n"
     ]
    }
   ],
   "source": [
    "s = '2'\n",
    "print type(s)\n",
    "int(s)\n",
    "print type(int(s))\n",
    "\n",
    "print s + '34567'\n",
    "print int(s) + 34567"
   ]
  },
  {
   "cell_type": "code",
   "execution_count": 42,
   "metadata": {
    "collapsed": false
   },
   "outputs": [
    {
     "name": "stdout",
     "output_type": "stream",
     "text": [
      "2.0\n",
      "3.2\n",
      "0\n",
      "0.0\n",
      "0.666666666667\n",
      "0.666666666667\n",
      "0.666666666667\n"
     ]
    }
   ],
   "source": [
    "print float(2)\n",
    "print float(3.2)\n",
    "\n",
    "print 2/3\n",
    "print float(2/3)\n",
    "\n",
    "# print numeric after period\n",
    "print float(2)/3\n",
    "print 2.0/3\n",
    "print 2 /3.0"
   ]
  },
  {
   "cell_type": "code",
   "execution_count": 45,
   "metadata": {
    "collapsed": false
   },
   "outputs": [
    {
     "name": "stdout",
     "output_type": "stream",
     "text": [
      "qoo\n",
      "qooqooqoo\n",
      "????????\n"
     ]
    }
   ],
   "source": [
    "print 'qoo'\n",
    "print 'qoo' * 3\n",
    "print '?' * 8"
   ]
  },
  {
   "cell_type": "code",
   "execution_count": 46,
   "metadata": {
    "collapsed": false
   },
   "outputs": [
    {
     "name": "stdout",
     "output_type": "stream",
     "text": [
      "Repeat Times: 5\n",
      "Qoo Qoo Qoo Qoo Qoo \n"
     ]
    }
   ],
   "source": [
    "times = raw_input(\"Repeat Times: \")\n",
    "print(\"Qoo \" * int(times))\n",
    "\n"
   ]
  },
  {
   "cell_type": "code",
   "execution_count": 49,
   "metadata": {
    "collapsed": false
   },
   "outputs": [
    {
     "name": "stdout",
     "output_type": "stream",
     "text": [
      "0\n",
      "0.333333333333\n",
      "0 0.333333333333\n"
     ]
    }
   ],
   "source": [
    "print 1/3\n",
    "print 1.0 /3\n",
    "\n",
    "# print with comma\n",
    "print 1/3,\n",
    "print 1/3.0\n"
   ]
  },
  {
   "cell_type": "code",
   "execution_count": 52,
   "metadata": {
    "collapsed": false
   },
   "outputs": [
    {
     "name": "stdout",
     "output_type": "stream",
     "text": [
      "0\n",
      "1\n"
     ]
    }
   ],
   "source": [
    "print 1/3\n",
    "print 3/3"
   ]
  },
  {
   "cell_type": "code",
   "execution_count": 53,
   "metadata": {
    "collapsed": false
   },
   "outputs": [
    {
     "ename": "ZeroDivisionError",
     "evalue": "integer division or modulo by zero",
     "output_type": "error",
     "traceback": [
      "\u001b[1;31m---------------------------------------------------------------------------\u001b[0m",
      "\u001b[1;31mZeroDivisionError\u001b[0m                         Traceback (most recent call last)",
      "\u001b[1;32m<ipython-input-53-a0641230c7a8>\u001b[0m in \u001b[0;36m<module>\u001b[1;34m()\u001b[0m\n\u001b[1;32m----> 1\u001b[1;33m \u001b[1;36m3\u001b[0m\u001b[1;33m/\u001b[0m\u001b[1;36m0\u001b[0m\u001b[1;33m\u001b[0m\u001b[0m\n\u001b[0m",
      "\u001b[1;31mZeroDivisionError\u001b[0m: integer division or modulo by zero"
     ]
    }
   ],
   "source": [
    "3/0"
   ]
  },
  {
   "cell_type": "code",
   "execution_count": 54,
   "metadata": {
    "collapsed": false
   },
   "outputs": [
    {
     "name": "stdout",
     "output_type": "stream",
     "text": [
      "three divides to 0 shows zero devision error\n"
     ]
    }
   ],
   "source": [
    "try:\n",
    "    3/0\n",
    "except ZeroDivisionError:\n",
    "    print \"three divides to 0 shows zero devision error\""
   ]
  },
  {
   "cell_type": "code",
   "execution_count": 60,
   "metadata": {
    "collapsed": false
   },
   "outputs": [
    {
     "name": "stdout",
     "output_type": "stream",
     "text": [
      "Dividend: 3/0\n",
      "Divisor: 0\n"
     ]
    },
    {
     "ename": "ValueError",
     "evalue": "invalid literal for float(): 3/0",
     "output_type": "error",
     "traceback": [
      "\u001b[1;31m---------------------------------------------------------------------------\u001b[0m",
      "\u001b[1;31mValueError\u001b[0m                                Traceback (most recent call last)",
      "\u001b[1;32m<ipython-input-60-324fba9d1f83>\u001b[0m in \u001b[0;36m<module>\u001b[1;34m()\u001b[0m\n\u001b[0;32m      3\u001b[0m \u001b[1;33m\u001b[0m\u001b[0m\n\u001b[0;32m      4\u001b[0m \u001b[1;32mtry\u001b[0m\u001b[1;33m:\u001b[0m\u001b[1;33m\u001b[0m\u001b[0m\n\u001b[1;32m----> 5\u001b[1;33m     \u001b[1;32mprint\u001b[0m \u001b[0mfloat\u001b[0m\u001b[1;33m(\u001b[0m\u001b[0mdividend\u001b[0m\u001b[1;33m)\u001b[0m \u001b[1;33m/\u001b[0m \u001b[0mfloat\u001b[0m\u001b[1;33m(\u001b[0m\u001b[0mdivisor\u001b[0m\u001b[1;33m)\u001b[0m\u001b[1;33m\u001b[0m\u001b[0m\n\u001b[0m\u001b[0;32m      6\u001b[0m \u001b[1;32mexcept\u001b[0m \u001b[0mZeroDivisionError\u001b[0m \u001b[1;32mas\u001b[0m \u001b[0mdetail\u001b[0m\u001b[1;33m:\u001b[0m\u001b[1;33m\u001b[0m\u001b[0m\n\u001b[0;32m      7\u001b[0m     \u001b[1;32mprint\u001b[0m \u001b[1;34m\"ZeroDvisionError\"\u001b[0m\u001b[1;33m,\u001b[0m \u001b[0mdetail\u001b[0m\u001b[1;33m\u001b[0m\u001b[0m\n",
      "\u001b[1;31mValueError\u001b[0m: invalid literal for float(): 3/0"
     ]
    }
   ],
   "source": [
    "dividend = raw_input(\"Dividend: \")\n",
    "divisor = raw_input(\"Divisor: \")\n",
    "\n",
    "try:\n",
    "    print float(dividend) / float(divisor)\n",
    "except ZeroDivisionError as detail:\n",
    "    print \"ZeroDvisionError\", detail\n"
   ]
  },
  {
   "cell_type": "code",
   "execution_count": 61,
   "metadata": {
    "collapsed": false
   },
   "outputs": [
    {
     "name": "stdout",
     "output_type": "stream",
     "text": [
      "Dividend: 3/0\n",
      "Divisor: 0\n",
      "ValueError invalid literal for float(): 3/0\n"
     ]
    }
   ],
   "source": [
    "dividend = raw_input(\"Dividend: \")\n",
    "divisor = raw_input(\"Divisor: \")\n",
    "\n",
    "try:\n",
    "    print float(dividend) / float(divisor)\n",
    "except ValueError as detail:\n",
    "    print \"ValueError\", detail\n",
    "except ZeroDivisionError as detail:\n",
    "    print \"ZeroDvisionError\", detail\n"
   ]
  },
  {
   "cell_type": "code",
   "execution_count": 63,
   "metadata": {
    "collapsed": false
   },
   "outputs": [
    {
     "name": "stdout",
     "output_type": "stream",
     "text": [
      "Dividend: 3/0\n",
      "Divisor: 0\n",
      "error\n"
     ]
    }
   ],
   "source": [
    "dividend = raw_input(\"Dividend: \")\n",
    "divisor = raw_input(\"Divisor: \")\n",
    "\n",
    "try:\n",
    "    print float(dividend) / float(divisor)\n",
    "except: \n",
    "    print \"error\"\n"
   ]
  },
  {
   "cell_type": "code",
   "execution_count": null,
   "metadata": {
    "collapsed": true
   },
   "outputs": [],
   "source": []
  }
 ],
 "metadata": {
  "kernelspec": {
   "display_name": "Python 2",
   "language": "python",
   "name": "python2"
  },
  "language_info": {
   "codemirror_mode": {
    "name": "ipython",
    "version": 2
   },
   "file_extension": ".py",
   "mimetype": "text/x-python",
   "name": "python",
   "nbconvert_exporter": "python",
   "pygments_lexer": "ipython2",
   "version": "2.7.10"
  }
 },
 "nbformat": 4,
 "nbformat_minor": 0
}
