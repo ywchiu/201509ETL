{
 "cells": [
  {
   "cell_type": "code",
   "execution_count": 1,
   "metadata": {
    "collapsed": false
   },
   "outputs": [
    {
     "name": "stdout",
     "output_type": "stream",
     "text": [
      "<Response [200]>\n"
     ]
    }
   ],
   "source": [
    "import requests\n",
    "res = requests.get('https://www.python.org/')\n",
    "print res"
   ]
  },
  {
   "cell_type": "markdown",
   "metadata": {},
   "source": [
    "- https://zh.wikipedia.org/wiki/HTTP%E7%8A%B6%E6%80%81%E7%A0%81"
   ]
  },
  {
   "cell_type": "code",
   "execution_count": 4,
   "metadata": {
    "collapsed": false
   },
   "outputs": [
    {
     "name": "stdout",
     "output_type": "stream",
     "text": [
      "['__attrs__', '__bool__', '__class__', '__delattr__', '__dict__', '__doc__', '__format__', '__getattribute__', '__getstate__', '__hash__', '__init__', '__iter__', '__module__', '__new__', '__nonzero__', '__reduce__', '__reduce_ex__', '__repr__', '__setattr__', '__setstate__', '__sizeof__', '__str__', '__subclasshook__', '__weakref__', '_content', '_content_consumed', 'apparent_encoding', 'close', 'connection', 'content', 'cookies', 'elapsed', 'encoding', 'headers', 'history', 'is_permanent_redirect', 'is_redirect', 'iter_content', 'iter_lines', 'json', 'links', 'ok', 'raise_for_status', 'raw', 'reason', 'request', 'status_code', 'text', 'url']\n"
     ]
    }
   ],
   "source": [
    "#print res.text\n",
    "print dir(res)"
   ]
  },
  {
   "cell_type": "code",
   "execution_count": 5,
   "metadata": {
    "collapsed": false
   },
   "outputs": [
    {
     "name": "stdout",
     "output_type": "stream",
     "text": [
      "200\n",
      "text/html; charset=utf-8\n"
     ]
    }
   ],
   "source": [
    "print res.status_code\n",
    "print res.headers['content-type']"
   ]
  },
  {
   "cell_type": "code",
   "execution_count": 7,
   "metadata": {
    "collapsed": false
   },
   "outputs": [
    {
     "name": "stdout",
     "output_type": "stream",
     "text": [
      "<Response [200]>\n"
     ]
    }
   ],
   "source": [
    "import requests\n",
    "payload ={\n",
    "'StartStation':'977abb69-413a-4ccf-a109-0272c24fd490',\n",
    "'EndStation':'fbd828d8-b1da-4b06-a3bd-680cdca4d2cd',\n",
    "'SearchDate':'2015/09/11',\n",
    "'SearchTime':'14:30',\n",
    "'SearchWay':'DepartureInMandarin'\n",
    "}\n",
    "res = requests.post('https://www.thsrc.com.tw/tw/TimeTable/SearchResult', data = payload)\n",
    "print res"
   ]
  },
  {
   "cell_type": "code",
   "execution_count": 10,
   "metadata": {
    "collapsed": false
   },
   "outputs": [
    {
     "ename": "ValueError",
     "evalue": "time data 'Fri Sep 11 12:56:09 2015' does not match format '%y %b %d %H:%M:%S %Y'",
     "output_type": "error",
     "traceback": [
      "\u001b[0;31m---------------------------------------------------------------------------\u001b[0m",
      "\u001b[0;31mValueError\u001b[0m                                Traceback (most recent call last)",
      "\u001b[0;32m<ipython-input-10-a16155821adc>\u001b[0m in \u001b[0;36m<module>\u001b[0;34m()\u001b[0m\n\u001b[1;32m      1\u001b[0m \u001b[0;32mfrom\u001b[0m \u001b[0mdatetime\u001b[0m \u001b[0;32mimport\u001b[0m \u001b[0mdatetime\u001b[0m\u001b[0;34m\u001b[0m\u001b[0m\n\u001b[0;32m----> 2\u001b[0;31m \u001b[0mdatetime\u001b[0m\u001b[0;34m.\u001b[0m\u001b[0mstrptime\u001b[0m\u001b[0;34m(\u001b[0m\u001b[0;34m'Fri Sep 11 12:56:09 2015'\u001b[0m\u001b[0;34m,\u001b[0m \u001b[0;34m'%y %b %d %H:%M:%S %Y'\u001b[0m\u001b[0;34m,\u001b[0m\u001b[0;34m)\u001b[0m\u001b[0;34m\u001b[0m\u001b[0m\n\u001b[0m",
      "\u001b[0;32m/System/Library/Frameworks/Python.framework/Versions/2.7/lib/python2.7/_strptime.pyc\u001b[0m in \u001b[0;36m_strptime\u001b[0;34m(data_string, format)\u001b[0m\n\u001b[1;32m    323\u001b[0m     \u001b[0;32mif\u001b[0m \u001b[0;32mnot\u001b[0m \u001b[0mfound\u001b[0m\u001b[0;34m:\u001b[0m\u001b[0;34m\u001b[0m\u001b[0m\n\u001b[1;32m    324\u001b[0m         raise ValueError(\"time data %r does not match format %r\" %\n\u001b[0;32m--> 325\u001b[0;31m                          (data_string, format))\n\u001b[0m\u001b[1;32m    326\u001b[0m     \u001b[0;32mif\u001b[0m \u001b[0mlen\u001b[0m\u001b[0;34m(\u001b[0m\u001b[0mdata_string\u001b[0m\u001b[0;34m)\u001b[0m \u001b[0;34m!=\u001b[0m \u001b[0mfound\u001b[0m\u001b[0;34m.\u001b[0m\u001b[0mend\u001b[0m\u001b[0;34m(\u001b[0m\u001b[0;34m)\u001b[0m\u001b[0;34m:\u001b[0m\u001b[0;34m\u001b[0m\u001b[0m\n\u001b[1;32m    327\u001b[0m         raise ValueError(\"unconverted data remains: %s\" %\n",
      "\u001b[0;31mValueError\u001b[0m: time data 'Fri Sep 11 12:56:09 2015' does not match format '%y %b %d %H:%M:%S %Y'"
     ]
    }
   ],
   "source": [
    "from datetime import datetime\n",
    "datetime.strptime('Fri Sep 11 12:56:09 2015', '%y %b %d %H:%M:%S %Y',)"
   ]
  },
  {
   "cell_type": "code",
   "execution_count": 11,
   "metadata": {
    "collapsed": false
   },
   "outputs": [
    {
     "name": "stdout",
     "output_type": "stream",
     "text": [
      "<!DOCTYPE html PUBLIC \"-//W3C//DTD XHTML 1.0 Transitional//EN\" \"http://www.w3.org/TR/xhtml1/DTD/xhtml1-transitional.dtd\">\r\n",
      "<html xmlns=\"http://www.w3.org/1999/xhtml\">\r\n",
      "<head>\r\n",
      "<meta http-equiv=\"Content-Type\" content=\"text/html; charset=utf-8\"/>\r\n",
      "<meta http-equiv=\"content-language\" content=\"zh-tw\">\r\n",
      "<meta http-equiv=\"X-UA-Compatible\" content=\"IE=edge\" />\r\n",
      "<title>PChome線上購物 - </title>\r\n",
      "<META name=\"author\" content=\"PChome線上購物\">\r\n",
      "<META id=\"MetaKeywords\" NAME=\"keywords\" CONTENT=\"\">\r\n",
      "<META id=\"MetaDescription\" NAME=\"description\" CONTENT=\"\">\r\n",
      "<meta property=\"og:title\" id='ogtitle' content=\"\"/>\r\n",
      "<meta property=\"og:type\" id='ogtype' content=\"product\"/>\r\n",
      "<meta property=\"og:image\" id='ogimage' content=\"\"/>\r\n",
      "<meta property=\"og:url\" id='ogurl' content=\"\"/>\r\n",
      "<meta property=\"og:description\" id='ogdesc' content=\"\"/>\r\n",
      "<meta property=\"og:site_name\" content=\"PChome 24h購物\"/>\r\n",
      "<meta name=\"copyright\" content=\"網路家庭版權所有、轉載必究 ● Copyright PChome Online\">\r\n",
      "<meta name=\"robots\" content=\"NOODP\">\r\n",
      "<link id=\"canonical\" rel=\"canonical\" href=\"\">\r\n",
      "<link id=\"css\" name=\"h24css\" type=\"text/css\" href=\"/min/g=prodh24cssv2&20150901\" rel=\"stylesheet\">\r\n",
      "<script type=\"text/javascript\" async src=\"/min/g=prodjsv2&20150910\"></script>\r\n",
      "</head>\r\n",
      "<body>\r\n",
      "<dl id=\"nc17Container\"  style=\"display:none\">\r\n",
      "    <dt><!-- 敬告啟示-未成年者(註)請勿瀏覽及購買本館商品，本網站已依台灣網站內容分級規定處理。註：以當地國家法律規定之成年年齡為準。 --></dt>\r\n",
      "    <dd><a class=\"ico forbid\" href=\"javascript:void(0);\"><!-- 我未滿18歲，禁止進入 --></a></dd>\r\n",
      "    <dd><a class=\"ico allow\" href=\"javascript:void(0);\"><!-- 我已滿18歲，進入本館 --></a></dd>\r\n",
      "</dl>\r\n",
      "<div id=\"GLOBALWRAPPER\" class=\"prod_w\" style=\"display:none\">\r\n",
      "    <div id=\"WRAPPER\" class=\"style_h24\">\r\n",
      "    <!-- HEADER start -->\r\n",
      "<div id=\"HEADER\">\r\n",
      "<div class=\"clearfix\">\r\n",
      "<h1 class=\"logotype left\"><a class=\"prod\" href=\"http://24h.pchome.com.tw\">PChome 24h購物</a></h1>\r\n",
      "<div class=\"site_tool relative\">\r\n",
      "<sup></sup>\r\n",
      "  <ul class=\"bar_nav absolute\">\r\n",
      "    <li><a href=\"http://shopping.pchome.com.tw\">線上購物</a></li>\r\n",
      "    <li><a href=\"http://24h.pchome.com.tw\">24h購物</a></li>\r\n",
      "    <li><a href=\"http://mall.pchome.com.tw\">購物中心</a></li>\r\n",
      "    <li><a href=\"/book\">書店</a></li>\r\n",
      "    <li><a class=\"sp\" href=\"http://global.pchome.com.tw\">全球購物</a></li>\r\n",
      "  </ul>\r\n",
      "  <ul class=\"bar_service absolute\">\r\n",
      "    <li><a href=\"http://shopping.pchome.com.tw/?mod=store&func=choice_buy&page_url=shopping&NO=D&C=D\" class=\"cart sp\" accesskey=\"B\" title=\"點擊後進入結帳清單\">購物車</a></li>\r\n",
      "    <li><a href=\"https://ecvip.pchome.com.tw\">顧客中心</a></li>\r\n",
      "    <li><a href=\"https://ecvip.pchome.com.tw/?m=vendor\" >廠商合作</a></li>\r\n",
      "    <li><a href=\"https://ecvip.pchome.com.tw/?m=myaccount&c=service&f=showBugService&url=aHR0cDovLzI0aC5wY2hvbWUuY29tLnR3L3NpZ24vM2MuaHRt\">故障通報</a></li>\r\n",
      "    <li><a href=\"http://www.pchome.com.tw/\">PChome</a></li>\r\n",
      "  </ul>\r\n",
      "</div>\r\n",
      "</div>\r\n",
      "<div class=\"block_H relative\">\r\n",
      "<dl class=\"h1 absolute\">\r\n",
      "  <dd id=\"24hrFeeContainer\"><p class=\"absolute \"><small>購物滿$490</small>免運費</p></dd>\r\n",
      "  <dd id=\"SearchContainer\" class=\"bar_search site_corner cor1px\">\r\n",
      "        <sup class=\"l\"></sup><sup class=\"r\"></sup>\r\n",
      "        <sub class=\"l\"></sub><sub class=\"r\"></sub>\r\n",
      "        <label for=\"keyword\" class=\"unblock\">搜尋框，請輸入關鍵字後按enter查詢</label><input accesskey=\"S\" placeholder=\"請輸入關鍵字\" type=\"text\" id=\"keyword\" class=\"text left\"  x-webkit-speech=\"\" x-webkit-grammar=\"builtin:translate\" />\r\n",
      "        <input type=\"button\" id='doSearch'  class=\"button\" value=\"找商品\" />\r\n",
      "    </dd>\r\n",
      "  <dd class=\"absolute sp\"><a href=\"https://ecvip.pchome.com.tw/?m=myaccount&c=service&f=showSearchService\">買不到通知我</a></dd>\r\n",
      "  <dd class=\"bar_account\"><a href=\"https://ecvip.pchome.com.tw\">顧客中心(查訂單、退貨、客服)</a></dd>\r\n",
      "  <dd id=\"shopAd220Container\" class=\"site_ad unblock\"><a href=\"\"><img src=\"\" alt=\"\"/></a></dd>\r\n",
      "</dl>\r\n",
      "<div id=\"site_roadsign\" class=\"h2 absolute\"></div>\r\n",
      "<div class=\"h3 absolute\">\r\n",
      "<div class=\"site_tooth\"></div>\r\n",
      "</div>\r\n",
      "</div>\r\n",
      "</div>\r\n",
      "<!-- HEADER end -->\r\n",
      "        <!-- CONTENT start -->\r\n",
      "        <div id=\"CONTENT\" class=\"clearfix\">\r\n",
      "            <!-- block_N start -->\r\n",
      "            <div class=\"block_N\">\r\n",
      "                <sup></sup>\r\n",
      "                <sub></sub>\r\n",
      "                <h3><a id=\"StoreName\" href=\"javascript:void(0);\"></a></h3>\r\n",
      "                <a id=\"shopAd500Container\" class=\"site_ad unblock\" href=\"\"><img src=\"\" alt=\"\"/></a>\r\n",
      "                <div class=\"info\">\r\n",
      "                <div id=debug></div>\r\n",
      "                    <b class=\"b1f\"></b>\r\n",
      "                    <ul>\r\n",
      "                        <li class=\"sp\">‧台北巿6小時到貨(試營運)</li>\r\n",
      "                        <li>‧全台灣24小時到貨，遲到給100</li>\r\n",
      "                        <li>‧非北北基22:00～10:00間下單、離島、資訊不完整、<br/>　新客、安裝商品、ATM或 ibon付款者等不在此限<a href=\"http://shopping.pchome.com.tw/?m=sitemap&func=24h\" target=\"_blank\">→說明</a></li>\r\n",
      "                    </ul>\r\n",
      "                    <b class=\"b1f\"></b>\r\n",
      "                </div>\r\n",
      "                <!--購物車 start-->\r\n",
      "               <div id=\"24hrCartContainer\" class=\"cart cart_1\">\r\n",
      "                    <span class=\"price\"><span class=\"value\">$0</span></span>\r\n",
      "                    <a class=\"number\" href=\"http://shopping.pchome.com.tw/?mod=store&func=choice_buy&page_url=shopping&NO=D&C=D\">(<span>0</span>)</a>\r\n",
      "                    <a class=\"check\" href=\"http://shopping.pchome.com.tw/?mod=store&func=choice_buy&page_url=shopping&NO=D&C=D\">結帳&gt;</a>\r\n",
      "                </div>\r\n",
      "\r\n",
      "                <!--購物車 end-->\r\n",
      "                <ul id=\"LinkContainer\" class=\"path\">\r\n",
      "                    <li itemscope itemtype=\"http://data-vocabulary.org/Breadcrumb\"><a href=\"http://www.pchome.com.tw/\" itemprop=\"url\"><span itemprop=\"title\">PChome</span></a> &gt;</li>\r\n",
      "                    <li itemscope itemtype=\"http://data-vocabulary.org/Breadcrumb\"><a href=\"http://shopping.pchome.com.tw/\" itemprop=\"url\"><span itemprop=\"title\">線上購物</span></a> &gt;</li>\r\n",
      "                    <li itemscope itemtype=\"http://data-vocabulary.org/Breadcrumb\"></li>\r\n",
      "                    <li class=\"unblock\" itemscope itemtype=\"http://data-vocabulary.org/Breadcrumb\" id='linkRegion'></li>\r\n",
      "                    <li class=\"unblock\" itemscope itemtype=\"http://data-vocabulary.org/Breadcrumb\" id='linkStore'></li>\r\n",
      "                </ul>\r\n",
      "            </div>\r\n",
      "            <!-- block_N end -->\r\n",
      "             <!-- block_W sidebar start -->\r\n",
      "            <div class=\"block_W sidebar\">\r\n",
      "                <sup></sup>\r\n",
      "                <!-- store_list start -->\r\n",
      "                <dl class=\"store_list\">\r\n",
      "                    <dt id=\"RegionName\"></dt>\r\n",
      "                    <dd>\r\n",
      "                        <dl id=\"StoreContainer\"></dl>\r\n",
      "                    </dd>\r\n",
      "                </dl>\r\n",
      "                <!-- store_list end -->\r\n",
      "                <!-- hot_list start -->\r\n",
      "                <dl id=\"SaleContainer\" class=\"hot_list unblock\">\r\n",
      "                </dl>\r\n",
      "                <!-- hot_list end -->\r\n",
      "              </div>\r\n",
      "            <!-- block_W sidebar end -->\r\n",
      "            <!-- block_c start -->\r\n",
      "            <div class=\"block_C\">\r\n",
      "                <!-- prod_list start -->\r\n",
      "                <dl class=\"prod_list\" itemscope itemtype=\"http://schema.org/Product\">\r\n",
      "                    <dd id=\"StoreAd800Container\" class=\"unblock\"><a class=\"site_ad\" href=\"\" target=\"_blank\"><img src=\"\" alt=\"\"/></a></dd>\r\n",
      "                    <dd  id=\"NameContainer\" class=\"Ct clearfix\"></dd>\r\n",
      "                    <dd class=\"clearfix\">\r\n",
      "                        <!-- Cl start -->\r\n",
      "                        <div class=\"Cl\">\r\n",
      "                            <div id=\"BonusContainer\" class=\"bar_bonus site_corner cor1px unblock\">\r\n",
      "                                <sup class=\"l\"></sup>\r\n",
      "                                <sup class=\"r\"></sup>\r\n",
      "                                <sub class=\"l\"></sub>\r\n",
      "                                <sub class=\"r\"></sub>\r\n",
      "                                <span>\r\n",
      "                                    <b>送</b>單品加碼金：<i>0</i>點\r\n",
      "                                    <a href=\"/html/BADD_help.html\" title=\"1.加碼金使用方式及規則同現金積點。　2.加碼金不適用任何現金積點倍數送活動。\" >說明</a>\r\n",
      "                                </span>\r\n",
      "                            </div>\r\n",
      "                            <div id=\"ImgContainer\" class=\"prod_img\"></div>\r\n",
      "                            <ul id=\"UpAndDownContainer\" class=\"bar_prodnav unblock\">\r\n",
      "                            </ul>\r\n",
      "                            <dl id=\"SPFInfoContainer\" class=\"msg unblock\">\r\n",
      "                                <dt>※</dt>\r\n",
      "                                <dd>消費者同意，此預購型商品發生缺貨或貨源不足..等情形、致網路家庭無法出貨時，此商品預購契約不成立</dd>\r\n",
      "                            </dl>\r\n",
      "                            <!-- prod_combo start -->\r\n",
      "                            <dl id=\"CombineContainer\" class=\"prod_combo unblock\">\r\n",
      "                                <dt>搭配商品：</dt>\r\n",
      "                            </dl>\r\n",
      "                            <!-- bar_combo end -->\r\n",
      "                        </div>\r\n",
      "                        <!-- Cl end -->\r\n",
      "                        <!-- Cr start -->\r\n",
      "                        <div class=\"Cr\">\r\n",
      "                            <!-- prod_descrb start -->\r\n",
      "                            <!-- prod_descrb -->\r\n",
      "                            <div id=\"DescrbContainer\" class=\"prod_describe clearfix\">\r\n",
      "                                <ul class=\"right\">\r\n",
      "                                <!-- h24區塊 -->\r\n",
      "                                <li id=\"h24Block\"></li>\r\n",
      "                                </ul>\r\n",
      "                                <div class=\"left\">\r\n",
      "                                    <div id=\"MarketingContainer\" class=\"bar_gift\"><ul>\r\n",
      "                                        <li id=\"MarketingBonus\" class=\"popupOn unblock\"><a href=\"#\">\r\n",
      "                                            <span class=\"sign\">現金積點</span>\r\n",
      "                                            <div></div>\r\n",
      "                                            <span class=\"more\">(詳)</span>\r\n",
      "                                            <span class=\"note\">止</span>\r\n",
      "                                        </a></li>\r\n",
      "                                        <li id=\"MarketingActivity\" class=\"unblock\"><a href=\"#\">\r\n",
      "                                            <span class=\"sign\">折扣活動</span>\r\n",
      "                                            <div></div>\r\n",
      "                                            <span class=\"note\">止</span>\r\n",
      "                                        </a></li>\r\n",
      "                                        <li id=\"MarketingRaiseBonus\" class=\"popupOn unblock\"><a href=\"#\">\r\n",
      "                                            <span class=\"sign\">加碼金</span>\r\n",
      "                                            <div></div>\r\n",
      "                                            <span class=\"more\">(詳)</span>\r\n",
      "                                            <span class=\"note\">止</span>\r\n",
      "                                        </a></li>\r\n",
      "                                        <li id=\"MarketingGift\" class=\"popupOn unblock\"><a href=\"#\">\r\n",
      "                                            <span class=\"sign\">滿額贈</span>\r\n",
      "                                            <div></div>\r\n",
      "                                            <span class=\"more\">(詳)</span>\r\n",
      "                                            <span class=\"note\">止</span>\r\n",
      "                                        </a></li>\r\n",
      "                                    </ul><span id=\"moreMarketing\" class=\"ui-btn-collapsible unblock\">展開</span></div>\r\n",
      "                                    <div class=\"slogan\">\r\n",
      "                                        <div id=\"ActivityContainer\" class=\"bar_event unblock\">\r\n",
      "                                            <sup></sup>\r\n",
      "                                            <sub></sub>\r\n",
      "                                            <span><b>活動商品：</b><a href=\"javascript:void(0);\"></a></span>\r\n",
      "                                        </div>\r\n",
      "                                        <p id=\"ExtraContainer\" class=\"title sp unblock\"></p>\r\n",
      "                                        <p id=\"NickContainer\" class=\"title clearfix\"></p>\r\n",
      "                                        <div id=\"SloganContainer\"></div>\r\n",
      "                                        <ul id=\"BookInfoContainer\" class=\"sp\"></ul>\r\n",
      "                                    </div>\r\n",
      "                                </div>\r\n",
      "                            </div>\r\n",
      "                            <!-- prod_descrb end -->\r\n",
      "                            <!-- prodPayway start -->\r\n",
      "                           <div id=\"PaymentContainer\" class=\"prod_payway clearfix\"  itemprop=\"offers\" itemscope itemtype=\"http://schema.org/Offer\">\r\n",
      "                            </div>\r\n",
      "                            <!-- prodPayway end -->\r\n",
      "                                  <!-- bar_bonus start -->\r\n",
      "                            <div id='BonusInfoContainer' class=\"bar_bonus unblock\">\r\n",
      "                                <p>送單品加碼金<i>0</i>點<a href=\"http://shopping.pchome.com.tw/?m=item&f=bonus_help\" target=\"_blank\">說明</a><span>(1點 = 1元)</span></p>\r\n",
      "                                <span>(限使用貨到付款、ATM、7-11 ibon、金融卡即時轉帳、信用卡1、3、6期可獲得)</span>\r\n",
      "                            </div>\r\n",
      "                            <!-- bar_bonus end -->\r\n",
      "                            <dl class=\"site_timer\">\r\n",
      "                                <dt></dt>\r\n",
      "                                <dd>您約在<div class=\"timer\"><span class=\"min\"></span><span class=\"sec\"></span></div>後可進入搶購流程</dd>\r\n",
      "                            </dl>\r\n",
      "\r\n",
      "                             <div id=\"ButtonContainer\" class=\"site_btn tr\">\r\n",
      "                            </div>\r\n",
      "                             <!-- prod_gift start -->\r\n",
      "                            <dl id=\"AddContainer\" class=\"prod_gift sp unblock\">\r\n",
      "                                <dt>加購商品：</dt>\r\n",
      "                                <dd class=\"clear_magi\">\r\n",
      "                                    <ol>\r\n",
      "                                    </ol>\r\n",
      "                                </dd>\r\n",
      "                                <dd class=\"tr clear_line\">\r\n",
      "                                    <p><a href=\"javascript:void(0);\">看更多&gt;</a></p>\r\n",
      "                                </dd>\r\n",
      "                            </dl>\r\n",
      "                            <!-- prod_gift end -->\r\n",
      "                            <!-- prod_gift start -->\r\n",
      "                            <dl id=\"GiftContainer\" class=\"prod_gift unblock\">\r\n",
      "                                <dt>贈品：</dt>\r\n",
      "                                <dd>\r\n",
      "                                    <ol>\r\n",
      "                                    </ol>\r\n",
      "                                </dd>\r\n",
      "                            </dl>\r\n",
      "                            <!-- prod_gift end -->\r\n",
      "                        </div>\r\n",
      "                    </dd>\r\n",
      "                    <dd class=\"Cb clearfix\">\r\n",
      "                         <dl id=\"GiftListContainer\" class=\"prod_gift\">\r\n",
      "                        </dl>\r\n",
      "                        <!-- prod_gift end -->\r\n",
      "                        <!-- prod_option start -->\r\n",
      "                        <dl id=\"GiftListPicContainer\" class=\"prod_option clearfix\">\r\n",
      "                        </dl>\r\n",
      "                         <dl class=\"prod_recommend unblock\" id='AlsoViewAndBuyContainer'>\r\n",
      "                            <dd class=\"head clearfix\">\r\n",
      "                                <ul class=\"tab_box\">\r\n",
      "                                    <li id='AlsoView'><a href=\"javascript:void(0)\">看此商品的人也看了...</a><sup></sup><sub></sub></li>\r\n",
      "                                    <li id='AlsoBuy'><a href=\"javascript:void(0)\">買此商品的人也買了...</a><sup></sup><sub></sub></li>\r\n",
      "                                </ul>\r\n",
      "                            </dd>\r\n",
      "                            <dd  class=\"body clearfix\">\r\n",
      "                                <a href=\"javascript:void(0)\"  style = \"outline:none\" class='left'><span class=\"ico prev\">上一頁</span></a>\r\n",
      "                                <div class=\"list\">\r\n",
      "                                    <dl id=\"AlsoBody\" class=\"clarfix site_looplist vc_120\">\r\n",
      "                                    </dl>\r\n",
      "                                </div>\r\n",
      "                                <a href=\"javascript:void(0)\"  style = \"outline:none\" class='right'><span class=\"ico next\">下一頁</span></a>\r\n",
      "                            </dd>\r\n",
      "                        </dl>\r\n",
      "                        <p class=\"line_dotted\">&nbsp;</p>\r\n",
      "                        <dl id='StoreProdAd800Container' class=\"unblock\"><a class=\"site_ad\" href=\"\" target=\"_blank\"><img src=\"\" /></a></dl>\r\n",
      "                        <!-- prod_intro start -->\r\n",
      "                        <dl id='IntroContainer' class=\"prod_intro unblock\">\r\n",
      "                        </dl>\r\n",
      "                         <!-- prod_intro end -->\r\n",
      "                        <!-- site_btn start -->\r\n",
      "                        <div class=\"site_btn tc\">\r\n",
      "                        </div>\r\n",
      "                        <!-- site_btn end -->\r\n",
      "                        <p class=\"line_dotted\">&nbsp;</p>\r\n",
      "\r\n",
      "                        <!-- prod_add start -->\r\n",
      "                        <dl id=\"MoreAddContainer\" class=\"prod_add unblock\">\r\n",
      "                            <dt>加購專區</dt>\r\n",
      "                            <dd class=\"tr\">\r\n",
      "                                <a id =\"top\" href=\"javascript:void(0)\">△回TOP</a>\r\n",
      "                            </dd>\r\n",
      "                        </dl>\r\n",
      "                        <!-- prod_add end -->\r\n",
      "                        <!-- site_btn start -->\r\n",
      "                        <div class=\"site_btn tc\">\r\n",
      "                        </div>\r\n",
      "                        <!-- prod_info start -->\r\n",
      "                        <p class=\"line_dotted\">&nbsp;</p>\r\n",
      "                        <!-- prod_info start -->\r\n",
      "                        <dl id=\"EquipContainer\" class=\"prod_info site_corner unblock\">\r\n",
      "                            <dd>\r\n",
      "                                <dl>\r\n",
      "                                    <dt>本商品標準配備 + 贈品</dt>\r\n",
      "                                    <dd  id=\"Equiphtml\">\r\n",
      "                                    </dd>\r\n",
      "                                </dl>\r\n",
      "                                <sup class=\"l\"></sup>\r\n",
      "                                <sup class=\"r\"></sup>\r\n",
      "                                <sub class=\"l\"></sub>\r\n",
      "                                <sub class=\"r\"></sub>\r\n",
      "                            </dd>\r\n",
      "                        </dl>\r\n",
      "                        <!-- prod_info end -->\r\n",
      "                        <!-- prod_info start -->\r\n",
      "                        <dl id=\"StmtContainer\" class=\"prod_info site_corner unblock\">\r\n",
      "                            <dd>\r\n",
      "                                <dl>\r\n",
      "                                    <dt>本商品規格</dt>\r\n",
      "                                    <dd  id=\"Foodhtml\">\r\n",
      "                                    </dd>\r\n",
      "                                    <dd  id=\"Stmthtml\">\r\n",
      "                                    </dd>\r\n",
      "                                </dl>\r\n",
      "                                <sup class=\"l\"></sup>\r\n",
      "                                <sup class=\"r\"></sup>\r\n",
      "                                <sub class=\"l\"></sub>\r\n",
      "                                <sub class=\"r\"></sub>\r\n",
      "                            </dd>\r\n",
      "                        </dl>\r\n",
      "                        <!-- prod_info end -->\r\n",
      "                        <!-- prod_info start -->\r\n",
      "                      <dl id=\"RemarkContainer\" class=\"prod_info site_square unblock\">\r\n",
      "                       </dl>\r\n",
      "                        <!-- prod_info end -->\r\n",
      "                        <!-- site_btn start -->\r\n",
      "                        <div class=\"site_btn tc\">\r\n",
      "                        </div>\r\n",
      "                        <!-- site_btn end -->\r\n",
      "                        <p class=\"line_dotted\">&nbsp;</p>\r\n",
      "                        <!-- shop_info start -->\r\n",
      "                        <dl id=\"WarrantyContainer\" class=\"shop_info unblock\">\r\n",
      "                            <dt>運送及保固說明\r\n",
      "                            <b class=\"ico shipping\">配送到府</b>\r\n",
      "                            </dt>\r\n",
      "                            <dd class=\"site_corner\">\r\n",
      "                                <dl class=\"clearfix\">\r\n",
      "                                </dl>\r\n",
      "                                <sup class=\"l\"></sup>\r\n",
      "                                <sup class=\"r\"></sup>\r\n",
      "                                <sub class=\"l\"></sub>\r\n",
      "                                <sub class=\"r\"></sub>\r\n",
      "                            </dd>\r\n",
      "                        </dl>\r\n",
      "                        <dl class=\"shop_info\">\r\n",
      "                            <dt>商品退貨需知<b class=\"ico return\">退貨免費，到府收貨</b></dt>\r\n",
      "                            <dd class=\"site_corner\">\r\n",
      "                                <dl class=\"clearfix\">\r\n",
      "                                    <dt>關於退貨：</dt>\r\n",
      "                                    <dd>PChome Online線上購物的消費者，都可以依照消費者保護法的規定，享有商品貨到次日起七天猶豫期的權益。但猶豫期並非試用期，請留意，您所退回的商品必須回復原狀（須回復至商品到貨時的原始狀態）並且保持完整包裝（包括商品本體、配件、贈品、保證書、原廠包裝及所有附隨文件或資料的完整性），切勿缺漏任何配件或損毀原廠外盒。<br/>\r\n",
      "如果您所購買的商品是電腦軟體、遊戲光碟、CD、VCD、DVD、食品、耗材、個人衛生用品等一經拆封即無法回復原狀的商品，在您還不確定是否要辦理退貨以前，請勿拆封。<br/>\r\n",
      "若您需辦理退貨，請利用顧客中心「查訂單」或「退訂/退款查詢」的「退訂/退貨」功能填寫申請，我們將於接獲申請之次日起1個工作天內檢視您的退貨要求，檢視完畢後將以E-mail回覆通知您，並將委託本公司指定之宅配公司，在5個工作天內透過電話與您連絡前往取回退貨商品。請您保持電話暢通，並備妥原商品及所有包裝及附件，以便於交付予本公司指定之宅配公司取回（宅配公司僅負責收件，退貨商品仍由特約廠商進行驗收），宅配公司取件後會提供簽收單據給您，請注意留存。<br/>\r\n",
      "退回商品時，請以本公司或特約廠商寄送商品給您時所使用的外包裝（紙箱或包裝袋），原封包裝後交付給前來取件的宅配公司；如果本公司或特約廠商寄送商品給您時所使用的外包裝（紙箱或包裝袋）已經遺失，請您在商品原廠外盒之外，再以其他適當的包裝盒進行包裝，切勿任由宅配單直接粘貼在商品原廠外盒上或書寫文字。<br/>\r\n",
      "提醒您，原廠外盒及原廠包裝都屬於商品的一部分，若有遺失、毀損或缺件，可能影響您退貨的權益，也可能依照損毀程度扣除為回復原狀所必要的費用。<br/>\r\n",
      "若因您要求退貨或換貨、或因本公司無法接受您全部或部分之訂單、或因契約解除或失其效力，而需為您辦理退款事宜時，您同意本公司得代您處理發票或折讓單等相關法令所要求之單據，以利本公司為您辦理退款。<br/>\r\n",
      "本公司收到您所提出的申請後，若經確認無誤，將依消費者保護法之相關規定，返還您已支付之對價（含信用卡交易），退款日當天會再發送E-mail通知函給您。<br/>\r\n",
      "                                    </dd>\r\n",
      "                                </dl>\r\n",
      "                                <sup class=\"l\"></sup>\r\n",
      "                                <sup class=\"r\"></sup>\r\n",
      "                                <sub class=\"l\"></sub>\r\n",
      "                                <sub class=\"r\"></sub>\r\n",
      "                            </dd>\r\n",
      "                        </dl>\r\n",
      "                        <!-- shop_info end -->\r\n",
      "                         <!-- site_btn start -->\r\n",
      "                        <div class=\"site_btn tc\">\r\n",
      "                        </div>\r\n",
      "                        <!-- site_btn end -->\r\n",
      "                    </dd>\r\n",
      "                    <!-- Cb end -->\r\n",
      "                </dl>\r\n",
      "                <!-- prod_list end -->\r\n",
      "            </div>\r\n",
      "            <!-- block_C end -->\r\n",
      "            <!-- block_S bt_top start -->\r\n",
      "            <div class=\"block_S bt_top\">\r\n",
      "                <a class ='gototop' href=\"javascript:void(0)\">△回TOP</a>\r\n",
      "            </div>\r\n",
      "            <!-- block_S bt_top end -->\r\n",
      "        </div>\r\n",
      "        <!-- CONTENT end -->\r\n",
      "        <!-- FOOTER start -->\r\n",
      "        <div id=\"FOOTER\">\r\n",
      "            <p><a href=\"http://shopping.pchome.com.tw/\">PChome線上購物</a><b>-</b>網路家庭國際資訊股份有限公司 版權所有‧轉載必究<a class=\"sp\" href=\"http://faq.pchome.com.tw/faq_solution.html?q_id=16&c_nickname=member&f_id=4\">隱私權聲明</a><a class=\"fc-white\" href=\"http://shopping.pchome.com.tw/?mod=sitemap&amp;func=sitemap\" accesskey=\"M\" title=\"網站導覽\">:::</a></p>\r\n",
      "            <p>106 台北市大安區敦化南路二段105號12樓　電話(上班時間)：02-2326-1460<span>(本公司不會以此電話號碼撥打給您，如有來電顯示此號碼，請勿理會)</span></p>\r\n",
      "            <p class=\"sp\">PChome and PChome Online are trademarks of PChome Online Inc.</p>\r\n",
      "        </div>\r\n",
      "        <!-- FOOTER end -->\r\n",
      "\r\n",
      "\r\n",
      "        <!--購物車 start-->\r\n",
      "        <div id=\"CarInfo\" class='unblock site_cart'>\r\n",
      "            <span id=\"Cardebug\"></span>\r\n",
      "            <span id=\"theResult\" class=\"the_result\">加入購物車中...</span>\r\n",
      "            <div class=\"cart_box cart cart_1\" href=\"#\">\r\n",
      "                <span class=\"price\"><span class=\"value\">0</span></span>\r\n",
      "                <span class=\"number\">(<a href=\"https://ecssl.pchome.com.tw/sys/cflow/?m=shopcar\">0</a>)</span>\r\n",
      "                <span class=\"check\"><a href=\"https://ecssl.pchome.com.tw/sys/cflow/?m=shopcar\">結帳&gt;</a></span>\r\n",
      "            </div>\r\n",
      "        </div>\r\n",
      "        <!--購物車 end-->\r\n",
      "\r\n",
      "        <!-- 瀏覽記錄 start-->\r\n",
      "        <dl class=\"site_record unblock\">\r\n",
      "            <dd class=\"head\"><span>瀏覽紀錄</span><span class=\"close_box ico close\"></span></dd>\r\n",
      "            <dd class=\"body\">\r\n",
      "                <ul id=\"ul_list\" class=\"col2f\"></ul>\r\n",
      "            </dd>\r\n",
      "            <dd class=\"foot unblock\">\r\n",
      "                <a href=\"#\" target=\"_BLANK\"><span>more&gt;</span></a>\r\n",
      "            </dd>\r\n",
      "        </dl>\r\n",
      "        <!-- 瀏覽記錄 end-->\r\n",
      "\r\n",
      "\r\n",
      "    </div>\r\n",
      "\r\n",
      "    <!--彈出畫面 start-->\r\n",
      "    <div id=\"PopDiscountContainer\" class=\"site_popDiscount unblock\"></div>\r\n",
      "    <div id=\"PopPhoneContainer\" class=\"site_popPhoneNumber unblock\"></div>\r\n",
      "    <div id=\"PopMarketingContainer\" class=\"overlay_lightbox site_popLayout site_popGift unblock\"></div>\r\n",
      "    <!--彈出畫面 end-->\r\n",
      "    <!--分期銀行資料 start-->\r\n",
      "    <div id=\"PopInstallment\" class=\"site_popInstallment unblock\">\r\n",
      "        <dl>\r\n",
      "            <dt>接受{0}家銀行線上分期付款</dt>\r\n",
      "            <dd>{1}</dd>\r\n",
      "            <dd>※除不盡餘數於第一期收取</dd>\r\n",
      "        </dl>\r\n",
      "        <a href=\"javascript:window.close()\">△關視窗</a>\r\n",
      "    </div>\r\n",
      "    <!--分期銀行資料 end-->\r\n",
      "</div>\r\n",
      "<form>\r\n",
      "<input type=\"hidden\" name=\"MyEvent\" id=\"MyEvent\" >\r\n",
      "<input type=\"hidden\" name=\"inventory\" id=\"inventory\" value=\"0\"></form>\r\n",
      "</body>\r\n",
      "</html>\n"
     ]
    }
   ],
   "source": [
    "import requests\n",
    "res = requests.get('http://24h.pchome.com.tw/prod/DRAA0C-A90067G2U')\n",
    "print res.text"
   ]
  },
  {
   "cell_type": "code",
   "execution_count": 13,
   "metadata": {
    "collapsed": false
   },
   "outputs": [
    {
     "name": "stdout",
     "output_type": "stream",
     "text": [
      "try{jsonp_button([{\"Seq\":13666714,\"Id\":\"DRAA0C-A90067G2U-000\",\"Price\":{\"M\":2999,\"P\":2699},\"Qty\":\"10\",\"ButtonType\":\"ForSale\",\"SaleStatus\":1}]);}catch(e){if(window.console){console.log(e);}}\n"
     ]
    }
   ],
   "source": [
    "import requests\n",
    "res = requests.get('http://ecapi.pchome.com.tw/ecshop/prodapi/v2/prod/button&id=DRAA0C-A90067G2U&fields=Seq,Id,Price,Qty,ButtonType,SaleStatus&_callback=jsonp_button?_callback=jsonp_button')\n",
    "print res.text"
   ]
  },
  {
   "cell_type": "markdown",
   "metadata": {},
   "source": [
    "- http://release.seleniumhq.org/selenium-ide/2.9.0/selenium-ide-2.9.0.xpi"
   ]
  },
  {
   "cell_type": "code",
   "execution_count": null,
   "metadata": {
    "collapsed": true
   },
   "outputs": [],
   "source": [
    "# -*- coding: utf-8 -*-\n",
    "from selenium import webdriver\n",
    "from selenium.webdriver.common.by import By\n",
    "from selenium.webdriver.common.keys import Keys\n",
    "from selenium.webdriver.support.ui import Select\n",
    "from selenium.common.exceptions import NoSuchElementException\n",
    "from selenium.common.exceptions import NoAlertPresentException\n",
    "import  time, re\n",
    "\n",
    "driver = webdriver.Firefox()\n",
    "driver.implicitly_wait(3)\n",
    "base_url = \"http://www.agoda.com\"\n",
    "\n",
    "driver.get(base_url + \"/zh-tw/city/taipei-tw.html\")\n",
    "driver.find_element_by_id(\"CheckInMonthYear\").click()\n",
    "\n",
    "driver.implicitly_wait(1)\n",
    "Select(driver.find_element_by_id(\"CheckInMonthYear\")).select_by_visible_text(u\"2015年11月\")\n",
    "driver.implicitly_wait(1)\n",
    "driver.find_element_by_id(\"search-submit\").click()\n",
    "driver.implicitly_wait(1)\n",
    "driver.implicitly_wait(3)\n",
    "driver.find_element_by_link_text(u\"下一頁\").click()"
   ]
  },
  {
   "cell_type": "markdown",
   "metadata": {},
   "source": [
    "- http://phantomjs.org/download.html\n",
    "- http://casperjs.org/"
   ]
  },
  {
   "cell_type": "code",
   "execution_count": 14,
   "metadata": {
    "collapsed": false
   },
   "outputs": [
    {
     "name": "stdout",
     "output_type": "stream",
     "text": [
      "   Hello World This is link1 This is link2 \\  \n"
     ]
    }
   ],
   "source": [
    "from bs4 import BeautifulSoup \n",
    "html_sample = ' \\\n",
    "<html> \\\n",
    "<body> \\\n",
    "<h1 id=\"title\">Hello World</h1> \\\n",
    "<a href=\"#\" class=\"link\">This is link1</a> \\\n",
    "<a href=\"# link2\" class=\"link\">This is link2</a> \\ </body> \\\n",
    "</html>'\n",
    "soup = BeautifulSoup(html_sample) \n",
    "print soup.text"
   ]
  },
  {
   "cell_type": "code",
   "execution_count": 17,
   "metadata": {
    "collapsed": false
   },
   "outputs": [
    {
     "name": "stdout",
     "output_type": "stream",
     "text": [
      "<a class=\"link\" href=\"#\">This is link1</a>\n",
      "<a class=\"link\" href=\"# link2\">This is link2</a>\n"
     ]
    }
   ],
   "source": [
    "atag = soup.select('a')\n",
    "print atag[0]\n",
    "print atag[1]"
   ]
  },
  {
   "cell_type": "code",
   "execution_count": 20,
   "metadata": {
    "collapsed": false
   },
   "outputs": [
    {
     "name": "stdout",
     "output_type": "stream",
     "text": [
      "[<h1 id=\"title\">Hello World</h1>]\n",
      "<h1 id=\"title\">Hello World</h1>\n",
      "Hello World\n"
     ]
    }
   ],
   "source": [
    "print soup.select('#title') # id => #\n",
    "print soup.select('#title')[0]\n",
    "print soup.select('#title')[0].text"
   ]
  },
  {
   "cell_type": "code",
   "execution_count": 25,
   "metadata": {
    "collapsed": false
   },
   "outputs": [
    {
     "name": "stdout",
     "output_type": "stream",
     "text": [
      "[<a class=\"link\" href=\"#\">This is link1</a>, <a class=\"link\" href=\"# link2\">This is link2</a>]\n",
      "<a class=\"link\" href=\"#\">This is link1</a>\n",
      "This is link1\n"
     ]
    }
   ],
   "source": [
    "print soup.select('.link') # class => . \n",
    "print soup.select('.link')[0]\n",
    "print soup.select('.link')[0].text\n",
    "\n"
   ]
  },
  {
   "cell_type": "code",
   "execution_count": 26,
   "metadata": {
    "collapsed": false
   },
   "outputs": [
    {
     "name": "stdout",
     "output_type": "stream",
     "text": [
      "This is link1\n",
      "This is link2\n"
     ]
    }
   ],
   "source": [
    "for link in soup.select('.link'):\n",
    "    print link.text"
   ]
  },
  {
   "cell_type": "code",
   "execution_count": 32,
   "metadata": {
    "collapsed": false
   },
   "outputs": [
    {
     "name": "stdout",
     "output_type": "stream",
     "text": [
      "[<a abc=\"456\" class=\"link\" href=\"#\" qoo=\"123\"> </a>]\n",
      "<a abc=\"456\" class=\"link\" href=\"#\" qoo=\"123\"> </a>\n",
      "#\n",
      "[u'link']\n",
      "123\n",
      "456\n"
     ]
    }
   ],
   "source": [
    "a = '<a href=\"#\" qoo=\"123\" abc=\"456\" class=\"link\"> </a>'\n",
    "soup2 =  BeautifulSoup(a)\n",
    "print soup2.select('a')\n",
    "print soup2.select('a')[0]\n",
    "print soup2.select('a')[0]['href']\n",
    "print soup2.select('a')[0]['class']\n",
    "print soup2.select('a')[0]['qoo']\n",
    "print soup2.select('a')[0]['abc']"
   ]
  },
  {
   "cell_type": "code",
   "execution_count": 33,
   "metadata": {
    "collapsed": false
   },
   "outputs": [
    {
     "name": "stdout",
     "output_type": "stream",
     "text": [
      "#\n",
      "# link2\n"
     ]
    }
   ],
   "source": [
    "for link in soup.select('.link'):\n",
    "    print link['href']"
   ]
  },
  {
   "cell_type": "code",
   "execution_count": 42,
   "metadata": {
    "collapsed": false
   },
   "outputs": [
    {
     "name": "stdout",
     "output_type": "stream",
     "text": [
      "•\n",
      "抗癌針劑出貨 法人看好東洋\n",
      "\n",
      "\n",
      "(2015/09/11 中央社) \n",
      " \n",
      "•\n",
      "晟德：公司負責人遭假扣押一事，對公司財務業務並無影響\n",
      "\n",
      "\n",
      "(2015/09/09 Moneydj理財網) \n",
      " \n",
      "•\n",
      "《台北股市》盤中焦點股：東洋、利勤、國光生、裕民、華亞科\n",
      "\n",
      "\n",
      "(2015/09/09 時報資訊) \n",
      " \n",
      "•\n",
      "東洋8月營收 31個月新高\n",
      "\n",
      "\n",
      "(2015/09/09 中央社) \n",
      " \n",
      "•\n",
      "個股：東洋(4105)經台北地院裁定獲准對董事林榮錦進行假扣押強制執行\n",
      "\n",
      "\n",
      "(2015/09/09 財訊快報) \n",
      " \n",
      "•\n",
      "晟德董座林榮錦聲明：絕無檢察官所指之犯意與犯行，並已向法院提出無罪之答辯\n",
      "\n",
      "\n",
      "(2015/09/09 Moneydj理財網) \n",
      " \n",
      "•\n",
      "東洋：經台北地院裁定獲准對董事林榮錦在債權金額約3.63億範圍內進行假扣押強制執行\n",
      "\n",
      "\n",
      "(2015/09/09 Moneydj理財網) \n",
      " \n",
      "•\n",
      "【公告】台灣東洋經台北地院裁定獲准對董事林榮錦進行假扣押強制執行\n",
      "\n",
      "\n",
      "(2015/09/08 中央社) \n",
      " \n",
      "•\n",
      "【公告】台灣東洋 2015年8月合併營收3.62億元 年增58.87%\n",
      "\n",
      "\n",
      "(2015/09/08 中央社) \n",
      " \n",
      "•\n",
      "台灣東洋8月營收3.62億元年增58.87% 1— 8月達20.28億元\n",
      "\n",
      "\n",
      "(2015/09/08 鉅亨網)\n",
      "•\n",
      "抗癌針劑出貨 法人看好東洋\n",
      "(2015/09/11 中央社)\n",
      "•\n",
      "晟德：公司負責人遭假扣押一事，對公司財務業務並無影響\n",
      "(2015/09/09 Moneydj理財網)\n",
      "•\n",
      "《台北股市》盤中焦點股：東洋、利勤、國光生、裕民、華亞科\n",
      "(2015/09/09 時報資訊)\n",
      "•\n",
      "東洋8月營收 31個月新高\n",
      "(2015/09/09 中央社)\n",
      "•\n",
      "個股：東洋(4105)經台北地院裁定獲准對董事林榮錦進行假扣押強制執行\n",
      "(2015/09/09 財訊快報)\n",
      "•\n",
      "晟德董座林榮錦聲明：絕無檢察官所指之犯意與犯行，並已向法院提出無罪之答辯\n",
      "(2015/09/09 Moneydj理財網)\n",
      "•\n",
      "東洋：經台北地院裁定獲准對董事林榮錦在債權金額約3.63億範圍內進行假扣押強制執行\n",
      "(2015/09/09 Moneydj理財網)\n",
      "•\n",
      "【公告】台灣東洋經台北地院裁定獲准對董事林榮錦進行假扣押強制執行\n",
      "(2015/09/08 中央社)\n",
      "•\n",
      "【公告】台灣東洋 2015年8月合併營收3.62億元 年增58.87%\n",
      "(2015/09/08 中央社)\n",
      "•\n",
      "台灣東洋8月營收3.62億元年增58.87% 1— 8月達20.28億元\n",
      "(2015/09/08 鉅亨網)\n"
     ]
    }
   ],
   "source": [
    "import requests\n",
    "from bs4 import BeautifulSoup as bs\n",
    "res = requests.get('https://tw.stock.yahoo.com/q/h?s=4105')\n",
    "soup = bs(res.text)\n",
    "table =  soup.select('table .yui-text-left')[0]\n",
    "for tr in table.select('tr')[1:]:\n",
    "    print tr.text.strip()"
   ]
  },
  {
   "cell_type": "markdown",
   "metadata": {},
   "source": [
    "- https://chrome.google.com/webstore/detail/infolite/ipjb adabbpedegielkhgpiekdlmfpgal"
   ]
  },
  {
   "cell_type": "code",
   "execution_count": 43,
   "metadata": {
    "collapsed": false
   },
   "outputs": [
    {
     "name": "stdout",
     "output_type": "stream",
     "text": [
      "2699\n"
     ]
    }
   ],
   "source": [
    "# -*- coding: utf-8 -*-\n",
    "from selenium import webdriver\n",
    "from selenium.webdriver.common.by import By\n",
    "from selenium.webdriver.common.keys import Keys\n",
    "from selenium.webdriver.support.ui import Select\n",
    "from selenium.common.exceptions import NoSuchElementException\n",
    "from selenium.common.exceptions import NoAlertPresentException\n",
    "import  time, re\n",
    "from bs4 import BeautifulSoup\n",
    "\n",
    "driver = webdriver.Firefox()\n",
    "driver.implicitly_wait(3)\n",
    "\n",
    "driver.get('http://24h.pchome.com.tw/prod/DRAA0C-A90067G2U')\n",
    "driver.implicitly_wait(1)\n",
    "soup = BeautifulSoup(driver.page_source)\n",
    "print soup.select('#PriceTotal')[0].text\n",
    "driver.close()"
   ]
  },
  {
   "cell_type": "code",
   "execution_count": 44,
   "metadata": {
    "collapsed": false
   },
   "outputs": [
    {
     "name": "stdout",
     "output_type": "stream",
     "text": [
      "['BeautifulSoup', 'BeautifulStoneSoup', 'CData', 'Comment', 'DEFAULT_OUTPUT_ENCODING', 'Declaration', 'Doctype', 'FeatureNotFound', 'NavigableString', 'PageElement', 'ParserRejectedMarkup', 'ProcessingInstruction', 'ResultSet', 'SoupStrainer', 'StopParsing', 'Tag', 'UnicodeDammit', '__all__', '__author__', '__builtins__', '__copyright__', '__doc__', '__file__', '__license__', '__name__', '__package__', '__path__', '__version__', '_s', '_soup', 'builder', 'builder_registry', 'dammit', 'element', 'os', 're', 'syntax_error', 'warnings']\n"
     ]
    }
   ],
   "source": [
    "import bs4\n",
    "print dir(bs4)"
   ]
  },
  {
   "cell_type": "code",
   "execution_count": 45,
   "metadata": {
    "collapsed": false
   },
   "outputs": [
    {
     "name": "stdout",
     "output_type": "stream",
     "text": [
      "['ASCII_SPACES', 'DEFAULT_BUILDER_FEATURES', 'HTML_FORMATTERS', 'ROOT_TAG_NAME', 'XML_FORMATTERS', '__call__', '__class__', '__contains__', '__delattr__', '__delitem__', '__dict__', '__doc__', '__eq__', '__format__', '__getattr__', '__getattribute__', '__getitem__', '__hash__', '__init__', '__iter__', '__len__', '__module__', '__ne__', '__new__', '__nonzero__', '__reduce__', '__reduce_ex__', '__repr__', '__setattr__', '__setitem__', '__sizeof__', '__str__', '__subclasshook__', '__unicode__', '__weakref__', '_all_strings', '_attr_value_as_string', '_attribute_checker', '_feed', '_find_all', '_find_one', '_formatter_for_name', '_is_xml', '_lastRecursiveChild', '_last_descendant', '_popToTag', '_select_debug', '_selector_combinators', '_should_pretty_print', '_tag_name_matches_and', 'append', 'attribselect_re', 'childGenerator', 'children', 'clear', 'decode', 'decode_contents', 'decompose', 'descendants', 'encode', 'encode_contents', 'endData', 'extract', 'fetchNextSiblings', 'fetchParents', 'fetchPrevious', 'fetchPreviousSiblings', 'find', 'findAll', 'findAllNext', 'findAllPrevious', 'findChild', 'findChildren', 'findNext', 'findNextSibling', 'findNextSiblings', 'findParent', 'findParents', 'findPrevious', 'findPreviousSibling', 'findPreviousSiblings', 'find_all', 'find_all_next', 'find_all_previous', 'find_next', 'find_next_sibling', 'find_next_siblings', 'find_parent', 'find_parents', 'find_previous', 'find_previous_sibling', 'find_previous_siblings', 'format_string', 'get', 'getText', 'get_text', 'handle_data', 'handle_endtag', 'handle_starttag', 'has_attr', 'has_key', 'index', 'insert', 'insert_after', 'insert_before', 'isSelfClosing', 'is_empty_element', 'new_string', 'new_tag', 'next', 'nextGenerator', 'nextSibling', 'nextSiblingGenerator', 'next_elements', 'next_siblings', 'object_was_parsed', 'parentGenerator', 'parents', 'parserClass', 'popTag', 'prettify', 'previous', 'previousGenerator', 'previousSibling', 'previousSiblingGenerator', 'previous_elements', 'previous_siblings', 'pushTag', 'recursiveChildGenerator', 'renderContents', 'replaceWith', 'replaceWithChildren', 'replace_with', 'replace_with_children', 'reset', 'select', 'setup', 'string', 'strings', 'stripped_strings', 'tag_name_re', 'text', 'unwrap', 'wrap']\n"
     ]
    }
   ],
   "source": [
    "from bs4 import BeautifulSoup \n",
    "print dir(BeautifulSoup) "
   ]
  },
  {
   "cell_type": "code",
   "execution_count": 49,
   "metadata": {
    "collapsed": false
   },
   "outputs": [],
   "source": [
    "import bs4\n",
    "doup = bs4.BeautifulSoup(res.text)\n",
    "#print doup"
   ]
  }
 ],
 "metadata": {
  "kernelspec": {
   "display_name": "Python 2",
   "language": "python",
   "name": "python2"
  },
  "language_info": {
   "codemirror_mode": {
    "name": "ipython",
    "version": 2
   },
   "file_extension": ".py",
   "mimetype": "text/x-python",
   "name": "python",
   "nbconvert_exporter": "python",
   "pygments_lexer": "ipython2",
   "version": "2.7.6"
  }
 },
 "nbformat": 4,
 "nbformat_minor": 0
}
