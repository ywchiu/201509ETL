{
 "cells": [
  {
   "cell_type": "code",
   "execution_count": 1,
   "metadata": {
    "collapsed": true
   },
   "outputs": [],
   "source": [
    "a  = 3"
   ]
  },
  {
   "cell_type": "code",
   "execution_count": 2,
   "metadata": {
    "collapsed": false
   },
   "outputs": [
    {
     "data": {
      "text/plain": [
       "3"
      ]
     },
     "execution_count": 2,
     "metadata": {},
     "output_type": "execute_result"
    }
   ],
   "source": [
    "a"
   ]
  },
  {
   "cell_type": "code",
   "execution_count": 3,
   "metadata": {
    "collapsed": false
   },
   "outputs": [
    {
     "name": "stdout",
     "output_type": "stream",
     "text": [
      "1\n",
      "5\n"
     ]
    }
   ],
   "source": [
    "ary = [1,2,3,4,5]\n",
    "print ary[0]\n",
    "print ary[-1]"
   ]
  },
  {
   "cell_type": "code",
   "execution_count": 7,
   "metadata": {
    "collapsed": false
   },
   "outputs": [
    {
     "name": "stdout",
     "output_type": "stream",
     "text": [
      "Qoo 3\n"
     ]
    }
   ],
   "source": [
    "name = ['John', 'May', 'David', 'Marry', 'Qoo']\n",
    "age = [23,25,18,28,3]\n",
    "\n",
    "cnt = 0\n",
    "for n in name:\n",
    "    if n == 'Qoo':\n",
    "        print n, age[cnt]\n",
    "    cnt += 1"
   ]
  },
  {
   "cell_type": "code",
   "execution_count": 14,
   "metadata": {
    "collapsed": false
   },
   "outputs": [
    {
     "name": "stdout",
     "output_type": "stream",
     "text": [
      "Qoo 3\n",
      "0 John\n",
      "1 May\n",
      "2 David\n",
      "3 Marry\n",
      "4 Qoo\n"
     ]
    }
   ],
   "source": [
    "name = ['John', 'May', 'David', 'Marry', 'Qoo']\n",
    "age = [23,25,18,28,3]\n",
    "\n",
    "for idx, n in enumerate(name):\n",
    "    if n == 'Qoo':\n",
    "        print n, age[idx]\n",
    "        \n",
    "for idx, n in  enumerate(name):\n",
    "    print idx, n"
   ]
  },
  {
   "cell_type": "code",
   "execution_count": 9,
   "metadata": {
    "collapsed": false
   },
   "outputs": [
    {
     "name": "stdout",
     "output_type": "stream",
     "text": [
      "hello world\n"
     ]
    }
   ],
   "source": [
    "# list => [] , dictionary = {}\n",
    "dic = {}\n",
    "dic ={'a': 1, 'b': 'hello world'}\n",
    "print dic['b']\n"
   ]
  },
  {
   "cell_type": "code",
   "execution_count": 11,
   "metadata": {
    "collapsed": false
   },
   "outputs": [
    {
     "name": "stdout",
     "output_type": "stream",
     "text": [
      "3\n"
     ]
    }
   ],
   "source": [
    "student = {'John':23, 'May':25, 'David':18, 'Marry':28, 'Qoo':3}\n",
    "\n",
    "print student['Qoo']"
   ]
  },
  {
   "cell_type": "code",
   "execution_count": 15,
   "metadata": {
    "collapsed": false
   },
   "outputs": [
    {
     "name": "stdout",
     "output_type": "stream",
     "text": [
      "{'a': 100, 'c': 0.98, 'b': 'yes'}\n"
     ]
    }
   ],
   "source": [
    "#declare dictionary\n",
    "dic = {'a':100, 'b':\"yes\", 'c':0.98} \n",
    "print dic\n"
   ]
  },
  {
   "cell_type": "code",
   "execution_count": 17,
   "metadata": {
    "collapsed": false
   },
   "outputs": [
    {
     "name": "stdout",
     "output_type": "stream",
     "text": [
      "['a', 'c', 'b']\n",
      "['a', 'b', 'c']\n"
     ]
    }
   ],
   "source": [
    "#get keys in dictionary\n",
    "print dic.keys()\n",
    "key = dic.keys()\n",
    "key.sort()\n",
    "print key"
   ]
  },
  {
   "cell_type": "code",
   "execution_count": 19,
   "metadata": {
    "collapsed": false
   },
   "outputs": [
    {
     "name": "stdout",
     "output_type": "stream",
     "text": [
      "True\n",
      "False\n"
     ]
    }
   ],
   "source": [
    "print 'a' in dic \n",
    "print 'd' in dic"
   ]
  },
  {
   "cell_type": "code",
   "execution_count": 20,
   "metadata": {
    "collapsed": false
   },
   "outputs": [
    {
     "name": "stdout",
     "output_type": "stream",
     "text": [
      "[100, 0.98, 'yes']\n"
     ]
    }
   ],
   "source": [
    "#get values in dictionary\n",
    "print dic.values() #get value of given key\n"
   ]
  },
  {
   "cell_type": "code",
   "execution_count": 21,
   "metadata": {
    "collapsed": false
   },
   "outputs": [
    {
     "name": "stdout",
     "output_type": "stream",
     "text": [
      "100\n"
     ]
    }
   ],
   "source": [
    "print dic['a']"
   ]
  },
  {
   "cell_type": "code",
   "execution_count": 22,
   "metadata": {
    "collapsed": false
   },
   "outputs": [
    {
     "name": "stdout",
     "output_type": "stream",
     "text": [
      "100\n"
     ]
    }
   ],
   "source": [
    "#get value of given key\n",
    "print dic.get('a')"
   ]
  },
  {
   "cell_type": "code",
   "execution_count": 24,
   "metadata": {
    "collapsed": false
   },
   "outputs": [
    {
     "name": "stdout",
     "output_type": "stream",
     "text": [
      "{'a': 100, 'c': 0.98, 'b': 'yes'}\n"
     ]
    },
    {
     "ename": "KeyError",
     "evalue": "'d'",
     "output_type": "error",
     "traceback": [
      "\u001b[0;31m---------------------------------------------------------------------------\u001b[0m",
      "\u001b[0;31mKeyError\u001b[0m                                  Traceback (most recent call last)",
      "\u001b[0;32m<ipython-input-24-0ca2776588a5>\u001b[0m in \u001b[0;36m<module>\u001b[0;34m()\u001b[0m\n\u001b[1;32m      1\u001b[0m \u001b[0;32mprint\u001b[0m \u001b[0mdic\u001b[0m\u001b[0;34m\u001b[0m\u001b[0m\n\u001b[0;32m----> 2\u001b[0;31m \u001b[0;32mprint\u001b[0m \u001b[0mdic\u001b[0m\u001b[0;34m[\u001b[0m\u001b[0;34m'd'\u001b[0m\u001b[0;34m]\u001b[0m\u001b[0;34m\u001b[0m\u001b[0m\n\u001b[0m",
      "\u001b[0;31mKeyError\u001b[0m: 'd'"
     ]
    }
   ],
   "source": [
    "print dic\n",
    "print dic['d']"
   ]
  },
  {
   "cell_type": "code",
   "execution_count": 25,
   "metadata": {
    "collapsed": false
   },
   "outputs": [
    {
     "name": "stdout",
     "output_type": "stream",
     "text": [
      "None\n"
     ]
    }
   ],
   "source": [
    "print dic.get('d')"
   ]
  },
  {
   "cell_type": "code",
   "execution_count": 27,
   "metadata": {
    "collapsed": false
   },
   "outputs": [
    {
     "name": "stdout",
     "output_type": "stream",
     "text": [
      "keyerror 'd'\n"
     ]
    }
   ],
   "source": [
    "try:\n",
    "    print dic['d']\n",
    "except KeyError as detail:\n",
    "    print \"keyerror\", detail\n",
    "    \n"
   ]
  },
  {
   "cell_type": "code",
   "execution_count": 28,
   "metadata": {
    "collapsed": true
   },
   "outputs": [],
   "source": [
    "if 'd' in dic:\n",
    "    print dic['d']\n",
    "    "
   ]
  },
  {
   "cell_type": "code",
   "execution_count": 29,
   "metadata": {
    "collapsed": false
   },
   "outputs": [
    {
     "name": "stdout",
     "output_type": "stream",
     "text": [
      "D is not there\n"
     ]
    }
   ],
   "source": [
    "print dic.get('d' , 'D is not there')"
   ]
  },
  {
   "cell_type": "code",
   "execution_count": 30,
   "metadata": {
    "collapsed": false
   },
   "outputs": [
    {
     "name": "stdout",
     "output_type": "stream",
     "text": [
      "100\n"
     ]
    }
   ],
   "source": [
    "print dic.get('a' , 'D is not there')"
   ]
  },
  {
   "cell_type": "code",
   "execution_count": 33,
   "metadata": {
    "collapsed": false
   },
   "outputs": [
    {
     "name": "stdout",
     "output_type": "stream",
     "text": [
      "{'a': 100, 'c': 0.98, 'b': 'yes', 'd': 123}\n",
      "{'a': 100, 'c': 0.98, 'b': 'yes', 'd': 123}\n",
      "{'a': 100, 'qoo': 789, 'c': 0.98, 'b': 'yes', 'd': 123}\n"
     ]
    }
   ],
   "source": [
    "print dic\n",
    "dic['d'] = 123\n",
    "print dic\n",
    "dic['qoo'] = 789\n",
    "print dic"
   ]
  },
  {
   "cell_type": "code",
   "execution_count": 34,
   "metadata": {
    "collapsed": false
   },
   "outputs": [
    {
     "name": "stdout",
     "output_type": "stream",
     "text": [
      "{'a': 100, 'c': 0.98, 'b': 'yes', 'e': 123, 'd': 123, 'qoo': 789}\n"
     ]
    }
   ],
   "source": [
    "dic.update({'e':123})\n",
    "print dic"
   ]
  },
  {
   "cell_type": "code",
   "execution_count": 36,
   "metadata": {
    "collapsed": false
   },
   "outputs": [
    {
     "name": "stdout",
     "output_type": "stream",
     "text": [
      "{'a': 100, 'c': 0.98, 'b': 'yes', 'e': 123, 'd': 123, 'g': 456, 'f': 234, 'qoo': 789, 'h': 'qoo'}\n"
     ]
    }
   ],
   "source": [
    "dic.update({'e':123, 'f':234, 'g':456, 'h': 'qoo'})\n",
    "print dic"
   ]
  },
  {
   "cell_type": "code",
   "execution_count": 37,
   "metadata": {
    "collapsed": false
   },
   "outputs": [
    {
     "name": "stdout",
     "output_type": "stream",
     "text": [
      "{'a': 'revise a', 'c': 0.98, 'b': 'yes', 'e': 123, 'd': 123, 'g': 456, 'f': 234, 'qoo': 789, 'h': 'qoo'}\n"
     ]
    }
   ],
   "source": [
    "dic['a'] = \"revise a\"\n",
    "print dic"
   ]
  },
  {
   "cell_type": "code",
   "execution_count": 41,
   "metadata": {
    "collapsed": false
   },
   "outputs": [
    {
     "name": "stdout",
     "output_type": "stream",
     "text": [
      "a revise a\n",
      "c 0.98\n",
      "b yes\n",
      "e 123\n",
      "d 123\n",
      "g 456\n",
      "f 234\n",
      "qoo 789\n",
      "h qoo\n"
     ]
    }
   ],
   "source": [
    "for key in dic:\n",
    "    print key, dic[key]"
   ]
  },
  {
   "cell_type": "code",
   "execution_count": 47,
   "metadata": {
    "collapsed": false
   },
   "outputs": [
    {
     "name": "stdout",
     "output_type": "stream",
     "text": [
      "[1, 2, 1, 1, 3, 4, 1, 2, 3, 6, 1, 2, 1, 3, 2, 1]\n",
      "[1, 1, 1, 1, 1, 1, 1, 2, 2, 2, 2, 3, 3, 3, 4, 6]\n",
      "1 7\n",
      "2 4\n",
      "3 3\n",
      "4 1\n",
      "6 1\n"
     ]
    }
   ],
   "source": [
    "a = [1,2,1,1,3,4,1,2,3,6,1,2,1,3,2,1]\n",
    "print a\n",
    "a.sort()\n",
    "print a\n",
    "\n",
    "current = 0 \n",
    "for ele in a:\n",
    "    if ele != current:\n",
    "        if current != 0 :\n",
    "            print current, cnt\n",
    "        current = ele\n",
    "        cnt = 1\n",
    "    else:\n",
    "        cnt +=1\n",
    "print current, cnt\n"
   ]
  },
  {
   "cell_type": "code",
   "execution_count": 49,
   "metadata": {
    "collapsed": false
   },
   "outputs": [
    {
     "name": "stdout",
     "output_type": "stream",
     "text": [
      "1 7\n",
      "2 4\n",
      "3 3\n",
      "4 1\n",
      "6 1\n"
     ]
    }
   ],
   "source": [
    "a = [1,2,1,1,3,4,1,2,3,6,1,2,1,3,2,1]\n",
    "dic = {}\n",
    "for ele in a:\n",
    "    if ele in dic:\n",
    "        dic[ele] = dic[ele] + 1\n",
    "    else:\n",
    "        dic[ele] = 1\n",
    "\n",
    "for ele in dic:\n",
    "    print ele, dic[ele]"
   ]
  },
  {
   "cell_type": "code",
   "execution_count": 50,
   "metadata": {
    "collapsed": false
   },
   "outputs": [
    {
     "name": "stdout",
     "output_type": "stream",
     "text": [
      "first\n",
      "second\n",
      "last\n"
     ]
    },
    {
     "data": {
      "text/plain": [
       "\"\\nswitch(ele):\\n    case 1:\\n        print 'first'\\n    case 2:\\n        print 'second'\\n    defialt:\\n        print 'last'\\n\""
      ]
     },
     "execution_count": 50,
     "metadata": {},
     "output_type": "execute_result"
    }
   ],
   "source": [
    "#def func(x):\n",
    "#    return {}\n",
    "\n",
    "\n",
    "a = [1,2,3]\n",
    "for ele in a:\n",
    "    if ele == 1:\n",
    "        print 'first'\n",
    "    elif ele == 2:\n",
    "        print 'second'\n",
    "    else:\n",
    "        print 'last'\n",
    "'''\n",
    "switch(ele):\n",
    "    case 1:\n",
    "        print 'first'\n",
    "    case 2:\n",
    "        print 'second'\n",
    "    defialt:\n",
    "        print 'last'\n",
    "'''"
   ]
  },
  {
   "cell_type": "code",
   "execution_count": 55,
   "metadata": {
    "collapsed": false
   },
   "outputs": [
    {
     "name": "stdout",
     "output_type": "stream",
     "text": [
      "first\n",
      "second\n",
      "None\n"
     ]
    }
   ],
   "source": [
    "def func(x):\n",
    "    return {1: 'first', 2: 'second'}.get(x)\n",
    "\n",
    "print func(1)\n",
    "print func(2)\n",
    "print func(3)"
   ]
  },
  {
   "cell_type": "code",
   "execution_count": 54,
   "metadata": {
    "collapsed": false
   },
   "outputs": [
    {
     "name": "stdout",
     "output_type": "stream",
     "text": [
      "first\n",
      "second\n",
      "last\n"
     ]
    }
   ],
   "source": [
    "def func(x):\n",
    "    return {1: 'first', 2: 'second'}.get(x, 'last')\n",
    "\n",
    "print func(1)\n",
    "print func(2)\n",
    "print func(3)"
   ]
  },
  {
   "cell_type": "code",
   "execution_count": null,
   "metadata": {
    "collapsed": true
   },
   "outputs": [],
   "source": []
  }
 ],
 "metadata": {
  "kernelspec": {
   "display_name": "Python 2",
   "language": "python",
   "name": "python2"
  },
  "language_info": {
   "codemirror_mode": {
    "name": "ipython",
    "version": 2
   },
   "file_extension": ".py",
   "mimetype": "text/x-python",
   "name": "python",
   "nbconvert_exporter": "python",
   "pygments_lexer": "ipython2",
   "version": "2.7.6"
  }
 },
 "nbformat": 4,
 "nbformat_minor": 0
}
