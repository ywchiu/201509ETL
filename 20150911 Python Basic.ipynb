{
 "cells": [
  {
   "cell_type": "code",
   "execution_count": 1,
   "metadata": {
    "collapsed": true
   },
   "outputs": [],
   "source": [
    "a  = 3"
   ]
  },
  {
   "cell_type": "code",
   "execution_count": 2,
   "metadata": {
    "collapsed": false
   },
   "outputs": [
    {
     "data": {
      "text/plain": [
       "3"
      ]
     },
     "execution_count": 2,
     "metadata": {},
     "output_type": "execute_result"
    }
   ],
   "source": [
    "a"
   ]
  },
  {
   "cell_type": "code",
   "execution_count": 3,
   "metadata": {
    "collapsed": false
   },
   "outputs": [
    {
     "name": "stdout",
     "output_type": "stream",
     "text": [
      "1\n",
      "5\n"
     ]
    }
   ],
   "source": [
    "ary = [1,2,3,4,5]\n",
    "print ary[0]\n",
    "print ary[-1]"
   ]
  },
  {
   "cell_type": "code",
   "execution_count": 7,
   "metadata": {
    "collapsed": false
   },
   "outputs": [
    {
     "name": "stdout",
     "output_type": "stream",
     "text": [
      "Qoo 3\n"
     ]
    }
   ],
   "source": [
    "name = ['John', 'May', 'David', 'Marry', 'Qoo']\n",
    "age = [23,25,18,28,3]\n",
    "\n",
    "cnt = 0\n",
    "for n in name:\n",
    "    if n == 'Qoo':\n",
    "        print n, age[cnt]\n",
    "    cnt += 1"
   ]
  },
  {
   "cell_type": "code",
   "execution_count": 56,
   "metadata": {
    "collapsed": false
   },
   "outputs": [
    {
     "name": "stdout",
     "output_type": "stream",
     "text": [
      "<enumerate object at 0x10e545280>\n",
      "Qoo 3\n",
      "0 John\n",
      "1 May\n",
      "2 David\n",
      "3 Marry\n",
      "4 Qoo\n"
     ]
    }
   ],
   "source": [
    "name = ['John', 'May', 'David', 'Marry', 'Qoo']\n",
    "age = [23,25,18,28,3]\n",
    "\n",
    "\n",
    "print  enumerate(name)\n",
    "for idx, n in enumerate(name):\n",
    "    if n == 'Qoo':\n",
    "        print n, age[idx]\n",
    "        \n",
    "for idx, n in  enumerate(name):\n",
    "    print idx, n"
   ]
  },
  {
   "cell_type": "code",
   "execution_count": 9,
   "metadata": {
    "collapsed": false
   },
   "outputs": [
    {
     "name": "stdout",
     "output_type": "stream",
     "text": [
      "hello world\n"
     ]
    }
   ],
   "source": [
    "# list => [] , dictionary = {}\n",
    "dic = {}\n",
    "dic ={'a': 1, 'b': 'hello world'}\n",
    "print dic['b']\n"
   ]
  },
  {
   "cell_type": "code",
   "execution_count": 11,
   "metadata": {
    "collapsed": false
   },
   "outputs": [
    {
     "name": "stdout",
     "output_type": "stream",
     "text": [
      "3\n"
     ]
    }
   ],
   "source": [
    "student = {'John':23, 'May':25, 'David':18, 'Marry':28, 'Qoo':3}\n",
    "\n",
    "print student['Qoo']"
   ]
  },
  {
   "cell_type": "code",
   "execution_count": 15,
   "metadata": {
    "collapsed": false
   },
   "outputs": [
    {
     "name": "stdout",
     "output_type": "stream",
     "text": [
      "{'a': 100, 'c': 0.98, 'b': 'yes'}\n"
     ]
    }
   ],
   "source": [
    "#declare dictionary\n",
    "dic = {'a':100, 'b':\"yes\", 'c':0.98} \n",
    "print dic\n"
   ]
  },
  {
   "cell_type": "code",
   "execution_count": 17,
   "metadata": {
    "collapsed": false
   },
   "outputs": [
    {
     "name": "stdout",
     "output_type": "stream",
     "text": [
      "['a', 'c', 'b']\n",
      "['a', 'b', 'c']\n"
     ]
    }
   ],
   "source": [
    "#get keys in dictionary\n",
    "print dic.keys()\n",
    "key = dic.keys()\n",
    "key.sort()\n",
    "print key"
   ]
  },
  {
   "cell_type": "code",
   "execution_count": 19,
   "metadata": {
    "collapsed": false
   },
   "outputs": [
    {
     "name": "stdout",
     "output_type": "stream",
     "text": [
      "True\n",
      "False\n"
     ]
    }
   ],
   "source": [
    "print 'a' in dic \n",
    "print 'd' in dic"
   ]
  },
  {
   "cell_type": "code",
   "execution_count": 20,
   "metadata": {
    "collapsed": false
   },
   "outputs": [
    {
     "name": "stdout",
     "output_type": "stream",
     "text": [
      "[100, 0.98, 'yes']\n"
     ]
    }
   ],
   "source": [
    "#get values in dictionary\n",
    "print dic.values() #get value of given key\n"
   ]
  },
  {
   "cell_type": "code",
   "execution_count": 21,
   "metadata": {
    "collapsed": false
   },
   "outputs": [
    {
     "name": "stdout",
     "output_type": "stream",
     "text": [
      "100\n"
     ]
    }
   ],
   "source": [
    "print dic['a']"
   ]
  },
  {
   "cell_type": "code",
   "execution_count": 22,
   "metadata": {
    "collapsed": false
   },
   "outputs": [
    {
     "name": "stdout",
     "output_type": "stream",
     "text": [
      "100\n"
     ]
    }
   ],
   "source": [
    "#get value of given key\n",
    "print dic.get('a')"
   ]
  },
  {
   "cell_type": "code",
   "execution_count": 24,
   "metadata": {
    "collapsed": false
   },
   "outputs": [
    {
     "name": "stdout",
     "output_type": "stream",
     "text": [
      "{'a': 100, 'c': 0.98, 'b': 'yes'}\n"
     ]
    },
    {
     "ename": "KeyError",
     "evalue": "'d'",
     "output_type": "error",
     "traceback": [
      "\u001b[0;31m---------------------------------------------------------------------------\u001b[0m",
      "\u001b[0;31mKeyError\u001b[0m                                  Traceback (most recent call last)",
      "\u001b[0;32m<ipython-input-24-0ca2776588a5>\u001b[0m in \u001b[0;36m<module>\u001b[0;34m()\u001b[0m\n\u001b[1;32m      1\u001b[0m \u001b[0;32mprint\u001b[0m \u001b[0mdic\u001b[0m\u001b[0;34m\u001b[0m\u001b[0m\n\u001b[0;32m----> 2\u001b[0;31m \u001b[0;32mprint\u001b[0m \u001b[0mdic\u001b[0m\u001b[0;34m[\u001b[0m\u001b[0;34m'd'\u001b[0m\u001b[0;34m]\u001b[0m\u001b[0;34m\u001b[0m\u001b[0m\n\u001b[0m",
      "\u001b[0;31mKeyError\u001b[0m: 'd'"
     ]
    }
   ],
   "source": [
    "print dic\n",
    "print dic['d']"
   ]
  },
  {
   "cell_type": "code",
   "execution_count": 25,
   "metadata": {
    "collapsed": false
   },
   "outputs": [
    {
     "name": "stdout",
     "output_type": "stream",
     "text": [
      "None\n"
     ]
    }
   ],
   "source": [
    "print dic.get('d')"
   ]
  },
  {
   "cell_type": "code",
   "execution_count": 27,
   "metadata": {
    "collapsed": false
   },
   "outputs": [
    {
     "name": "stdout",
     "output_type": "stream",
     "text": [
      "keyerror 'd'\n"
     ]
    }
   ],
   "source": [
    "try:\n",
    "    print dic['d']\n",
    "except KeyError as detail:\n",
    "    print \"keyerror\", detail\n",
    "    \n"
   ]
  },
  {
   "cell_type": "code",
   "execution_count": 28,
   "metadata": {
    "collapsed": true
   },
   "outputs": [],
   "source": [
    "if 'd' in dic:\n",
    "    print dic['d']\n",
    "    "
   ]
  },
  {
   "cell_type": "code",
   "execution_count": 29,
   "metadata": {
    "collapsed": false
   },
   "outputs": [
    {
     "name": "stdout",
     "output_type": "stream",
     "text": [
      "D is not there\n"
     ]
    }
   ],
   "source": [
    "print dic.get('d' , 'D is not there')"
   ]
  },
  {
   "cell_type": "code",
   "execution_count": 30,
   "metadata": {
    "collapsed": false
   },
   "outputs": [
    {
     "name": "stdout",
     "output_type": "stream",
     "text": [
      "100\n"
     ]
    }
   ],
   "source": [
    "print dic.get('a' , 'D is not there')"
   ]
  },
  {
   "cell_type": "code",
   "execution_count": 33,
   "metadata": {
    "collapsed": false
   },
   "outputs": [
    {
     "name": "stdout",
     "output_type": "stream",
     "text": [
      "{'a': 100, 'c': 0.98, 'b': 'yes', 'd': 123}\n",
      "{'a': 100, 'c': 0.98, 'b': 'yes', 'd': 123}\n",
      "{'a': 100, 'qoo': 789, 'c': 0.98, 'b': 'yes', 'd': 123}\n"
     ]
    }
   ],
   "source": [
    "print dic\n",
    "dic['d'] = 123\n",
    "print dic\n",
    "dic['qoo'] = 789\n",
    "print dic"
   ]
  },
  {
   "cell_type": "code",
   "execution_count": 34,
   "metadata": {
    "collapsed": false
   },
   "outputs": [
    {
     "name": "stdout",
     "output_type": "stream",
     "text": [
      "{'a': 100, 'c': 0.98, 'b': 'yes', 'e': 123, 'd': 123, 'qoo': 789}\n"
     ]
    }
   ],
   "source": [
    "dic.update({'e':123})\n",
    "print dic"
   ]
  },
  {
   "cell_type": "code",
   "execution_count": 36,
   "metadata": {
    "collapsed": false
   },
   "outputs": [
    {
     "name": "stdout",
     "output_type": "stream",
     "text": [
      "{'a': 100, 'c': 0.98, 'b': 'yes', 'e': 123, 'd': 123, 'g': 456, 'f': 234, 'qoo': 789, 'h': 'qoo'}\n"
     ]
    }
   ],
   "source": [
    "dic.update({'e':123, 'f':234, 'g':456, 'h': 'qoo'})\n",
    "print dic"
   ]
  },
  {
   "cell_type": "code",
   "execution_count": 37,
   "metadata": {
    "collapsed": false
   },
   "outputs": [
    {
     "name": "stdout",
     "output_type": "stream",
     "text": [
      "{'a': 'revise a', 'c': 0.98, 'b': 'yes', 'e': 123, 'd': 123, 'g': 456, 'f': 234, 'qoo': 789, 'h': 'qoo'}\n"
     ]
    }
   ],
   "source": [
    "dic['a'] = \"revise a\"\n",
    "print dic"
   ]
  },
  {
   "cell_type": "code",
   "execution_count": 41,
   "metadata": {
    "collapsed": false
   },
   "outputs": [
    {
     "name": "stdout",
     "output_type": "stream",
     "text": [
      "a revise a\n",
      "c 0.98\n",
      "b yes\n",
      "e 123\n",
      "d 123\n",
      "g 456\n",
      "f 234\n",
      "qoo 789\n",
      "h qoo\n"
     ]
    }
   ],
   "source": [
    "for key in dic:\n",
    "    print key, dic[key]"
   ]
  },
  {
   "cell_type": "code",
   "execution_count": 47,
   "metadata": {
    "collapsed": false
   },
   "outputs": [
    {
     "name": "stdout",
     "output_type": "stream",
     "text": [
      "[1, 2, 1, 1, 3, 4, 1, 2, 3, 6, 1, 2, 1, 3, 2, 1]\n",
      "[1, 1, 1, 1, 1, 1, 1, 2, 2, 2, 2, 3, 3, 3, 4, 6]\n",
      "1 7\n",
      "2 4\n",
      "3 3\n",
      "4 1\n",
      "6 1\n"
     ]
    }
   ],
   "source": [
    "a = [1,2,1,1,3,4,1,2,3,6,1,2,1,3,2,1]\n",
    "print a\n",
    "a.sort()\n",
    "print a\n",
    "\n",
    "current = 0 \n",
    "for ele in a:\n",
    "    if ele != current:\n",
    "        if current != 0 :\n",
    "            print current, cnt\n",
    "        current = ele\n",
    "        cnt = 1\n",
    "    else:\n",
    "        cnt +=1\n",
    "print current, cnt\n"
   ]
  },
  {
   "cell_type": "code",
   "execution_count": 49,
   "metadata": {
    "collapsed": false
   },
   "outputs": [
    {
     "name": "stdout",
     "output_type": "stream",
     "text": [
      "1 7\n",
      "2 4\n",
      "3 3\n",
      "4 1\n",
      "6 1\n"
     ]
    }
   ],
   "source": [
    "a = [1,2,1,1,3,4,1,2,3,6,1,2,1,3,2,1]\n",
    "dic = {}\n",
    "for ele in a:\n",
    "    if ele in dic:\n",
    "        dic[ele] = dic[ele] + 1\n",
    "    else:\n",
    "        dic[ele] = 1\n",
    "\n",
    "for ele in dic:\n",
    "    print ele, dic[ele]"
   ]
  },
  {
   "cell_type": "code",
   "execution_count": 50,
   "metadata": {
    "collapsed": false
   },
   "outputs": [
    {
     "name": "stdout",
     "output_type": "stream",
     "text": [
      "first\n",
      "second\n",
      "last\n"
     ]
    },
    {
     "data": {
      "text/plain": [
       "\"\\nswitch(ele):\\n    case 1:\\n        print 'first'\\n    case 2:\\n        print 'second'\\n    defialt:\\n        print 'last'\\n\""
      ]
     },
     "execution_count": 50,
     "metadata": {},
     "output_type": "execute_result"
    }
   ],
   "source": [
    "#def func(x):\n",
    "#    return {}\n",
    "\n",
    "\n",
    "a = [1,2,3]\n",
    "for ele in a:\n",
    "    if ele == 1:\n",
    "        print 'first'\n",
    "    elif ele == 2:\n",
    "        print 'second'\n",
    "    else:\n",
    "        print 'last'\n",
    "'''\n",
    "switch(ele):\n",
    "    case 1:\n",
    "        print 'first'\n",
    "    case 2:\n",
    "        print 'second'\n",
    "    defialt:\n",
    "        print 'last'\n",
    "'''"
   ]
  },
  {
   "cell_type": "code",
   "execution_count": 55,
   "metadata": {
    "collapsed": false
   },
   "outputs": [
    {
     "name": "stdout",
     "output_type": "stream",
     "text": [
      "first\n",
      "second\n",
      "None\n"
     ]
    }
   ],
   "source": [
    "def func(x):\n",
    "    return {1: 'first', 2: 'second'}.get(x)\n",
    "\n",
    "print func(1)\n",
    "print func(2)\n",
    "print func(3)"
   ]
  },
  {
   "cell_type": "code",
   "execution_count": 54,
   "metadata": {
    "collapsed": false
   },
   "outputs": [
    {
     "name": "stdout",
     "output_type": "stream",
     "text": [
      "first\n",
      "second\n",
      "last\n"
     ]
    }
   ],
   "source": [
    "def func(x):\n",
    "    return {1: 'first', 2: 'second'}.get(x, 'last')\n",
    "\n",
    "print func(1)\n",
    "print func(2)\n",
    "print func(3)"
   ]
  },
  {
   "cell_type": "code",
   "execution_count": 62,
   "metadata": {
    "collapsed": false
   },
   "outputs": [
    {
     "data": {
      "text/plain": [
       "1"
      ]
     },
     "execution_count": 62,
     "metadata": {},
     "output_type": "execute_result"
    }
   ],
   "source": [
    "class Person():\n",
    "    count = 0 # Static/class variable \n",
    "    def __init__(self, name, city):\n",
    "        self.name = name # Variable for the instance \n",
    "        self.city = city \n",
    "        # Variable for the instance \n",
    "        Person.count += 1\n",
    "    def number_of_persons(self): \n",
    "        return Person.count\n",
    "    \n",
    "First = Person(\"David\", \"Chiayi\") \n",
    "First.number_of_persons() # 1"
   ]
  },
  {
   "cell_type": "code",
   "execution_count": 63,
   "metadata": {
    "collapsed": false
   },
   "outputs": [
    {
     "data": {
      "text/plain": [
       "2"
      ]
     },
     "execution_count": 63,
     "metadata": {},
     "output_type": "execute_result"
    }
   ],
   "source": [
    "Second = Person(\"QOO\", \"coca-cola\") \n",
    "Second.number_of_persons() # 2 "
   ]
  },
  {
   "cell_type": "code",
   "execution_count": 66,
   "metadata": {
    "collapsed": false
   },
   "outputs": [
    {
     "name": "stdout",
     "output_type": "stream",
     "text": [
      "David\n",
      "QOO\n"
     ]
    }
   ],
   "source": [
    "print First.name\n",
    "print Second.name"
   ]
  },
  {
   "cell_type": "code",
   "execution_count": 75,
   "metadata": {
    "collapsed": false
   },
   "outputs": [
    {
     "name": "stdout",
     "output_type": "stream",
     "text": [
      "constructor\n",
      "<__main__.MyInteger instance at 0x10e4e8e60>\n",
      "['__add__', '__doc__', '__init__', '__module__', 'integer']\n"
     ]
    }
   ],
   "source": [
    "\n",
    "class MyInteger():\n",
    "    def __init__(self, integer):\n",
    "        print \"constructor\"\n",
    "        self.integer = integer\n",
    "    def __add__(self, integer): # Overloaded '+' operator\n",
    "        if self.integer == 2 and integer == 2: \n",
    "            return 5\n",
    "        else:\n",
    "            return self.integer + integer\n",
    "a = MyInteger(2)\n",
    "print a\n",
    "print dir(a)"
   ]
  },
  {
   "cell_type": "code",
   "execution_count": 68,
   "metadata": {
    "collapsed": false
   },
   "outputs": [
    {
     "name": "stdout",
     "output_type": "stream",
     "text": [
      "5\n"
     ]
    }
   ],
   "source": [
    "print a + 2"
   ]
  },
  {
   "cell_type": "code",
   "execution_count": 69,
   "metadata": {
    "collapsed": false
   },
   "outputs": [
    {
     "name": "stdout",
     "output_type": "stream",
     "text": [
      "5\n"
     ]
    }
   ],
   "source": [
    "print a + 3"
   ]
  },
  {
   "cell_type": "code",
   "execution_count": 76,
   "metadata": {
    "collapsed": false
   },
   "outputs": [
    {
     "name": "stdout",
     "output_type": "stream",
     "text": [
      "constructor\n",
      "['__add__', '__doc__', '__init__', '__module__', '__str__', 'integer']\n",
      "2\n"
     ]
    }
   ],
   "source": [
    "class MyInteger():\n",
    "    def __init__(self, integer):\n",
    "        print \"constructor\"\n",
    "        self.integer = integer\n",
    "        \n",
    "    def __str__(self):\n",
    "        return str(self.integer)        \n",
    "    \n",
    "    def __add__(self, integer): # Overloaded '+' operator\n",
    "        if self.integer == 2 and integer == 2: \n",
    "            return 5\n",
    "        else:\n",
    "            return self.integer + integer\n",
    "a = MyInteger(2)\n",
    "print dir(a)\n",
    "print a"
   ]
  },
  {
   "cell_type": "code",
   "execution_count": 95,
   "metadata": {
    "collapsed": false
   },
   "outputs": [
    {
     "name": "stdout",
     "output_type": "stream",
     "text": [
      "['__doc__', '__module__', 'my_own']\n",
      "['__doc__', '__init__', '__module__', 'color', 'has_wheels', 'my_own']\n",
      "True\n",
      "['__doc__', '__init__', '__module__', 'color', 'has_wheels', 'my_own']\n",
      "False\n",
      "yellow\n"
     ]
    }
   ],
   "source": [
    "class Vehicle():\n",
    "    '''\n",
    "       help vehicle\n",
    "    '''\n",
    "    def my_own(self): \n",
    "        return True\n",
    "    \n",
    "class Bicycle(Vehicle):\n",
    "    def __init__(self, color): \n",
    "        self.color = color \n",
    "    def has_wheels(self): \n",
    "        return True\n",
    "    \n",
    "class rent_bike(Bicycle):\n",
    "    def my_own(self): \n",
    "        return False\n",
    "    \n",
    "v = Vehicle()\n",
    "print dir(v)\n",
    "#print help(v)\n",
    "\n",
    "\n",
    "b = Bicycle('red')\n",
    "print dir(b)\n",
    "print b.my_own()\n",
    "\n",
    "ubike = rent_bike('yellow')\n",
    "print dir(ubike)\n",
    "print ubike.my_own()\n",
    "print ubike.color"
   ]
  },
  {
   "cell_type": "code",
   "execution_count": 96,
   "metadata": {
    "collapsed": false
   },
   "outputs": [
    {
     "name": "stdout",
     "output_type": "stream",
     "text": [
      "<__main__.rent_bike instance at 0x10e4eeea8>\n"
     ]
    }
   ],
   "source": [
    "print ubike"
   ]
  },
  {
   "cell_type": "code",
   "execution_count": 99,
   "metadata": {
    "collapsed": true
   },
   "outputs": [],
   "source": [
    "class rent_bike(Bicycle):\n",
    "    def __str__(self): \n",
    "        return \"my bike is \" + self.color     \n",
    "    def my_own(self): \n",
    "        return False"
   ]
  },
  {
   "cell_type": "code",
   "execution_count": 100,
   "metadata": {
    "collapsed": false
   },
   "outputs": [
    {
     "name": "stdout",
     "output_type": "stream",
     "text": [
      "my bike is yellow\n"
     ]
    }
   ],
   "source": [
    "ubike = rent_bike('yellow')\n",
    "\n",
    "print ubike"
   ]
  },
  {
   "cell_type": "code",
   "execution_count": 103,
   "metadata": {
    "collapsed": false
   },
   "outputs": [
    {
     "name": "stdout",
     "output_type": "stream",
     "text": [
      "rent_bike is yellow\n"
     ]
    }
   ],
   "source": [
    "\n",
    "class Vehicle():\n",
    "    def my_own(self): return True\n",
    "class Bicycle(Vehicle):\n",
    "    def __init__(self, color): self.color = color\n",
    "    def has_wheels(self): return True\n",
    "    def __str__(self): return \"%s is %s\"%(self.__class__.__name__,self.color)\n",
    "class rent_bike(Bicycle):\n",
    "    def my_own(self): return False\n",
    "    \n",
    "Ubike = rent_bike('yellow') \n",
    "print Ubike\n"
   ]
  },
  {
   "cell_type": "code",
   "execution_count": 104,
   "metadata": {
    "collapsed": true
   },
   "outputs": [],
   "source": [
    "#Writing Hello World Into test.txt\n",
    "fid = open('test.txt', 'w') \n",
    "fid.write('Hello\\nWorld') \n",
    "fid.close()"
   ]
  },
  {
   "cell_type": "code",
   "execution_count": 111,
   "metadata": {
    "collapsed": false
   },
   "outputs": [
    {
     "name": "stdout",
     "output_type": "stream",
     "text": [
      "Hello\n",
      "Line: Hello\n",
      "World\n",
      "Line: World\n"
     ]
    }
   ],
   "source": [
    "fid = open('test.txt', 'r')\n",
    "for line in fid: # Using file identifier as iterator\n",
    "    print line.strip()\n",
    "    print(\"Line: \" + line.strip()) \n",
    "fid.close()"
   ]
  },
  {
   "cell_type": "code",
   "execution_count": 110,
   "metadata": {
    "collapsed": false
   },
   "outputs": [
    {
     "name": "stdout",
     "output_type": "stream",
     "text": [
      "<head>Hello\n",
      "World</head>\n"
     ]
    }
   ],
   "source": [
    "fid = open('test.txt', 'r')\n",
    "s = fid.read() # Read the entire file fid.close()\n",
    "print \"<head>\" + s + \"</head>\" "
   ]
  },
  {
   "cell_type": "code",
   "execution_count": 113,
   "metadata": {
    "collapsed": false
   },
   "outputs": [
    {
     "name": "stdout",
     "output_type": "stream",
     "text": [
      "2\n"
     ]
    }
   ],
   "source": [
    "fid = open('test.txt') \n",
    "k=0\n",
    "for line in fid:\n",
    "    k=k+1 \n",
    "print(k)\n",
    "fid.close()\n",
    "\n",
    "\n"
   ]
  },
  {
   "cell_type": "code",
   "execution_count": 117,
   "metadata": {
    "collapsed": false
   },
   "outputs": [
    {
     "name": "stdout",
     "output_type": "stream",
     "text": [
      "['Hello\\n', 'World']\n"
     ]
    }
   ],
   "source": [
    "print [line for line in open('test.txt')]"
   ]
  },
  {
   "cell_type": "code",
   "execution_count": 118,
   "metadata": {
    "collapsed": false
   },
   "outputs": [
    {
     "name": "stdout",
     "output_type": "stream",
     "text": [
      "['Hello\\n', 'World']\n"
     ]
    }
   ],
   "source": [
    "ary = []\n",
    "fid = open('test.txt', 'r')\n",
    "for line in fid:\n",
    "    ary.append(line)\n",
    "print ary"
   ]
  },
  {
   "cell_type": "code",
   "execution_count": 119,
   "metadata": {
    "collapsed": false
   },
   "outputs": [
    {
     "name": "stdout",
     "output_type": "stream",
     "text": [
      "5\n",
      "2\n"
     ]
    }
   ],
   "source": [
    "a = [1,2,3,4,5]\n",
    "print len(a)\n",
    "print len([line for line in open('test.txt')])"
   ]
  },
  {
   "cell_type": "code",
   "execution_count": 121,
   "metadata": {
    "collapsed": false
   },
   "outputs": [],
   "source": [
    "f = open('cnn.txt', 'r')\n",
    "for line in f:\n",
    "    #print line.strip()\n",
    "    pass # please mark this one and unmark last line\n",
    "f.close()"
   ]
  },
  {
   "cell_type": "code",
   "execution_count": 136,
   "metadata": {
    "collapsed": false
   },
   "outputs": [
    {
     "name": "stdout",
     "output_type": "stream",
     "text": [
      "('the', 30)\n",
      "the 30\n",
      "('in', 13)\n",
      "in 13\n",
      "('of', 12)\n",
      "of 12\n",
      "('and', 11)\n",
      "and 11\n",
      "('on', 10)\n",
      "on 10\n",
      "('a', 9)\n",
      "a 9\n",
      "('engine', 9)\n",
      "engine 9\n",
      "('to', 8)\n",
      "to 8\n",
      "('said', 5)\n",
      "said 5\n",
      "('was', 5)\n",
      "was 5\n"
     ]
    }
   ],
   "source": [
    "# read text from file cnn.txt\n",
    "f = open('cnn.txt', 'r')\n",
    "lines = f.read()\n",
    "f.close()\n",
    "\n",
    "# stat the occurance of each word\n",
    "dic = {}\n",
    "for word in lines.split():\n",
    "    if word in dic:\n",
    "        dic[word] += 1\n",
    "    else:\n",
    "        dic[word] = 1\n",
    "\n",
    "# print out dictionary\n",
    "#for ele in dic:\n",
    "#    print ele, dic[ele]\n",
    "\n",
    "#print dic.items()\n",
    "\n",
    "\n",
    "import operator\n",
    "sorted_x = sorted(dic.items(), key=operator.itemgetter(1), reverse=True) \n",
    "#print sorted_x\n",
    "#print sorted_x[0:10]\n",
    "#print sorted_x[10:30]\n",
    "\n",
    "\n",
    "for x in sorted_x[0:10]:\n",
    "    #print x\n",
    "    print x[0], x[1]"
   ]
  },
  {
   "cell_type": "code",
   "execution_count": 138,
   "metadata": {
    "collapsed": false
   },
   "outputs": [
    {
     "name": "stdout",
     "output_type": "stream",
     "text": [
      "[1, 2, 3, 4, 5, 6]\n",
      "['__add__', '__class__', '__contains__', '__delattr__', '__delitem__', '__delslice__', '__doc__', '__eq__', '__format__', '__ge__', '__getattribute__', '__getitem__', '__getslice__', '__gt__', '__hash__', '__iadd__', '__imul__', '__init__', '__iter__', '__le__', '__len__', '__lt__', '__mul__', '__ne__', '__new__', '__reduce__', '__reduce_ex__', '__repr__', '__reversed__', '__rmul__', '__setattr__', '__setitem__', '__setslice__', '__sizeof__', '__str__', '__subclasshook__', 'append', 'count', 'extend', 'index', 'insert', 'pop', 'remove', 'reverse', 'sort']\n"
     ]
    }
   ],
   "source": [
    "a = [1,2,3,4,5]\n",
    "a.append(6)\n",
    "print a\n",
    "print dir(a) #list"
   ]
  },
  {
   "cell_type": "code",
   "execution_count": 140,
   "metadata": {
    "collapsed": false
   },
   "outputs": [
    {
     "name": "stdout",
     "output_type": "stream",
     "text": [
      "['__add__', '__class__', '__contains__', '__delattr__', '__doc__', '__eq__', '__format__', '__ge__', '__getattribute__', '__getitem__', '__getnewargs__', '__getslice__', '__gt__', '__hash__', '__init__', '__iter__', '__le__', '__len__', '__lt__', '__mul__', '__ne__', '__new__', '__reduce__', '__reduce_ex__', '__repr__', '__rmul__', '__setattr__', '__sizeof__', '__str__', '__subclasshook__', 'count', 'index']\n"
     ]
    },
    {
     "ename": "AttributeError",
     "evalue": "'tuple' object has no attribute 'append'",
     "output_type": "error",
     "traceback": [
      "\u001b[0;31m---------------------------------------------------------------------------\u001b[0m",
      "\u001b[0;31mAttributeError\u001b[0m                            Traceback (most recent call last)",
      "\u001b[0;32m<ipython-input-140-7f538fc09316>\u001b[0m in \u001b[0;36m<module>\u001b[0;34m()\u001b[0m\n\u001b[1;32m      1\u001b[0m \u001b[0ma\u001b[0m\u001b[0;34m=\u001b[0m \u001b[0;34m(\u001b[0m\u001b[0;36m1\u001b[0m\u001b[0;34m,\u001b[0m\u001b[0;36m2\u001b[0m\u001b[0;34m,\u001b[0m\u001b[0;36m3\u001b[0m\u001b[0;34m,\u001b[0m\u001b[0;36m4\u001b[0m\u001b[0;34m,\u001b[0m\u001b[0;36m5\u001b[0m\u001b[0;34m)\u001b[0m\u001b[0;34m\u001b[0m\u001b[0m\n\u001b[1;32m      2\u001b[0m \u001b[0;32mprint\u001b[0m \u001b[0mdir\u001b[0m\u001b[0;34m(\u001b[0m\u001b[0ma\u001b[0m\u001b[0;34m)\u001b[0m\u001b[0;34m\u001b[0m\u001b[0m\n\u001b[0;32m----> 3\u001b[0;31m \u001b[0ma\u001b[0m\u001b[0;34m.\u001b[0m\u001b[0mappend\u001b[0m\u001b[0;34m(\u001b[0m\u001b[0;36m6\u001b[0m\u001b[0;34m)\u001b[0m\u001b[0;34m\u001b[0m\u001b[0m\n\u001b[0m",
      "\u001b[0;31mAttributeError\u001b[0m: 'tuple' object has no attribute 'append'"
     ]
    }
   ],
   "source": [
    "a= (1,2,3,4,5)\n",
    "print dir(a) # tuple\n",
    "a.append(6)"
   ]
  },
  {
   "cell_type": "code",
   "execution_count": 142,
   "metadata": {
    "collapsed": false
   },
   "outputs": [
    {
     "name": "stdout",
     "output_type": "stream",
     "text": [
      "1\n",
      "[1, 2, 3, 4, 5, 6]\n"
     ]
    }
   ],
   "source": [
    "a= (1,2,3,4,5)\n",
    "print a[0]\n",
    "a = list(a)\n",
    "a.append(6)\n",
    "print a"
   ]
  },
  {
   "cell_type": "code",
   "execution_count": null,
   "metadata": {
    "collapsed": true
   },
   "outputs": [],
   "source": []
  }
 ],
 "metadata": {
  "kernelspec": {
   "display_name": "Python 2",
   "language": "python",
   "name": "python2"
  },
  "language_info": {
   "codemirror_mode": {
    "name": "ipython",
    "version": 2
   },
   "file_extension": ".py",
   "mimetype": "text/x-python",
   "name": "python",
   "nbconvert_exporter": "python",
   "pygments_lexer": "ipython2",
   "version": "2.7.6"
  }
 },
 "nbformat": 4,
 "nbformat_minor": 0
}
